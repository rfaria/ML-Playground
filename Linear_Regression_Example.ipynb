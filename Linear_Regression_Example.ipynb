{
  "nbformat": 4,
  "nbformat_minor": 0,
  "metadata": {
    "colab": {
      "name": "Linear_Regression_Example.ipynb",
      "provenance": [],
      "collapsed_sections": [
        "840kEh63U7yy",
        "mNKAH8TqVD57"
      ],
      "authorship_tag": "ABX9TyPoRCO6Gc4ccWjKe6LBXnMX",
      "include_colab_link": true
    },
    "kernelspec": {
      "name": "python3",
      "display_name": "Python 3"
    },
    "language_info": {
      "name": "python"
    }
  },
  "cells": [
    {
      "cell_type": "markdown",
      "metadata": {
        "id": "view-in-github",
        "colab_type": "text"
      },
      "source": [
        "<a href=\"https://colab.research.google.com/github/rfaria/ML-Playground/blob/main/Linear_Regression_Example.ipynb\" target=\"_parent\"><img src=\"https://colab.research.google.com/assets/colab-badge.svg\" alt=\"Open In Colab\"/></a>"
      ]
    },
    {
      "cell_type": "code",
      "execution_count": 1,
      "metadata": {
        "id": "Qn2WhALm4Fa-"
      },
      "outputs": [],
      "source": [
        "import pandas as pd\n",
        "\n",
        "url = \"http://archive.ics.uci.edu/ml/machine-learning-databases/auto-mpg/auto-mpg.data\"\n",
        "column_names = ['MPG', 'Cylinders', 'Displacement', 'Horsepower', 'Weight', 'Acceleration', 'Model Year', 'Origin']\n",
        "df = pd.read_csv(url, names=column_names, na_values='?', \n",
        "                 comment='\\t', sep=' ', skipinitialspace=True)\n",
        "df.fillna(0, inplace=True)"
      ]
    },
    {
      "cell_type": "code",
      "source": [
        "df.shape"
      ],
      "metadata": {
        "colab": {
          "base_uri": "https://localhost:8080/"
        },
        "id": "iyKOtIjUUjUP",
        "outputId": "28caa794-82df-4639-8f3f-d06051e3f0f3"
      },
      "execution_count": 7,
      "outputs": [
        {
          "output_type": "execute_result",
          "data": {
            "text/plain": [
              "(398, 8)"
            ]
          },
          "metadata": {},
          "execution_count": 7
        }
      ]
    },
    {
      "cell_type": "code",
      "source": [
        "df.head()"
      ],
      "metadata": {
        "colab": {
          "base_uri": "https://localhost:8080/",
          "height": 206
        },
        "id": "W2xukhtH5z1m",
        "outputId": "51087e76-0a5e-421f-f20e-5b7073790d01"
      },
      "execution_count": 2,
      "outputs": [
        {
          "output_type": "execute_result",
          "data": {
            "text/plain": [
              "    MPG  Cylinders  Displacement  Horsepower  Weight  Acceleration  \\\n",
              "0  18.0          8         307.0       130.0  3504.0          12.0   \n",
              "1  15.0          8         350.0       165.0  3693.0          11.5   \n",
              "2  18.0          8         318.0       150.0  3436.0          11.0   \n",
              "3  16.0          8         304.0       150.0  3433.0          12.0   \n",
              "4  17.0          8         302.0       140.0  3449.0          10.5   \n",
              "\n",
              "   Model Year  Origin  \n",
              "0          70       1  \n",
              "1          70       1  \n",
              "2          70       1  \n",
              "3          70       1  \n",
              "4          70       1  "
            ],
            "text/html": [
              "\n",
              "  <div id=\"df-f16ebe75-c910-4646-8a56-e69d2e9c0585\">\n",
              "    <div class=\"colab-df-container\">\n",
              "      <div>\n",
              "<style scoped>\n",
              "    .dataframe tbody tr th:only-of-type {\n",
              "        vertical-align: middle;\n",
              "    }\n",
              "\n",
              "    .dataframe tbody tr th {\n",
              "        vertical-align: top;\n",
              "    }\n",
              "\n",
              "    .dataframe thead th {\n",
              "        text-align: right;\n",
              "    }\n",
              "</style>\n",
              "<table border=\"1\" class=\"dataframe\">\n",
              "  <thead>\n",
              "    <tr style=\"text-align: right;\">\n",
              "      <th></th>\n",
              "      <th>MPG</th>\n",
              "      <th>Cylinders</th>\n",
              "      <th>Displacement</th>\n",
              "      <th>Horsepower</th>\n",
              "      <th>Weight</th>\n",
              "      <th>Acceleration</th>\n",
              "      <th>Model Year</th>\n",
              "      <th>Origin</th>\n",
              "    </tr>\n",
              "  </thead>\n",
              "  <tbody>\n",
              "    <tr>\n",
              "      <th>0</th>\n",
              "      <td>18.0</td>\n",
              "      <td>8</td>\n",
              "      <td>307.0</td>\n",
              "      <td>130.0</td>\n",
              "      <td>3504.0</td>\n",
              "      <td>12.0</td>\n",
              "      <td>70</td>\n",
              "      <td>1</td>\n",
              "    </tr>\n",
              "    <tr>\n",
              "      <th>1</th>\n",
              "      <td>15.0</td>\n",
              "      <td>8</td>\n",
              "      <td>350.0</td>\n",
              "      <td>165.0</td>\n",
              "      <td>3693.0</td>\n",
              "      <td>11.5</td>\n",
              "      <td>70</td>\n",
              "      <td>1</td>\n",
              "    </tr>\n",
              "    <tr>\n",
              "      <th>2</th>\n",
              "      <td>18.0</td>\n",
              "      <td>8</td>\n",
              "      <td>318.0</td>\n",
              "      <td>150.0</td>\n",
              "      <td>3436.0</td>\n",
              "      <td>11.0</td>\n",
              "      <td>70</td>\n",
              "      <td>1</td>\n",
              "    </tr>\n",
              "    <tr>\n",
              "      <th>3</th>\n",
              "      <td>16.0</td>\n",
              "      <td>8</td>\n",
              "      <td>304.0</td>\n",
              "      <td>150.0</td>\n",
              "      <td>3433.0</td>\n",
              "      <td>12.0</td>\n",
              "      <td>70</td>\n",
              "      <td>1</td>\n",
              "    </tr>\n",
              "    <tr>\n",
              "      <th>4</th>\n",
              "      <td>17.0</td>\n",
              "      <td>8</td>\n",
              "      <td>302.0</td>\n",
              "      <td>140.0</td>\n",
              "      <td>3449.0</td>\n",
              "      <td>10.5</td>\n",
              "      <td>70</td>\n",
              "      <td>1</td>\n",
              "    </tr>\n",
              "  </tbody>\n",
              "</table>\n",
              "</div>\n",
              "      <button class=\"colab-df-convert\" onclick=\"convertToInteractive('df-f16ebe75-c910-4646-8a56-e69d2e9c0585')\"\n",
              "              title=\"Convert this dataframe to an interactive table.\"\n",
              "              style=\"display:none;\">\n",
              "        \n",
              "  <svg xmlns=\"http://www.w3.org/2000/svg\" height=\"24px\"viewBox=\"0 0 24 24\"\n",
              "       width=\"24px\">\n",
              "    <path d=\"M0 0h24v24H0V0z\" fill=\"none\"/>\n",
              "    <path d=\"M18.56 5.44l.94 2.06.94-2.06 2.06-.94-2.06-.94-.94-2.06-.94 2.06-2.06.94zm-11 1L8.5 8.5l.94-2.06 2.06-.94-2.06-.94L8.5 2.5l-.94 2.06-2.06.94zm10 10l.94 2.06.94-2.06 2.06-.94-2.06-.94-.94-2.06-.94 2.06-2.06.94z\"/><path d=\"M17.41 7.96l-1.37-1.37c-.4-.4-.92-.59-1.43-.59-.52 0-1.04.2-1.43.59L10.3 9.45l-7.72 7.72c-.78.78-.78 2.05 0 2.83L4 21.41c.39.39.9.59 1.41.59.51 0 1.02-.2 1.41-.59l7.78-7.78 2.81-2.81c.8-.78.8-2.07 0-2.86zM5.41 20L4 18.59l7.72-7.72 1.47 1.35L5.41 20z\"/>\n",
              "  </svg>\n",
              "      </button>\n",
              "      \n",
              "  <style>\n",
              "    .colab-df-container {\n",
              "      display:flex;\n",
              "      flex-wrap:wrap;\n",
              "      gap: 12px;\n",
              "    }\n",
              "\n",
              "    .colab-df-convert {\n",
              "      background-color: #E8F0FE;\n",
              "      border: none;\n",
              "      border-radius: 50%;\n",
              "      cursor: pointer;\n",
              "      display: none;\n",
              "      fill: #1967D2;\n",
              "      height: 32px;\n",
              "      padding: 0 0 0 0;\n",
              "      width: 32px;\n",
              "    }\n",
              "\n",
              "    .colab-df-convert:hover {\n",
              "      background-color: #E2EBFA;\n",
              "      box-shadow: 0px 1px 2px rgba(60, 64, 67, 0.3), 0px 1px 3px 1px rgba(60, 64, 67, 0.15);\n",
              "      fill: #174EA6;\n",
              "    }\n",
              "\n",
              "    [theme=dark] .colab-df-convert {\n",
              "      background-color: #3B4455;\n",
              "      fill: #D2E3FC;\n",
              "    }\n",
              "\n",
              "    [theme=dark] .colab-df-convert:hover {\n",
              "      background-color: #434B5C;\n",
              "      box-shadow: 0px 1px 3px 1px rgba(0, 0, 0, 0.15);\n",
              "      filter: drop-shadow(0px 1px 2px rgba(0, 0, 0, 0.3));\n",
              "      fill: #FFFFFF;\n",
              "    }\n",
              "  </style>\n",
              "\n",
              "      <script>\n",
              "        const buttonEl =\n",
              "          document.querySelector('#df-f16ebe75-c910-4646-8a56-e69d2e9c0585 button.colab-df-convert');\n",
              "        buttonEl.style.display =\n",
              "          google.colab.kernel.accessAllowed ? 'block' : 'none';\n",
              "\n",
              "        async function convertToInteractive(key) {\n",
              "          const element = document.querySelector('#df-f16ebe75-c910-4646-8a56-e69d2e9c0585');\n",
              "          const dataTable =\n",
              "            await google.colab.kernel.invokeFunction('convertToInteractive',\n",
              "                                                     [key], {});\n",
              "          if (!dataTable) return;\n",
              "\n",
              "          const docLinkHtml = 'Like what you see? Visit the ' +\n",
              "            '<a target=\"_blank\" href=https://colab.research.google.com/notebooks/data_table.ipynb>data table notebook</a>'\n",
              "            + ' to learn more about interactive tables.';\n",
              "          element.innerHTML = '';\n",
              "          dataTable['output_type'] = 'display_data';\n",
              "          await google.colab.output.renderOutput(dataTable, element);\n",
              "          const docLink = document.createElement('div');\n",
              "          docLink.innerHTML = docLinkHtml;\n",
              "          element.appendChild(docLink);\n",
              "        }\n",
              "      </script>\n",
              "    </div>\n",
              "  </div>\n",
              "  "
            ]
          },
          "metadata": {},
          "execution_count": 2
        }
      ]
    },
    {
      "cell_type": "markdown",
      "source": [
        "### Train Test Split"
      ],
      "metadata": {
        "id": "S2PkzeKkU3ys"
      }
    },
    {
      "cell_type": "code",
      "source": [
        "from sklearn.model_selection import train_test_split\n",
        "\n",
        "y = df['Horsepower']\n",
        "X = df.loc[:, df.columns != 'Horsepower']\n",
        "\n",
        "X_train, X_test, y_train, y_test = train_test_split(X, y, random_state=0)"
      ],
      "metadata": {
        "id": "BWxadUTS8bEk"
      },
      "execution_count": 8,
      "outputs": []
    },
    {
      "cell_type": "markdown",
      "source": [
        "### Simple Linear Regression"
      ],
      "metadata": {
        "id": "840kEh63U7yy"
      }
    },
    {
      "cell_type": "code",
      "source": [
        "from sklearn import linear_model\n",
        "reg = linear_model.LinearRegression()"
      ],
      "metadata": {
        "id": "hA_pq8hy518e"
      },
      "execution_count": 9,
      "outputs": []
    },
    {
      "cell_type": "code",
      "source": [
        "reg.fit(X_train, y_train)"
      ],
      "metadata": {
        "colab": {
          "base_uri": "https://localhost:8080/"
        },
        "id": "U7VAzNhvs05y",
        "outputId": "6101e73d-1f0e-4376-f2ca-8bf4f6b9de9b"
      },
      "execution_count": 10,
      "outputs": [
        {
          "output_type": "execute_result",
          "data": {
            "text/plain": [
              "LinearRegression()"
            ]
          },
          "metadata": {},
          "execution_count": 10
        }
      ]
    },
    {
      "cell_type": "code",
      "source": [
        "y_test_pred = reg.predict(X_test)"
      ],
      "metadata": {
        "id": "28kUOuTGs4km"
      },
      "execution_count": 11,
      "outputs": []
    },
    {
      "cell_type": "code",
      "source": [
        "import matplotlib.pyplot as plt\n",
        "\n",
        "plt.scatter(y_test, y_test_pred)"
      ],
      "metadata": {
        "colab": {
          "base_uri": "https://localhost:8080/",
          "height": 283
        },
        "id": "85UxQHoYtfOm",
        "outputId": "281f798a-7df3-4d33-c23a-a237e1ed51e1"
      },
      "execution_count": 12,
      "outputs": [
        {
          "output_type": "execute_result",
          "data": {
            "text/plain": [
              "<matplotlib.collections.PathCollection at 0x7f60a7136890>"
            ]
          },
          "metadata": {},
          "execution_count": 12
        },
        {
          "output_type": "display_data",
          "data": {
            "text/plain": [
              "<Figure size 432x288 with 1 Axes>"
            ],
            "image/png": "[encoded data removed]"
          },
          "metadata": {
            "needs_background": "light"
          }
        }
      ]
    },
    {
      "cell_type": "code",
      "source": [
        "from sklearn.metrics import mean_absolute_error\n",
        "\n",
        "mean_absolute_error(y_test, y_test_pred)"
      ],
      "metadata": {
        "colab": {
          "base_uri": "https://localhost:8080/"
        },
        "id": "JhGJiY0ruNOo",
        "outputId": "3cab7aeb-2dd7-4f12-bc3f-3c8f42ce3b47"
      },
      "execution_count": 13,
      "outputs": [
        {
          "output_type": "execute_result",
          "data": {
            "text/plain": [
              "9.898106932508282"
            ]
          },
          "metadata": {},
          "execution_count": 13
        }
      ]
    },
    {
      "cell_type": "code",
      "source": [
        "pd.DataFrame({\"y_test\": y_test, \"y_test_pred\": y_test_pred})"
      ],
      "metadata": {
        "colab": {
          "base_uri": "https://localhost:8080/",
          "height": 423
        },
        "id": "UwjeKwBOuTbL",
        "outputId": "e24f8d58-aede-4a1f-f5ba-45586c26f7ec"
      },
      "execution_count": 14,
      "outputs": [
        {
          "output_type": "execute_result",
          "data": {
            "text/plain": [
              "     y_test  y_test_pred\n",
              "65    153.0   157.975798\n",
              "132    75.0    78.996090\n",
              "74    140.0   140.294615\n",
              "78     87.0    82.309609\n",
              "37    100.0   115.013509\n",
              "..      ...          ...\n",
              "286   129.0   134.850390\n",
              "263   165.0   121.783151\n",
              "146    75.0    73.479770\n",
              "259    85.0    94.773738\n",
              "63    175.0   175.031339\n",
              "\n",
              "[100 rows x 2 columns]"
            ],
            "text/html": [
              "\n",
              "  <div id=\"df-dbc935b7-2733-4693-8081-744828c741ba\">\n",
              "    <div class=\"colab-df-container\">\n",
              "      <div>\n",
              "<style scoped>\n",
              "    .dataframe tbody tr th:only-of-type {\n",
              "        vertical-align: middle;\n",
              "    }\n",
              "\n",
              "    .dataframe tbody tr th {\n",
              "        vertical-align: top;\n",
              "    }\n",
              "\n",
              "    .dataframe thead th {\n",
              "        text-align: right;\n",
              "    }\n",
              "</style>\n",
              "<table border=\"1\" class=\"dataframe\">\n",
              "  <thead>\n",
              "    <tr style=\"text-align: right;\">\n",
              "      <th></th>\n",
              "      <th>y_test</th>\n",
              "      <th>y_test_pred</th>\n",
              "    </tr>\n",
              "  </thead>\n",
              "  <tbody>\n",
              "    <tr>\n",
              "      <th>65</th>\n",
              "      <td>153.0</td>\n",
              "      <td>157.975798</td>\n",
              "    </tr>\n",
              "    <tr>\n",
              "      <th>132</th>\n",
              "      <td>75.0</td>\n",
              "      <td>78.996090</td>\n",
              "    </tr>\n",
              "    <tr>\n",
              "      <th>74</th>\n",
              "      <td>140.0</td>\n",
              "      <td>140.294615</td>\n",
              "    </tr>\n",
              "    <tr>\n",
              "      <th>78</th>\n",
              "      <td>87.0</td>\n",
              "      <td>82.309609</td>\n",
              "    </tr>\n",
              "    <tr>\n",
              "      <th>37</th>\n",
              "      <td>100.0</td>\n",
              "      <td>115.013509</td>\n",
              "    </tr>\n",
              "    <tr>\n",
              "      <th>...</th>\n",
              "      <td>...</td>\n",
              "      <td>...</td>\n",
              "    </tr>\n",
              "    <tr>\n",
              "      <th>286</th>\n",
              "      <td>129.0</td>\n",
              "      <td>134.850390</td>\n",
              "    </tr>\n",
              "    <tr>\n",
              "      <th>263</th>\n",
              "      <td>165.0</td>\n",
              "      <td>121.783151</td>\n",
              "    </tr>\n",
              "    <tr>\n",
              "      <th>146</th>\n",
              "      <td>75.0</td>\n",
              "      <td>73.479770</td>\n",
              "    </tr>\n",
              "    <tr>\n",
              "      <th>259</th>\n",
              "      <td>85.0</td>\n",
              "      <td>94.773738</td>\n",
              "    </tr>\n",
              "    <tr>\n",
              "      <th>63</th>\n",
              "      <td>175.0</td>\n",
              "      <td>175.031339</td>\n",
              "    </tr>\n",
              "  </tbody>\n",
              "</table>\n",
              "<p>100 rows × 2 columns</p>\n",
              "</div>\n",
              "      <button class=\"colab-df-convert\" onclick=\"convertToInteractive('df-dbc935b7-2733-4693-8081-744828c741ba')\"\n",
              "              title=\"Convert this dataframe to an interactive table.\"\n",
              "              style=\"display:none;\">\n",
              "        \n",
              "  <svg xmlns=\"http://www.w3.org/2000/svg\" height=\"24px\"viewBox=\"0 0 24 24\"\n",
              "       width=\"24px\">\n",
              "    <path d=\"M0 0h24v24H0V0z\" fill=\"none\"/>\n",
              "    <path d=\"M18.56 5.44l.94 2.06.94-2.06 2.06-.94-2.06-.94-.94-2.06-.94 2.06-2.06.94zm-11 1L8.5 8.5l.94-2.06 2.06-.94-2.06-.94L8.5 2.5l-.94 2.06-2.06.94zm10 10l.94 2.06.94-2.06 2.06-.94-2.06-.94-.94-2.06-.94 2.06-2.06.94z\"/><path d=\"M17.41 7.96l-1.37-1.37c-.4-.4-.92-.59-1.43-.59-.52 0-1.04.2-1.43.59L10.3 9.45l-7.72 7.72c-.78.78-.78 2.05 0 2.83L4 21.41c.39.39.9.59 1.41.59.51 0 1.02-.2 1.41-.59l7.78-7.78 2.81-2.81c.8-.78.8-2.07 0-2.86zM5.41 20L4 18.59l7.72-7.72 1.47 1.35L5.41 20z\"/>\n",
              "  </svg>\n",
              "      </button>\n",
              "      \n",
              "  <style>\n",
              "    .colab-df-container {\n",
              "      display:flex;\n",
              "      flex-wrap:wrap;\n",
              "      gap: 12px;\n",
              "    }\n",
              "\n",
              "    .colab-df-convert {\n",
              "      background-color: #E8F0FE;\n",
              "      border: none;\n",
              "      border-radius: 50%;\n",
              "      cursor: pointer;\n",
              "      display: none;\n",
              "      fill: #1967D2;\n",
              "      height: 32px;\n",
              "      padding: 0 0 0 0;\n",
              "      width: 32px;\n",
              "    }\n",
              "\n",
              "    .colab-df-convert:hover {\n",
              "      background-color: #E2EBFA;\n",
              "      box-shadow: 0px 1px 2px rgba(60, 64, 67, 0.3), 0px 1px 3px 1px rgba(60, 64, 67, 0.15);\n",
              "      fill: #174EA6;\n",
              "    }\n",
              "\n",
              "    [theme=dark] .colab-df-convert {\n",
              "      background-color: #3B4455;\n",
              "      fill: #D2E3FC;\n",
              "    }\n",
              "\n",
              "    [theme=dark] .colab-df-convert:hover {\n",
              "      background-color: #434B5C;\n",
              "      box-shadow: 0px 1px 3px 1px rgba(0, 0, 0, 0.15);\n",
              "      filter: drop-shadow(0px 1px 2px rgba(0, 0, 0, 0.3));\n",
              "      fill: #FFFFFF;\n",
              "    }\n",
              "  </style>\n",
              "\n",
              "      <script>\n",
              "        const buttonEl =\n",
              "          document.querySelector('#df-dbc935b7-2733-4693-8081-744828c741ba button.colab-df-convert');\n",
              "        buttonEl.style.display =\n",
              "          google.colab.kernel.accessAllowed ? 'block' : 'none';\n",
              "\n",
              "        async function convertToInteractive(key) {\n",
              "          const element = document.querySelector('#df-dbc935b7-2733-4693-8081-744828c741ba');\n",
              "          const dataTable =\n",
              "            await google.colab.kernel.invokeFunction('convertToInteractive',\n",
              "                                                     [key], {});\n",
              "          if (!dataTable) return;\n",
              "\n",
              "          const docLinkHtml = 'Like what you see? Visit the ' +\n",
              "            '<a target=\"_blank\" href=https://colab.research.google.com/notebooks/data_table.ipynb>data table notebook</a>'\n",
              "            + ' to learn more about interactive tables.';\n",
              "          element.innerHTML = '';\n",
              "          dataTable['output_type'] = 'display_data';\n",
              "          await google.colab.output.renderOutput(dataTable, element);\n",
              "          const docLink = document.createElement('div');\n",
              "          docLink.innerHTML = docLinkHtml;\n",
              "          element.appendChild(docLink);\n",
              "        }\n",
              "      </script>\n",
              "    </div>\n",
              "  </div>\n",
              "  "
            ]
          },
          "metadata": {},
          "execution_count": 14
        }
      ]
    },
    {
      "cell_type": "markdown",
      "source": [
        "### Ridge Regression"
      ],
      "metadata": {
        "id": "mNKAH8TqVD57"
      }
    },
    {
      "cell_type": "code",
      "source": [
        "from sklearn import linear_model\n",
        "reg = linear_model.Ridge(alpha=0.25)"
      ],
      "metadata": {
        "id": "dkKu0YDuU1dr"
      },
      "execution_count": 21,
      "outputs": []
    },
    {
      "cell_type": "code",
      "source": [
        "reg.fit(X_train, y_train)"
      ],
      "metadata": {
        "colab": {
          "base_uri": "https://localhost:8080/"
        },
        "outputId": "41cf2fbf-e229-4485-90e2-6beecb7b7f9a",
        "id": "82Qbw5KyU1ds"
      },
      "execution_count": 22,
      "outputs": [
        {
          "output_type": "execute_result",
          "data": {
            "text/plain": [
              "Ridge(alpha=0.25)"
            ]
          },
          "metadata": {},
          "execution_count": 22
        }
      ]
    },
    {
      "cell_type": "code",
      "source": [
        "y_test_pred = reg.predict(X_test)"
      ],
      "metadata": {
        "id": "tepsrRNGU1ds"
      },
      "execution_count": 23,
      "outputs": []
    },
    {
      "cell_type": "code",
      "source": [
        "import matplotlib.pyplot as plt\n",
        "\n",
        "plt.scatter(y_test, y_test_pred)"
      ],
      "metadata": {
        "colab": {
          "base_uri": "https://localhost:8080/",
          "height": 283
        },
        "outputId": "62dff965-22ef-41ab-903b-3f0e41c342f1",
        "id": "LAlHGoxGU1dt"
      },
      "execution_count": 24,
      "outputs": [
        {
          "output_type": "execute_result",
          "data": {
            "text/plain": [
              "<matplotlib.collections.PathCollection at 0x7f60a6aad590>"
            ]
          },
          "metadata": {},
          "execution_count": 24
        },
        {
          "output_type": "display_data",
          "data": {
            "text/plain": [
              "<Figure size 432x288 with 1 Axes>"
            ],
            "image/png": "[encoded data removed]"
          },
          "metadata": {
            "needs_background": "light"
          }
        }
      ]
    },
    {
      "cell_type": "code",
      "source": [
        "from sklearn.metrics import mean_absolute_error\n",
        "\n",
        "mean_absolute_error(y_test, y_test_pred)"
      ],
      "metadata": {
        "colab": {
          "base_uri": "https://localhost:8080/"
        },
        "outputId": "75b3d2aa-96ac-4df6-910a-d5e045ec4e30",
        "id": "uX57iwPhU1dt"
      },
      "execution_count": 25,
      "outputs": [
        {
          "output_type": "execute_result",
          "data": {
            "text/plain": [
              "9.898097724171206"
            ]
          },
          "metadata": {},
          "execution_count": 25
        }
      ]
    },
    {
      "cell_type": "code",
      "source": [
        "pd.DataFrame({\"y_test\": y_test, \"y_test_pred\": y_test_pred})"
      ],
      "metadata": {
        "colab": {
          "base_uri": "https://localhost:8080/",
          "height": 423
        },
        "outputId": "15af60c3-c8c6-4904-f322-ec4c51352611",
        "id": "39uFGyKOU1dt"
      },
      "execution_count": 26,
      "outputs": [
        {
          "output_type": "execute_result",
          "data": {
            "text/plain": [
              "     y_test  y_test_pred\n",
              "65    153.0   157.973964\n",
              "132    75.0    79.006399\n",
              "74    140.0   140.300379\n",
              "78     87.0    82.305941\n",
              "37    100.0   115.020011\n",
              "..      ...          ...\n",
              "286   129.0   134.853992\n",
              "263   165.0   121.786352\n",
              "146    75.0    73.500547\n",
              "259    85.0    94.782440\n",
              "63    175.0   175.021948\n",
              "\n",
              "[100 rows x 2 columns]"
            ],
            "text/html": [
              "\n",
              "  <div id=\"df-a259d30f-2e61-4a1a-af10-3f737d38d750\">\n",
              "    <div class=\"colab-df-container\">\n",
              "      <div>\n",
              "<style scoped>\n",
              "    .dataframe tbody tr th:only-of-type {\n",
              "        vertical-align: middle;\n",
              "    }\n",
              "\n",
              "    .dataframe tbody tr th {\n",
              "        vertical-align: top;\n",
              "    }\n",
              "\n",
              "    .dataframe thead th {\n",
              "        text-align: right;\n",
              "    }\n",
              "</style>\n",
              "<table border=\"1\" class=\"dataframe\">\n",
              "  <thead>\n",
              "    <tr style=\"text-align: right;\">\n",
              "      <th></th>\n",
              "      <th>y_test</th>\n",
              "      <th>y_test_pred</th>\n",
              "    </tr>\n",
              "  </thead>\n",
              "  <tbody>\n",
              "    <tr>\n",
              "      <th>65</th>\n",
              "      <td>153.0</td>\n",
              "      <td>157.973964</td>\n",
              "    </tr>\n",
              "    <tr>\n",
              "      <th>132</th>\n",
              "      <td>75.0</td>\n",
              "      <td>79.006399</td>\n",
              "    </tr>\n",
              "    <tr>\n",
              "      <th>74</th>\n",
              "      <td>140.0</td>\n",
              "      <td>140.300379</td>\n",
              "    </tr>\n",
              "    <tr>\n",
              "      <th>78</th>\n",
              "      <td>87.0</td>\n",
              "      <td>82.305941</td>\n",
              "    </tr>\n",
              "    <tr>\n",
              "      <th>37</th>\n",
              "      <td>100.0</td>\n",
              "      <td>115.020011</td>\n",
              "    </tr>\n",
              "    <tr>\n",
              "      <th>...</th>\n",
              "      <td>...</td>\n",
              "      <td>...</td>\n",
              "    </tr>\n",
              "    <tr>\n",
              "      <th>286</th>\n",
              "      <td>129.0</td>\n",
              "      <td>134.853992</td>\n",
              "    </tr>\n",
              "    <tr>\n",
              "      <th>263</th>\n",
              "      <td>165.0</td>\n",
              "      <td>121.786352</td>\n",
              "    </tr>\n",
              "    <tr>\n",
              "      <th>146</th>\n",
              "      <td>75.0</td>\n",
              "      <td>73.500547</td>\n",
              "    </tr>\n",
              "    <tr>\n",
              "      <th>259</th>\n",
              "      <td>85.0</td>\n",
              "      <td>94.782440</td>\n",
              "    </tr>\n",
              "    <tr>\n",
              "      <th>63</th>\n",
              "      <td>175.0</td>\n",
              "      <td>175.021948</td>\n",
              "    </tr>\n",
              "  </tbody>\n",
              "</table>\n",
              "<p>100 rows × 2 columns</p>\n",
              "</div>\n",
              "      <button class=\"colab-df-convert\" onclick=\"convertToInteractive('df-a259d30f-2e61-4a1a-af10-3f737d38d750')\"\n",
              "              title=\"Convert this dataframe to an interactive table.\"\n",
              "              style=\"display:none;\">\n",
              "        \n",
              "  <svg xmlns=\"http://www.w3.org/2000/svg\" height=\"24px\"viewBox=\"0 0 24 24\"\n",
              "       width=\"24px\">\n",
              "    <path d=\"M0 0h24v24H0V0z\" fill=\"none\"/>\n",
              "    <path d=\"M18.56 5.44l.94 2.06.94-2.06 2.06-.94-2.06-.94-.94-2.06-.94 2.06-2.06.94zm-11 1L8.5 8.5l.94-2.06 2.06-.94-2.06-.94L8.5 2.5l-.94 2.06-2.06.94zm10 10l.94 2.06.94-2.06 2.06-.94-2.06-.94-.94-2.06-.94 2.06-2.06.94z\"/><path d=\"M17.41 7.96l-1.37-1.37c-.4-.4-.92-.59-1.43-.59-.52 0-1.04.2-1.43.59L10.3 9.45l-7.72 7.72c-.78.78-.78 2.05 0 2.83L4 21.41c.39.39.9.59 1.41.59.51 0 1.02-.2 1.41-.59l7.78-7.78 2.81-2.81c.8-.78.8-2.07 0-2.86zM5.41 20L4 18.59l7.72-7.72 1.47 1.35L5.41 20z\"/>\n",
              "  </svg>\n",
              "      </button>\n",
              "      \n",
              "  <style>\n",
              "    .colab-df-container {\n",
              "      display:flex;\n",
              "      flex-wrap:wrap;\n",
              "      gap: 12px;\n",
              "    }\n",
              "\n",
              "    .colab-df-convert {\n",
              "      background-color: #E8F0FE;\n",
              "      border: none;\n",
              "      border-radius: 50%;\n",
              "      cursor: pointer;\n",
              "      display: none;\n",
              "      fill: #1967D2;\n",
              "      height: 32px;\n",
              "      padding: 0 0 0 0;\n",
              "      width: 32px;\n",
              "    }\n",
              "\n",
              "    .colab-df-convert:hover {\n",
              "      background-color: #E2EBFA;\n",
              "      box-shadow: 0px 1px 2px rgba(60, 64, 67, 0.3), 0px 1px 3px 1px rgba(60, 64, 67, 0.15);\n",
              "      fill: #174EA6;\n",
              "    }\n",
              "\n",
              "    [theme=dark] .colab-df-convert {\n",
              "      background-color: #3B4455;\n",
              "      fill: #D2E3FC;\n",
              "    }\n",
              "\n",
              "    [theme=dark] .colab-df-convert:hover {\n",
              "      background-color: #434B5C;\n",
              "      box-shadow: 0px 1px 3px 1px rgba(0, 0, 0, 0.15);\n",
              "      filter: drop-shadow(0px 1px 2px rgba(0, 0, 0, 0.3));\n",
              "      fill: #FFFFFF;\n",
              "    }\n",
              "  </style>\n",
              "\n",
              "      <script>\n",
              "        const buttonEl =\n",
              "          document.querySelector('#df-a259d30f-2e61-4a1a-af10-3f737d38d750 button.colab-df-convert');\n",
              "        buttonEl.style.display =\n",
              "          google.colab.kernel.accessAllowed ? 'block' : 'none';\n",
              "\n",
              "        async function convertToInteractive(key) {\n",
              "          const element = document.querySelector('#df-a259d30f-2e61-4a1a-af10-3f737d38d750');\n",
              "          const dataTable =\n",
              "            await google.colab.kernel.invokeFunction('convertToInteractive',\n",
              "                                                     [key], {});\n",
              "          if (!dataTable) return;\n",
              "\n",
              "          const docLinkHtml = 'Like what you see? Visit the ' +\n",
              "            '<a target=\"_blank\" href=https://colab.research.google.com/notebooks/data_table.ipynb>data table notebook</a>'\n",
              "            + ' to learn more about interactive tables.';\n",
              "          element.innerHTML = '';\n",
              "          dataTable['output_type'] = 'display_data';\n",
              "          await google.colab.output.renderOutput(dataTable, element);\n",
              "          const docLink = document.createElement('div');\n",
              "          docLink.innerHTML = docLinkHtml;\n",
              "          element.appendChild(docLink);\n",
              "        }\n",
              "      </script>\n",
              "    </div>\n",
              "  </div>\n",
              "  "
            ]
          },
          "metadata": {},
          "execution_count": 26
        }
      ]
    },
    {
      "cell_type": "markdown",
      "source": [
        "### XGBoost Regression - Naive"
      ],
      "metadata": {
        "id": "A-StLmLqVpN6"
      }
    },
    {
      "cell_type": "code",
      "source": [
        "import xgboost as xgb\n",
        "reg = xgb.XGBRegressor(objective ='reg:linear', \n",
        "                       colsample_bytree = 0.3, \n",
        "                       learning_rate = 0.1, \n",
        "                       max_depth = 5, \n",
        "                       alpha = 10, \n",
        "                       n_estimators = 10)"
      ],
      "metadata": {
        "id": "Ir_mgkZRVpN6"
      },
      "execution_count": 27,
      "outputs": []
    },
    {
      "cell_type": "code",
      "source": [
        "reg.fit(X_train, y_train)"
      ],
      "metadata": {
        "colab": {
          "base_uri": "https://localhost:8080/"
        },
        "outputId": "db26671b-ebe7-4701-fac9-f4e4306f5628",
        "id": "xgXJNVojVpN7"
      },
      "execution_count": 28,
      "outputs": [
        {
          "output_type": "stream",
          "name": "stdout",
          "text": [
            "[18:46:36] WARNING: /workspace/src/objective/regression_obj.cu:152: reg:linear is now deprecated in favor of reg:squarederror.\n"
          ]
        },
        {
          "output_type": "execute_result",
          "data": {
            "text/plain": [
              "XGBRegressor(alpha=10, colsample_bytree=0.3, max_depth=5, n_estimators=10)"
            ]
          },
          "metadata": {},
          "execution_count": 28
        }
      ]
    },
    {
      "cell_type": "code",
      "source": [
        "y_test_pred = reg.predict(X_test)"
      ],
      "metadata": {
        "id": "CnqgChzjVpN7"
      },
      "execution_count": 29,
      "outputs": []
    },
    {
      "cell_type": "code",
      "source": [
        "import matplotlib.pyplot as plt\n",
        "\n",
        "plt.scatter(y_test, y_test_pred)"
      ],
      "metadata": {
        "colab": {
          "base_uri": "https://localhost:8080/",
          "height": 283
        },
        "outputId": "600418ee-d28f-44ea-cd3a-c4eab8db49a0",
        "id": "zJlmN3pSVpN8"
      },
      "execution_count": 30,
      "outputs": [
        {
          "output_type": "execute_result",
          "data": {
            "text/plain": [
              "<matplotlib.collections.PathCollection at 0x7f609dc70410>"
            ]
          },
          "metadata": {},
          "execution_count": 30
        },
        {
          "output_type": "display_data",
          "data": {
            "text/plain": [
              "<Figure size 432x288 with 1 Axes>"
            ],
            "image/png": "[encoded data removed]"
          },
          "metadata": {
            "needs_background": "light"
          }
        }
      ]
    },
    {
      "cell_type": "code",
      "source": [
        "from sklearn.metrics import mean_absolute_error\n",
        "\n",
        "mean_absolute_error(y_test, y_test_pred)"
      ],
      "metadata": {
        "colab": {
          "base_uri": "https://localhost:8080/"
        },
        "outputId": "8310cbe8-f879-40ff-c0c2-09aa38098ca5",
        "id": "KVnn5wYwVpN8"
      },
      "execution_count": 31,
      "outputs": [
        {
          "output_type": "execute_result",
          "data": {
            "text/plain": [
              "38.58723937988281"
            ]
          },
          "metadata": {},
          "execution_count": 31
        }
      ]
    },
    {
      "cell_type": "code",
      "source": [
        "pd.DataFrame({\"y_test\": y_test, \"y_test_pred\": y_test_pred})"
      ],
      "metadata": {
        "colab": {
          "base_uri": "https://localhost:8080/",
          "height": 423
        },
        "outputId": "b30b10c3-c380-4780-9a94-cb1a6dfb5496",
        "id": "BBuE7zbTVpN8"
      },
      "execution_count": 32,
      "outputs": [
        {
          "output_type": "execute_result",
          "data": {
            "text/plain": [
              "     y_test  y_test_pred\n",
              "65    153.0    98.743774\n",
              "132    75.0    59.407269\n",
              "74    140.0    91.374374\n",
              "78     87.0    53.434189\n",
              "37    100.0    65.531052\n",
              "..      ...          ...\n",
              "286   129.0    90.466347\n",
              "263   165.0    73.148033\n",
              "146    75.0    56.743656\n",
              "259    85.0    61.783558\n",
              "63    175.0   104.110611\n",
              "\n",
              "[100 rows x 2 columns]"
            ],
            "text/html": [
              "\n",
              "  <div id=\"df-9a9e3a66-087d-4d99-b112-35a9b8fb62d3\">\n",
              "    <div class=\"colab-df-container\">\n",
              "      <div>\n",
              "<style scoped>\n",
              "    .dataframe tbody tr th:only-of-type {\n",
              "        vertical-align: middle;\n",
              "    }\n",
              "\n",
              "    .dataframe tbody tr th {\n",
              "        vertical-align: top;\n",
              "    }\n",
              "\n",
              "    .dataframe thead th {\n",
              "        text-align: right;\n",
              "    }\n",
              "</style>\n",
              "<table border=\"1\" class=\"dataframe\">\n",
              "  <thead>\n",
              "    <tr style=\"text-align: right;\">\n",
              "      <th></th>\n",
              "      <th>y_test</th>\n",
              "      <th>y_test_pred</th>\n",
              "    </tr>\n",
              "  </thead>\n",
              "  <tbody>\n",
              "    <tr>\n",
              "      <th>65</th>\n",
              "      <td>153.0</td>\n",
              "      <td>98.743774</td>\n",
              "    </tr>\n",
              "    <tr>\n",
              "      <th>132</th>\n",
              "      <td>75.0</td>\n",
              "      <td>59.407269</td>\n",
              "    </tr>\n",
              "    <tr>\n",
              "      <th>74</th>\n",
              "      <td>140.0</td>\n",
              "      <td>91.374374</td>\n",
              "    </tr>\n",
              "    <tr>\n",
              "      <th>78</th>\n",
              "      <td>87.0</td>\n",
              "      <td>53.434189</td>\n",
              "    </tr>\n",
              "    <tr>\n",
              "      <th>37</th>\n",
              "      <td>100.0</td>\n",
              "      <td>65.531052</td>\n",
              "    </tr>\n",
              "    <tr>\n",
              "      <th>...</th>\n",
              "      <td>...</td>\n",
              "      <td>...</td>\n",
              "    </tr>\n",
              "    <tr>\n",
              "      <th>286</th>\n",
              "      <td>129.0</td>\n",
              "      <td>90.466347</td>\n",
              "    </tr>\n",
              "    <tr>\n",
              "      <th>263</th>\n",
              "      <td>165.0</td>\n",
              "      <td>73.148033</td>\n",
              "    </tr>\n",
              "    <tr>\n",
              "      <th>146</th>\n",
              "      <td>75.0</td>\n",
              "      <td>56.743656</td>\n",
              "    </tr>\n",
              "    <tr>\n",
              "      <th>259</th>\n",
              "      <td>85.0</td>\n",
              "      <td>61.783558</td>\n",
              "    </tr>\n",
              "    <tr>\n",
              "      <th>63</th>\n",
              "      <td>175.0</td>\n",
              "      <td>104.110611</td>\n",
              "    </tr>\n",
              "  </tbody>\n",
              "</table>\n",
              "<p>100 rows × 2 columns</p>\n",
              "</div>\n",
              "      <button class=\"colab-df-convert\" onclick=\"convertToInteractive('df-9a9e3a66-087d-4d99-b112-35a9b8fb62d3')\"\n",
              "              title=\"Convert this dataframe to an interactive table.\"\n",
              "              style=\"display:none;\">\n",
              "        \n",
              "  <svg xmlns=\"http://www.w3.org/2000/svg\" height=\"24px\"viewBox=\"0 0 24 24\"\n",
              "       width=\"24px\">\n",
              "    <path d=\"M0 0h24v24H0V0z\" fill=\"none\"/>\n",
              "    <path d=\"M18.56 5.44l.94 2.06.94-2.06 2.06-.94-2.06-.94-.94-2.06-.94 2.06-2.06.94zm-11 1L8.5 8.5l.94-2.06 2.06-.94-2.06-.94L8.5 2.5l-.94 2.06-2.06.94zm10 10l.94 2.06.94-2.06 2.06-.94-2.06-.94-.94-2.06-.94 2.06-2.06.94z\"/><path d=\"M17.41 7.96l-1.37-1.37c-.4-.4-.92-.59-1.43-.59-.52 0-1.04.2-1.43.59L10.3 9.45l-7.72 7.72c-.78.78-.78 2.05 0 2.83L4 21.41c.39.39.9.59 1.41.59.51 0 1.02-.2 1.41-.59l7.78-7.78 2.81-2.81c.8-.78.8-2.07 0-2.86zM5.41 20L4 18.59l7.72-7.72 1.47 1.35L5.41 20z\"/>\n",
              "  </svg>\n",
              "      </button>\n",
              "      \n",
              "  <style>\n",
              "    .colab-df-container {\n",
              "      display:flex;\n",
              "      flex-wrap:wrap;\n",
              "      gap: 12px;\n",
              "    }\n",
              "\n",
              "    .colab-df-convert {\n",
              "      background-color: #E8F0FE;\n",
              "      border: none;\n",
              "      border-radius: 50%;\n",
              "      cursor: pointer;\n",
              "      display: none;\n",
              "      fill: #1967D2;\n",
              "      height: 32px;\n",
              "      padding: 0 0 0 0;\n",
              "      width: 32px;\n",
              "    }\n",
              "\n",
              "    .colab-df-convert:hover {\n",
              "      background-color: #E2EBFA;\n",
              "      box-shadow: 0px 1px 2px rgba(60, 64, 67, 0.3), 0px 1px 3px 1px rgba(60, 64, 67, 0.15);\n",
              "      fill: #174EA6;\n",
              "    }\n",
              "\n",
              "    [theme=dark] .colab-df-convert {\n",
              "      background-color: #3B4455;\n",
              "      fill: #D2E3FC;\n",
              "    }\n",
              "\n",
              "    [theme=dark] .colab-df-convert:hover {\n",
              "      background-color: #434B5C;\n",
              "      box-shadow: 0px 1px 3px 1px rgba(0, 0, 0, 0.15);\n",
              "      filter: drop-shadow(0px 1px 2px rgba(0, 0, 0, 0.3));\n",
              "      fill: #FFFFFF;\n",
              "    }\n",
              "  </style>\n",
              "\n",
              "      <script>\n",
              "        const buttonEl =\n",
              "          document.querySelector('#df-9a9e3a66-087d-4d99-b112-35a9b8fb62d3 button.colab-df-convert');\n",
              "        buttonEl.style.display =\n",
              "          google.colab.kernel.accessAllowed ? 'block' : 'none';\n",
              "\n",
              "        async function convertToInteractive(key) {\n",
              "          const element = document.querySelector('#df-9a9e3a66-087d-4d99-b112-35a9b8fb62d3');\n",
              "          const dataTable =\n",
              "            await google.colab.kernel.invokeFunction('convertToInteractive',\n",
              "                                                     [key], {});\n",
              "          if (!dataTable) return;\n",
              "\n",
              "          const docLinkHtml = 'Like what you see? Visit the ' +\n",
              "            '<a target=\"_blank\" href=https://colab.research.google.com/notebooks/data_table.ipynb>data table notebook</a>'\n",
              "            + ' to learn more about interactive tables.';\n",
              "          element.innerHTML = '';\n",
              "          dataTable['output_type'] = 'display_data';\n",
              "          await google.colab.output.renderOutput(dataTable, element);\n",
              "          const docLink = document.createElement('div');\n",
              "          docLink.innerHTML = docLinkHtml;\n",
              "          element.appendChild(docLink);\n",
              "        }\n",
              "      </script>\n",
              "    </div>\n",
              "  </div>\n",
              "  "
            ]
          },
          "metadata": {},
          "execution_count": 32
        }
      ]
    },
    {
      "cell_type": "markdown",
      "source": [
        "### XGBoost Regression - Hyperparameters Optimization\n",
        "\n"
      ],
      "metadata": {
        "id": "fMfH09qeWc03"
      }
    },
    {
      "cell_type": "code",
      "source": [
        "!pip install optuna"
      ],
      "metadata": {
        "colab": {
          "base_uri": "https://localhost:8080/"
        },
        "id": "QdhWT6nGg0lA",
        "outputId": "690c9af4-5db2-4acd-800a-c4b63c5d7858"
      },
      "execution_count": 58,
      "outputs": [
        {
          "output_type": "stream",
          "name": "stdout",
          "text": [
            "Collecting optuna\n",
            "  Downloading optuna-2.10.0-py3-none-any.whl (308 kB)\n",
            "\u001b[?25l\r\u001b[K     |█                               | 10 kB 16.0 MB/s eta 0:00:01\r\u001b[K     |██▏                             | 20 kB 19.0 MB/s eta 0:00:01\r\u001b[K     |███▏                            | 30 kB 7.8 MB/s eta 0:00:01\r\u001b[K     |████▎                           | 40 kB 6.8 MB/s eta 0:00:01\r\u001b[K     |█████▎                          | 51 kB 3.7 MB/s eta 0:00:01\r\u001b[K     |██████▍                         | 61 kB 4.4 MB/s eta 0:00:01\r\u001b[K     |███████▍                        | 71 kB 4.5 MB/s eta 0:00:01\r\u001b[K     |████████▌                       | 81 kB 4.7 MB/s eta 0:00:01\r\u001b[K     |█████████▋                      | 92 kB 5.2 MB/s eta 0:00:01\r\u001b[K     |██████████▋                     | 102 kB 4.3 MB/s eta 0:00:01\r\u001b[K     |███████████▊                    | 112 kB 4.3 MB/s eta 0:00:01\r\u001b[K     |████████████▊                   | 122 kB 4.3 MB/s eta 0:00:01\r\u001b[K     |█████████████▉                  | 133 kB 4.3 MB/s eta 0:00:01\r\u001b[K     |██████████████▉                 | 143 kB 4.3 MB/s eta 0:00:01\r\u001b[K     |████████████████                | 153 kB 4.3 MB/s eta 0:00:01\r\u001b[K     |█████████████████               | 163 kB 4.3 MB/s eta 0:00:01\r\u001b[K     |██████████████████              | 174 kB 4.3 MB/s eta 0:00:01\r\u001b[K     |███████████████████▏            | 184 kB 4.3 MB/s eta 0:00:01\r\u001b[K     |████████████████████▏           | 194 kB 4.3 MB/s eta 0:00:01\r\u001b[K     |█████████████████████▎          | 204 kB 4.3 MB/s eta 0:00:01\r\u001b[K     |██████████████████████▎         | 215 kB 4.3 MB/s eta 0:00:01\r\u001b[K     |███████████████████████▍        | 225 kB 4.3 MB/s eta 0:00:01\r\u001b[K     |████████████████████████▌       | 235 kB 4.3 MB/s eta 0:00:01\r\u001b[K     |█████████████████████████▌      | 245 kB 4.3 MB/s eta 0:00:01\r\u001b[K     |██████████████████████████▋     | 256 kB 4.3 MB/s eta 0:00:01\r\u001b[K     |███████████████████████████▋    | 266 kB 4.3 MB/s eta 0:00:01\r\u001b[K     |████████████████████████████▊   | 276 kB 4.3 MB/s eta 0:00:01\r\u001b[K     |█████████████████████████████▊  | 286 kB 4.3 MB/s eta 0:00:01\r\u001b[K     |██████████████████████████████▉ | 296 kB 4.3 MB/s eta 0:00:01\r\u001b[K     |████████████████████████████████| 307 kB 4.3 MB/s eta 0:00:01\r\u001b[K     |████████████████████████████████| 308 kB 4.3 MB/s \n",
            "\u001b[?25hRequirement already satisfied: sqlalchemy>=1.1.0 in /usr/local/lib/python3.7/dist-packages (from optuna) (1.4.35)\n",
            "Collecting alembic\n",
            "  Downloading alembic-1.7.7-py3-none-any.whl (210 kB)\n",
            "\u001b[K     |████████████████████████████████| 210 kB 36.3 MB/s \n",
            "\u001b[?25hCollecting colorlog\n",
            "  Downloading colorlog-6.6.0-py2.py3-none-any.whl (11 kB)\n",
            "Requirement already satisfied: PyYAML in /usr/local/lib/python3.7/dist-packages (from optuna) (3.13)\n",
            "Collecting cmaes>=0.8.2\n",
            "  Downloading cmaes-0.8.2-py3-none-any.whl (15 kB)\n",
            "Requirement already satisfied: tqdm in /usr/local/lib/python3.7/dist-packages (from optuna) (4.64.0)\n",
            "Requirement already satisfied: scipy!=1.4.0 in /usr/local/lib/python3.7/dist-packages (from optuna) (1.4.1)\n",
            "Requirement already satisfied: packaging>=20.0 in /usr/local/lib/python3.7/dist-packages (from optuna) (21.3)\n",
            "Requirement already satisfied: numpy in /usr/local/lib/python3.7/dist-packages (from optuna) (1.21.6)\n",
            "Collecting cliff\n",
            "  Downloading cliff-3.10.1-py3-none-any.whl (81 kB)\n",
            "\u001b[K     |████████████████████████████████| 81 kB 7.9 MB/s \n",
            "\u001b[?25hRequirement already satisfied: pyparsing!=3.0.5,>=2.0.2 in /usr/local/lib/python3.7/dist-packages (from packaging>=20.0->optuna) (3.0.8)\n",
            "Requirement already satisfied: importlib-metadata in /usr/local/lib/python3.7/dist-packages (from sqlalchemy>=1.1.0->optuna) (4.11.3)\n",
            "Requirement already satisfied: greenlet!=0.4.17 in /usr/local/lib/python3.7/dist-packages (from sqlalchemy>=1.1.0->optuna) (1.1.2)\n",
            "Requirement already satisfied: importlib-resources in /usr/local/lib/python3.7/dist-packages (from alembic->optuna) (5.7.1)\n",
            "Collecting Mako\n",
            "  Downloading Mako-1.2.0-py3-none-any.whl (78 kB)\n",
            "\u001b[K     |████████████████████████████████| 78 kB 6.4 MB/s \n",
            "\u001b[?25hCollecting stevedore>=2.0.1\n",
            "  Downloading stevedore-3.5.0-py3-none-any.whl (49 kB)\n",
            "\u001b[K     |████████████████████████████████| 49 kB 5.0 MB/s \n",
            "\u001b[?25hCollecting autopage>=0.4.0\n",
            "  Downloading autopage-0.5.0-py3-none-any.whl (29 kB)\n",
            "Requirement already satisfied: PrettyTable>=0.7.2 in /usr/local/lib/python3.7/dist-packages (from cliff->optuna) (3.2.0)\n",
            "Collecting pbr!=2.1.0,>=2.0.0\n",
            "  Downloading pbr-5.8.1-py2.py3-none-any.whl (113 kB)\n",
            "\u001b[K     |████████████████████████████████| 113 kB 36.4 MB/s \n",
            "\u001b[?25hCollecting cmd2>=1.0.0\n",
            "  Downloading cmd2-2.4.1-py3-none-any.whl (146 kB)\n",
            "\u001b[K     |████████████████████████████████| 146 kB 33.6 MB/s \n",
            "\u001b[?25hRequirement already satisfied: attrs>=16.3.0 in /usr/local/lib/python3.7/dist-packages (from cmd2>=1.0.0->cliff->optuna) (21.4.0)\n",
            "Requirement already satisfied: typing-extensions in /usr/local/lib/python3.7/dist-packages (from cmd2>=1.0.0->cliff->optuna) (4.2.0)\n",
            "Collecting pyperclip>=1.6\n",
            "  Downloading pyperclip-1.8.2.tar.gz (20 kB)\n",
            "Requirement already satisfied: wcwidth>=0.1.7 in /usr/local/lib/python3.7/dist-packages (from cmd2>=1.0.0->cliff->optuna) (0.2.5)\n",
            "Requirement already satisfied: zipp>=0.5 in /usr/local/lib/python3.7/dist-packages (from importlib-metadata->sqlalchemy>=1.1.0->optuna) (3.8.0)\n",
            "Requirement already satisfied: MarkupSafe>=0.9.2 in /usr/local/lib/python3.7/dist-packages (from Mako->alembic->optuna) (2.0.1)\n",
            "Building wheels for collected packages: pyperclip\n",
            "  Building wheel for pyperclip (setup.py) ... \u001b[?25l\u001b[?25hdone\n",
            "  Created wheel for pyperclip: filename=pyperclip-1.8.2-py3-none-any.whl size=11137 sha256=6b87220467f1146012d9784ef23f1f400ee7e77f4e9955456a61e797c38aefca\n",
            "  Stored in directory: /root/.cache/pip/wheels/9f/18/84/8f69f8b08169c7bae2dde6bd7daf0c19fca8c8e500ee620a28\n",
            "Successfully built pyperclip\n",
            "Installing collected packages: pyperclip, pbr, stevedore, Mako, cmd2, autopage, colorlog, cmaes, cliff, alembic, optuna\n",
            "Successfully installed Mako-1.2.0 alembic-1.7.7 autopage-0.5.0 cliff-3.10.1 cmaes-0.8.2 cmd2-2.4.1 colorlog-6.6.0 optuna-2.10.0 pbr-5.8.1 pyperclip-1.8.2 stevedore-3.5.0\n"
          ]
        }
      ]
    },
    {
      "cell_type": "code",
      "source": [
        "from sklearn.metrics import mean_squared_error\n",
        "import optuna\n",
        "\n",
        "def objective(trial,data=X,target=y):\n",
        "    \n",
        "    train_x, test_x, train_y, test_y = train_test_split(X, y, test_size=0.15,random_state=123)\n",
        "    param = {\n",
        "        'tree_method':'hist',\n",
        "        'lambda': trial.suggest_loguniform('lambda', 1e-3, 10.0),\n",
        "        'alpha': trial.suggest_loguniform('alpha', 1e-3, 10.0),\n",
        "        'colsample_bytree': trial.suggest_categorical('colsample_bytree', [0.3,0.4,0.5,0.6,0.7,0.8,0.9, 1.0]),\n",
        "        'subsample': trial.suggest_categorical('subsample', [0.4,0.5,0.6,0.7,0.8,1.0]),\n",
        "        'learning_rate': trial.suggest_categorical('learning_rate', [0.008,0.009,0.01,0.012,0.014,0.016,0.018, 0.02]),\n",
        "        'n_estimators': 4000,\n",
        "        'max_depth': trial.suggest_categorical('max_depth', [5,7,9,11,13,15,17,20]),\n",
        "        'random_state': trial.suggest_categorical('random_state', [24, 48,2020]),\n",
        "        'min_child_weight': trial.suggest_int('min_child_weight', 1, 300),\n",
        "    }\n",
        "    model = xgb.XGBRegressor(**param)  \n",
        "    \n",
        "    model.fit(train_x,train_y,eval_set=[(test_x,test_y)],early_stopping_rounds=100,verbose=False)\n",
        "    \n",
        "    preds = model.predict(test_x)\n",
        "    \n",
        "    rmse = mean_squared_error(test_y, preds,squared=False)\n",
        "    \n",
        "    return rmse"
      ],
      "metadata": {
        "id": "up-eFsETgGAD"
      },
      "execution_count": 62,
      "outputs": []
    },
    {
      "cell_type": "code",
      "source": [
        "study = optuna.create_study(direction='minimize')\n",
        "study.optimize(objective, n_trials=50)\n",
        "print('Number of finished trials:', len(study.trials))\n",
        "print('Best trial:', study.best_trial.params)"
      ],
      "metadata": {
        "colab": {
          "base_uri": "https://localhost:8080/"
        },
        "id": "bAohZVwNWxJb",
        "outputId": "82e006d3-6b8d-4a04-e3eb-75fb8bf95595"
      },
      "execution_count": 63,
      "outputs": [
        {
          "output_type": "stream",
          "name": "stderr",
          "text": [
            "\u001b[32m[I 2022-04-27 19:35:28,380]\u001b[0m A new study created in memory with name: no-name-0e8f36df-7f41-4fc9-96db-69d172c5b2de\u001b[0m\n"
          ]
        },
        {
          "output_type": "stream",
          "name": "stdout",
          "text": [
            "[19:35:28] WARNING: /workspace/src/objective/regression_obj.cu:152: reg:linear is now deprecated in favor of reg:squarederror.\n"
          ]
        },
        {
          "output_type": "stream",
          "name": "stderr",
          "text": [
            "\u001b[32m[I 2022-04-27 19:35:29,087]\u001b[0m Trial 0 finished with value: 40.422642174243244 and parameters: {'lambda': 2.9642557807439482, 'alpha': 0.004181171855125556, 'colsample_bytree': 0.5, 'subsample': 1.0, 'learning_rate': 0.009, 'max_depth': 13, 'random_state': 48, 'min_child_weight': 232}. Best is trial 0 with value: 40.422642174243244.\u001b[0m\n"
          ]
        },
        {
          "output_type": "stream",
          "name": "stdout",
          "text": [
            "[19:35:29] WARNING: /workspace/src/objective/regression_obj.cu:152: reg:linear is now deprecated in favor of reg:squarederror.\n"
          ]
        },
        {
          "output_type": "stream",
          "name": "stderr",
          "text": [
            "\u001b[32m[I 2022-04-27 19:35:29,677]\u001b[0m Trial 1 finished with value: 40.422642695297206 and parameters: {'lambda': 0.014965922662259346, 'alpha': 0.048051916543446815, 'colsample_bytree': 0.4, 'subsample': 0.5, 'learning_rate': 0.012, 'max_depth': 15, 'random_state': 48, 'min_child_weight': 278}. Best is trial 0 with value: 40.422642174243244.\u001b[0m\n"
          ]
        },
        {
          "output_type": "stream",
          "name": "stdout",
          "text": [
            "[19:35:29] WARNING: /workspace/src/objective/regression_obj.cu:152: reg:linear is now deprecated in favor of reg:squarederror.\n"
          ]
        },
        {
          "output_type": "stream",
          "name": "stderr",
          "text": [
            "\u001b[32m[I 2022-04-27 19:35:29,933]\u001b[0m Trial 2 finished with value: 40.422642317178926 and parameters: {'lambda': 0.6914296418463952, 'alpha': 7.518693151712953, 'colsample_bytree': 0.3, 'subsample': 1.0, 'learning_rate': 0.02, 'max_depth': 11, 'random_state': 2020, 'min_child_weight': 263}. Best is trial 0 with value: 40.422642174243244.\u001b[0m\n"
          ]
        },
        {
          "output_type": "stream",
          "name": "stdout",
          "text": [
            "[19:35:29] WARNING: /workspace/src/objective/regression_obj.cu:152: reg:linear is now deprecated in favor of reg:squarederror.\n"
          ]
        },
        {
          "output_type": "stream",
          "name": "stderr",
          "text": [
            "\u001b[32m[I 2022-04-27 19:35:30,321]\u001b[0m Trial 3 finished with value: 40.422642450478136 and parameters: {'lambda': 0.0013769818836999155, 'alpha': 0.0011115696623222415, 'colsample_bytree': 0.4, 'subsample': 0.4, 'learning_rate': 0.012, 'max_depth': 9, 'random_state': 48, 'min_child_weight': 81}. Best is trial 0 with value: 40.422642174243244.\u001b[0m\n"
          ]
        },
        {
          "output_type": "stream",
          "name": "stdout",
          "text": [
            "[19:35:30] WARNING: /workspace/src/objective/regression_obj.cu:152: reg:linear is now deprecated in favor of reg:squarederror.\n"
          ]
        },
        {
          "output_type": "stream",
          "name": "stderr",
          "text": [
            "\u001b[32m[I 2022-04-27 19:35:30,966]\u001b[0m Trial 4 finished with value: 12.976027121452853 and parameters: {'lambda': 0.07458762684821876, 'alpha': 3.8701518903648644, 'colsample_bytree': 0.8, 'subsample': 0.5, 'learning_rate': 0.012, 'max_depth': 20, 'random_state': 24, 'min_child_weight': 11}. Best is trial 4 with value: 12.976027121452853.\u001b[0m\n"
          ]
        },
        {
          "output_type": "stream",
          "name": "stdout",
          "text": [
            "[19:35:30] WARNING: /workspace/src/objective/regression_obj.cu:152: reg:linear is now deprecated in favor of reg:squarederror.\n"
          ]
        },
        {
          "output_type": "stream",
          "name": "stderr",
          "text": [
            "\u001b[32m[I 2022-04-27 19:35:31,257]\u001b[0m Trial 5 finished with value: 40.42264230569137 and parameters: {'lambda': 0.005819104649994918, 'alpha': 0.001174078859964391, 'colsample_bytree': 0.9, 'subsample': 0.8, 'learning_rate': 0.018, 'max_depth': 15, 'random_state': 48, 'min_child_weight': 231}. Best is trial 4 with value: 12.976027121452853.\u001b[0m\n"
          ]
        },
        {
          "output_type": "stream",
          "name": "stdout",
          "text": [
            "[19:35:31] WARNING: /workspace/src/objective/regression_obj.cu:152: reg:linear is now deprecated in favor of reg:squarederror.\n"
          ]
        },
        {
          "output_type": "stream",
          "name": "stderr",
          "text": [
            "\u001b[32m[I 2022-04-27 19:35:31,564]\u001b[0m Trial 6 finished with value: 40.42264302348789 and parameters: {'lambda': 0.022474339594011815, 'alpha': 0.11179462765189561, 'colsample_bytree': 0.5, 'subsample': 0.5, 'learning_rate': 0.016, 'max_depth': 7, 'random_state': 2020, 'min_child_weight': 176}. Best is trial 4 with value: 12.976027121452853.\u001b[0m\n"
          ]
        },
        {
          "output_type": "stream",
          "name": "stdout",
          "text": [
            "[19:35:31] WARNING: /workspace/src/objective/regression_obj.cu:152: reg:linear is now deprecated in favor of reg:squarederror.\n"
          ]
        },
        {
          "output_type": "stream",
          "name": "stderr",
          "text": [
            "\u001b[32m[I 2022-04-27 19:35:32,079]\u001b[0m Trial 7 finished with value: 21.632795229807563 and parameters: {'lambda': 8.380526849686387, 'alpha': 0.008143482393630956, 'colsample_bytree': 0.8, 'subsample': 0.8, 'learning_rate': 0.012, 'max_depth': 13, 'random_state': 24, 'min_child_weight': 115}. Best is trial 4 with value: 12.976027121452853.\u001b[0m\n"
          ]
        },
        {
          "output_type": "stream",
          "name": "stdout",
          "text": [
            "[19:35:32] WARNING: /workspace/src/objective/regression_obj.cu:152: reg:linear is now deprecated in favor of reg:squarederror.\n"
          ]
        },
        {
          "output_type": "stream",
          "name": "stderr",
          "text": [
            "\u001b[32m[I 2022-04-27 19:35:32,463]\u001b[0m Trial 8 finished with value: 14.52015331820405 and parameters: {'lambda': 0.006630558856092312, 'alpha': 0.009454450785717845, 'colsample_bytree': 0.9, 'subsample': 0.6, 'learning_rate': 0.02, 'max_depth': 7, 'random_state': 24, 'min_child_weight': 37}. Best is trial 4 with value: 12.976027121452853.\u001b[0m\n"
          ]
        },
        {
          "output_type": "stream",
          "name": "stdout",
          "text": [
            "[19:35:32] WARNING: /workspace/src/objective/regression_obj.cu:152: reg:linear is now deprecated in favor of reg:squarederror.\n"
          ]
        },
        {
          "output_type": "stream",
          "name": "stderr",
          "text": [
            "\u001b[32m[I 2022-04-27 19:35:32,944]\u001b[0m Trial 9 finished with value: 40.42264275729727 and parameters: {'lambda': 0.07458120961926222, 'alpha': 1.170594080375287, 'colsample_bytree': 0.9, 'subsample': 0.7, 'learning_rate': 0.009, 'max_depth': 17, 'random_state': 2020, 'min_child_weight': 202}. Best is trial 4 with value: 12.976027121452853.\u001b[0m\n"
          ]
        },
        {
          "output_type": "stream",
          "name": "stdout",
          "text": [
            "[19:35:32] WARNING: /workspace/src/objective/regression_obj.cu:152: reg:linear is now deprecated in favor of reg:squarederror.\n"
          ]
        },
        {
          "output_type": "stream",
          "name": "stderr",
          "text": [
            "\u001b[32m[I 2022-04-27 19:35:33,930]\u001b[0m Trial 10 finished with value: 13.023379250058735 and parameters: {'lambda': 0.4829662656609358, 'alpha': 9.614411585049716, 'colsample_bytree': 0.6, 'subsample': 0.5, 'learning_rate': 0.008, 'max_depth': 20, 'random_state': 24, 'min_child_weight': 11}. Best is trial 4 with value: 12.976027121452853.\u001b[0m\n"
          ]
        },
        {
          "output_type": "stream",
          "name": "stdout",
          "text": [
            "[19:35:33] WARNING: /workspace/src/objective/regression_obj.cu:152: reg:linear is now deprecated in favor of reg:squarederror.\n"
          ]
        },
        {
          "output_type": "stream",
          "name": "stderr",
          "text": [
            "\u001b[32m[I 2022-04-27 19:35:35,035]\u001b[0m Trial 11 finished with value: 13.10472991912463 and parameters: {'lambda': 0.3598956527996676, 'alpha': 7.292486618260863, 'colsample_bytree': 0.6, 'subsample': 0.5, 'learning_rate': 0.008, 'max_depth': 20, 'random_state': 24, 'min_child_weight': 2}. Best is trial 4 with value: 12.976027121452853.\u001b[0m\n"
          ]
        },
        {
          "output_type": "stream",
          "name": "stdout",
          "text": [
            "[19:35:35] WARNING: /workspace/src/objective/regression_obj.cu:152: reg:linear is now deprecated in favor of reg:squarederror.\n"
          ]
        },
        {
          "output_type": "stream",
          "name": "stderr",
          "text": [
            "\u001b[32m[I 2022-04-27 19:35:36,129]\u001b[0m Trial 12 finished with value: 20.01440209954164 and parameters: {'lambda': 0.2558310275048836, 'alpha': 0.9501035856882435, 'colsample_bytree': 1.0, 'subsample': 0.5, 'learning_rate': 0.014, 'max_depth': 20, 'random_state': 24, 'min_child_weight': 61}. Best is trial 4 with value: 12.976027121452853.\u001b[0m\n"
          ]
        },
        {
          "output_type": "stream",
          "name": "stdout",
          "text": [
            "[19:35:36] WARNING: /workspace/src/objective/regression_obj.cu:152: reg:linear is now deprecated in favor of reg:squarederror.\n"
          ]
        },
        {
          "output_type": "stream",
          "name": "stderr",
          "text": [
            "\u001b[32m[I 2022-04-27 19:35:36,681]\u001b[0m Trial 13 finished with value: 40.42264593641534 and parameters: {'lambda': 0.09816477586509217, 'alpha': 1.5914802139565878, 'colsample_bytree': 0.6, 'subsample': 0.5, 'learning_rate': 0.008, 'max_depth': 20, 'random_state': 24, 'min_child_weight': 122}. Best is trial 4 with value: 12.976027121452853.\u001b[0m\n"
          ]
        },
        {
          "output_type": "stream",
          "name": "stdout",
          "text": [
            "[19:35:36] WARNING: /workspace/src/objective/regression_obj.cu:152: reg:linear is now deprecated in favor of reg:squarederror.\n"
          ]
        },
        {
          "output_type": "stream",
          "name": "stderr",
          "text": [
            "\u001b[32m[I 2022-04-27 19:35:37,438]\u001b[0m Trial 14 finished with value: 12.302439532218907 and parameters: {'lambda': 1.31712687361966, 'alpha': 0.2805420260407594, 'colsample_bytree': 0.8, 'subsample': 0.4, 'learning_rate': 0.01, 'max_depth': 5, 'random_state': 24, 'min_child_weight': 2}. Best is trial 14 with value: 12.302439532218907.\u001b[0m\n"
          ]
        },
        {
          "output_type": "stream",
          "name": "stdout",
          "text": [
            "[19:35:37] WARNING: /workspace/src/objective/regression_obj.cu:152: reg:linear is now deprecated in favor of reg:squarederror.\n"
          ]
        },
        {
          "output_type": "stream",
          "name": "stderr",
          "text": [
            "\u001b[32m[I 2022-04-27 19:35:40,390]\u001b[0m Trial 15 finished with value: 24.25861719820378 and parameters: {'lambda': 1.8589259150665831, 'alpha': 0.22446304261490457, 'colsample_bytree': 0.8, 'subsample': 0.4, 'learning_rate': 0.01, 'max_depth': 5, 'random_state': 24, 'min_child_weight': 75}. Best is trial 14 with value: 12.302439532218907.\u001b[0m\n"
          ]
        },
        {
          "output_type": "stream",
          "name": "stdout",
          "text": [
            "[19:35:40] WARNING: /workspace/src/objective/regression_obj.cu:152: reg:linear is now deprecated in favor of reg:squarederror.\n"
          ]
        },
        {
          "output_type": "stream",
          "name": "stderr",
          "text": [
            "\u001b[32m[I 2022-04-27 19:35:41,609]\u001b[0m Trial 16 finished with value: 16.817914798118203 and parameters: {'lambda': 0.05871844578209169, 'alpha': 0.421676060389288, 'colsample_bytree': 0.8, 'subsample': 0.4, 'learning_rate': 0.01, 'max_depth': 5, 'random_state': 24, 'min_child_weight': 40}. Best is trial 14 with value: 12.302439532218907.\u001b[0m\n"
          ]
        },
        {
          "output_type": "stream",
          "name": "stdout",
          "text": [
            "[19:35:41] WARNING: /workspace/src/objective/regression_obj.cu:152: reg:linear is now deprecated in favor of reg:squarederror.\n"
          ]
        },
        {
          "output_type": "stream",
          "name": "stderr",
          "text": [
            "\u001b[32m[I 2022-04-27 19:35:42,569]\u001b[0m Trial 17 finished with value: 21.834252630837934 and parameters: {'lambda': 1.691818737067726, 'alpha': 0.039035759052868296, 'colsample_bytree': 0.7, 'subsample': 0.7, 'learning_rate': 0.01, 'max_depth': 17, 'random_state': 24, 'min_child_weight': 117}. Best is trial 14 with value: 12.302439532218907.\u001b[0m\n"
          ]
        },
        {
          "output_type": "stream",
          "name": "stdout",
          "text": [
            "[19:35:42] WARNING: /workspace/src/objective/regression_obj.cu:152: reg:linear is now deprecated in favor of reg:squarederror.\n"
          ]
        },
        {
          "output_type": "stream",
          "name": "stderr",
          "text": [
            "\u001b[32m[I 2022-04-27 19:35:43,004]\u001b[0m Trial 18 finished with value: 14.250474947515801 and parameters: {'lambda': 7.73347008546487, 'alpha': 2.553341984340309, 'colsample_bytree': 0.8, 'subsample': 0.6, 'learning_rate': 0.018, 'max_depth': 5, 'random_state': 24, 'min_child_weight': 27}. Best is trial 14 with value: 12.302439532218907.\u001b[0m\n"
          ]
        },
        {
          "output_type": "stream",
          "name": "stdout",
          "text": [
            "[19:35:43] WARNING: /workspace/src/objective/regression_obj.cu:152: reg:linear is now deprecated in favor of reg:squarederror.\n"
          ]
        },
        {
          "output_type": "stream",
          "name": "stderr",
          "text": [
            "\u001b[32m[I 2022-04-27 19:35:43,372]\u001b[0m Trial 19 finished with value: 40.42264401957904 and parameters: {'lambda': 0.20217631128107966, 'alpha': 0.4035307324317401, 'colsample_bytree': 0.8, 'subsample': 0.4, 'learning_rate': 0.014, 'max_depth': 9, 'random_state': 2020, 'min_child_weight': 154}. Best is trial 14 with value: 12.302439532218907.\u001b[0m\n"
          ]
        },
        {
          "output_type": "stream",
          "name": "stdout",
          "text": [
            "[19:35:43] WARNING: /workspace/src/objective/regression_obj.cu:152: reg:linear is now deprecated in favor of reg:squarederror.\n"
          ]
        },
        {
          "output_type": "stream",
          "name": "stderr",
          "text": [
            "\u001b[32m[I 2022-04-27 19:35:43,776]\u001b[0m Trial 20 finished with value: 21.410920874542573 and parameters: {'lambda': 0.031116679654910842, 'alpha': 0.08016751349416755, 'colsample_bytree': 0.7, 'subsample': 0.4, 'learning_rate': 0.016, 'max_depth': 11, 'random_state': 24, 'min_child_weight': 60}. Best is trial 14 with value: 12.302439532218907.\u001b[0m\n"
          ]
        },
        {
          "output_type": "stream",
          "name": "stdout",
          "text": [
            "[19:35:43] WARNING: /workspace/src/objective/regression_obj.cu:152: reg:linear is now deprecated in favor of reg:squarederror.\n"
          ]
        },
        {
          "output_type": "stream",
          "name": "stderr",
          "text": [
            "\u001b[32m[I 2022-04-27 19:35:44,908]\u001b[0m Trial 21 finished with value: 13.10472991912463 and parameters: {'lambda': 0.6292888188261382, 'alpha': 3.9732673980549658, 'colsample_bytree': 0.6, 'subsample': 0.5, 'learning_rate': 0.008, 'max_depth': 20, 'random_state': 24, 'min_child_weight': 2}. Best is trial 14 with value: 12.302439532218907.\u001b[0m\n"
          ]
        },
        {
          "output_type": "stream",
          "name": "stdout",
          "text": [
            "[19:35:44] WARNING: /workspace/src/objective/regression_obj.cu:152: reg:linear is now deprecated in favor of reg:squarederror.\n"
          ]
        },
        {
          "output_type": "stream",
          "name": "stderr",
          "text": [
            "\u001b[32m[I 2022-04-27 19:35:46,500]\u001b[0m Trial 22 finished with value: 12.96353443378719 and parameters: {'lambda': 0.8413135968232328, 'alpha': 9.796090374565276, 'colsample_bytree': 1.0, 'subsample': 0.5, 'learning_rate': 0.012, 'max_depth': 20, 'random_state': 24, 'min_child_weight': 1}. Best is trial 14 with value: 12.302439532218907.\u001b[0m\n"
          ]
        },
        {
          "output_type": "stream",
          "name": "stdout",
          "text": [
            "[19:35:46] WARNING: /workspace/src/objective/regression_obj.cu:152: reg:linear is now deprecated in favor of reg:squarederror.\n"
          ]
        },
        {
          "output_type": "stream",
          "name": "stderr",
          "text": [
            "\u001b[32m[I 2022-04-27 19:35:47,087]\u001b[0m Trial 23 finished with value: 14.620507238825184 and parameters: {'lambda': 1.0077223222199694, 'alpha': 3.0603147368710273, 'colsample_bytree': 1.0, 'subsample': 0.5, 'learning_rate': 0.012, 'max_depth': 5, 'random_state': 24, 'min_child_weight': 33}. Best is trial 14 with value: 12.302439532218907.\u001b[0m\n"
          ]
        },
        {
          "output_type": "stream",
          "name": "stdout",
          "text": [
            "[19:35:47] WARNING: /workspace/src/objective/regression_obj.cu:152: reg:linear is now deprecated in favor of reg:squarederror.\n"
          ]
        },
        {
          "output_type": "stream",
          "name": "stderr",
          "text": [
            "\u001b[32m[I 2022-04-27 19:35:47,617]\u001b[0m Trial 24 finished with value: 21.661089315526265 and parameters: {'lambda': 3.7083214461031173, 'alpha': 0.7456535609035468, 'colsample_bytree': 1.0, 'subsample': 0.6, 'learning_rate': 0.012, 'max_depth': 20, 'random_state': 24, 'min_child_weight': 97}. Best is trial 14 with value: 12.302439532218907.\u001b[0m\n"
          ]
        },
        {
          "output_type": "stream",
          "name": "stdout",
          "text": [
            "[19:35:47] WARNING: /workspace/src/objective/regression_obj.cu:152: reg:linear is now deprecated in favor of reg:squarederror.\n"
          ]
        },
        {
          "output_type": "stream",
          "name": "stderr",
          "text": [
            "\u001b[32m[I 2022-04-27 19:35:48,151]\u001b[0m Trial 25 finished with value: 15.259825645646519 and parameters: {'lambda': 0.17826580667260797, 'alpha': 2.418544350325745, 'colsample_bytree': 0.3, 'subsample': 1.0, 'learning_rate': 0.01, 'max_depth': 20, 'random_state': 24, 'min_child_weight': 52}. Best is trial 14 with value: 12.302439532218907.\u001b[0m\n"
          ]
        },
        {
          "output_type": "stream",
          "name": "stdout",
          "text": [
            "[19:35:48] WARNING: /workspace/src/objective/regression_obj.cu:152: reg:linear is now deprecated in favor of reg:squarederror.\n"
          ]
        },
        {
          "output_type": "stream",
          "name": "stderr",
          "text": [
            "\u001b[32m[I 2022-04-27 19:35:49,365]\u001b[0m Trial 26 finished with value: 13.21409404897218 and parameters: {'lambda': 1.2295333378179312, 'alpha': 4.843419172184714, 'colsample_bytree': 1.0, 'subsample': 0.8, 'learning_rate': 0.012, 'max_depth': 5, 'random_state': 24, 'min_child_weight': 18}. Best is trial 14 with value: 12.302439532218907.\u001b[0m\n"
          ]
        },
        {
          "output_type": "stream",
          "name": "stdout",
          "text": [
            "[19:35:49] WARNING: /workspace/src/objective/regression_obj.cu:152: reg:linear is now deprecated in favor of reg:squarederror.\n"
          ]
        },
        {
          "output_type": "stream",
          "name": "stderr",
          "text": [
            "\u001b[32m[I 2022-04-27 19:35:49,939]\u001b[0m Trial 27 finished with value: 20.534843360618716 and parameters: {'lambda': 2.9970775075415355, 'alpha': 0.22106915405824007, 'colsample_bytree': 0.8, 'subsample': 0.7, 'learning_rate': 0.012, 'max_depth': 20, 'random_state': 24, 'min_child_weight': 83}. Best is trial 14 with value: 12.302439532218907.\u001b[0m\n"
          ]
        },
        {
          "output_type": "stream",
          "name": "stdout",
          "text": [
            "[19:35:49] WARNING: /workspace/src/objective/regression_obj.cu:152: reg:linear is now deprecated in favor of reg:squarederror.\n"
          ]
        },
        {
          "output_type": "stream",
          "name": "stderr",
          "text": [
            "\u001b[32m[I 2022-04-27 19:35:50,677]\u001b[0m Trial 28 finished with value: 14.127684671359312 and parameters: {'lambda': 0.15252390396551774, 'alpha': 0.586486169176992, 'colsample_bytree': 0.8, 'subsample': 0.4, 'learning_rate': 0.01, 'max_depth': 7, 'random_state': 48, 'min_child_weight': 23}. Best is trial 14 with value: 12.302439532218907.\u001b[0m\n"
          ]
        },
        {
          "output_type": "stream",
          "name": "stdout",
          "text": [
            "[19:35:50] WARNING: /workspace/src/objective/regression_obj.cu:152: reg:linear is now deprecated in favor of reg:squarederror.\n"
          ]
        },
        {
          "output_type": "stream",
          "name": "stderr",
          "text": [
            "\u001b[32m[I 2022-04-27 19:35:51,320]\u001b[0m Trial 29 finished with value: 15.082160679919584 and parameters: {'lambda': 4.546046550053231, 'alpha': 0.018718326166563836, 'colsample_bytree': 0.5, 'subsample': 1.0, 'learning_rate': 0.009, 'max_depth': 13, 'random_state': 2020, 'min_child_weight': 51}. Best is trial 14 with value: 12.302439532218907.\u001b[0m\n"
          ]
        },
        {
          "output_type": "stream",
          "name": "stdout",
          "text": [
            "[19:35:51] WARNING: /workspace/src/objective/regression_obj.cu:152: reg:linear is now deprecated in favor of reg:squarederror.\n"
          ]
        },
        {
          "output_type": "stream",
          "name": "stderr",
          "text": [
            "\u001b[32m[I 2022-04-27 19:35:51,727]\u001b[0m Trial 30 finished with value: 40.422642695297206 and parameters: {'lambda': 0.04706673416531834, 'alpha': 2.131696513483698, 'colsample_bytree': 1.0, 'subsample': 0.5, 'learning_rate': 0.012, 'max_depth': 9, 'random_state': 48, 'min_child_weight': 148}. Best is trial 14 with value: 12.302439532218907.\u001b[0m\n"
          ]
        },
        {
          "output_type": "stream",
          "name": "stdout",
          "text": [
            "[19:35:51] WARNING: /workspace/src/objective/regression_obj.cu:152: reg:linear is now deprecated in favor of reg:squarederror.\n"
          ]
        },
        {
          "output_type": "stream",
          "name": "stderr",
          "text": [
            "\u001b[32m[I 2022-04-27 19:35:52,752]\u001b[0m Trial 31 finished with value: 12.583533787101159 and parameters: {'lambda': 0.46476499456097414, 'alpha': 9.50362677695563, 'colsample_bytree': 0.6, 'subsample': 0.5, 'learning_rate': 0.008, 'max_depth': 20, 'random_state': 24, 'min_child_weight': 7}. Best is trial 14 with value: 12.302439532218907.\u001b[0m\n"
          ]
        },
        {
          "output_type": "stream",
          "name": "stdout",
          "text": [
            "[19:35:52] WARNING: /workspace/src/objective/regression_obj.cu:152: reg:linear is now deprecated in favor of reg:squarederror.\n"
          ]
        },
        {
          "output_type": "stream",
          "name": "stderr",
          "text": [
            "\u001b[32m[I 2022-04-27 19:35:53,588]\u001b[0m Trial 32 finished with value: 14.165686948129277 and parameters: {'lambda': 0.3031814613120523, 'alpha': 5.046716569331233, 'colsample_bytree': 0.4, 'subsample': 0.5, 'learning_rate': 0.008, 'max_depth': 20, 'random_state': 24, 'min_child_weight': 16}. Best is trial 14 with value: 12.302439532218907.\u001b[0m\n"
          ]
        },
        {
          "output_type": "stream",
          "name": "stdout",
          "text": [
            "[19:35:53] WARNING: /workspace/src/objective/regression_obj.cu:152: reg:linear is now deprecated in favor of reg:squarederror.\n"
          ]
        },
        {
          "output_type": "stream",
          "name": "stderr",
          "text": [
            "\u001b[32m[I 2022-04-27 19:35:54,119]\u001b[0m Trial 33 finished with value: 12.526844986831874 and parameters: {'lambda': 0.8404188853006873, 'alpha': 8.385224845487395, 'colsample_bytree': 0.6, 'subsample': 0.5, 'learning_rate': 0.02, 'max_depth': 15, 'random_state': 24, 'min_child_weight': 3}. Best is trial 14 with value: 12.302439532218907.\u001b[0m\n"
          ]
        },
        {
          "output_type": "stream",
          "name": "stdout",
          "text": [
            "[19:35:54] WARNING: /workspace/src/objective/regression_obj.cu:152: reg:linear is now deprecated in favor of reg:squarederror.\n"
          ]
        },
        {
          "output_type": "stream",
          "name": "stderr",
          "text": [
            "\u001b[32m[I 2022-04-27 19:35:54,669]\u001b[0m Trial 34 finished with value: 15.099656964064849 and parameters: {'lambda': 0.8736204466588994, 'alpha': 9.929525341882028, 'colsample_bytree': 0.6, 'subsample': 0.5, 'learning_rate': 0.02, 'max_depth': 15, 'random_state': 24, 'min_child_weight': 40}. Best is trial 14 with value: 12.302439532218907.\u001b[0m\n"
          ]
        },
        {
          "output_type": "stream",
          "name": "stdout",
          "text": [
            "[19:35:54] WARNING: /workspace/src/objective/regression_obj.cu:152: reg:linear is now deprecated in favor of reg:squarederror.\n"
          ]
        },
        {
          "output_type": "stream",
          "name": "stderr",
          "text": [
            "\u001b[32m[I 2022-04-27 19:35:55,015]\u001b[0m Trial 35 finished with value: 21.283965766111656 and parameters: {'lambda': 1.8528649840656595, 'alpha': 5.7507039935739686, 'colsample_bytree': 0.6, 'subsample': 0.5, 'learning_rate': 0.02, 'max_depth': 15, 'random_state': 48, 'min_child_weight': 73}. Best is trial 14 with value: 12.302439532218907.\u001b[0m\n"
          ]
        },
        {
          "output_type": "stream",
          "name": "stdout",
          "text": [
            "[19:35:55] WARNING: /workspace/src/objective/regression_obj.cu:152: reg:linear is now deprecated in favor of reg:squarederror.\n"
          ]
        },
        {
          "output_type": "stream",
          "name": "stderr",
          "text": [
            "\u001b[32m[I 2022-04-27 19:35:55,454]\u001b[0m Trial 36 finished with value: 12.922145133564333 and parameters: {'lambda': 0.5041773619081779, 'alpha': 1.484787722147571, 'colsample_bytree': 0.6, 'subsample': 1.0, 'learning_rate': 0.02, 'max_depth': 15, 'random_state': 24, 'min_child_weight': 5}. Best is trial 14 with value: 12.302439532218907.\u001b[0m\n"
          ]
        },
        {
          "output_type": "stream",
          "name": "stdout",
          "text": [
            "[19:35:55] WARNING: /workspace/src/objective/regression_obj.cu:152: reg:linear is now deprecated in favor of reg:squarederror.\n"
          ]
        },
        {
          "output_type": "stream",
          "name": "stderr",
          "text": [
            "\u001b[32m[I 2022-04-27 19:35:55,722]\u001b[0m Trial 37 finished with value: 40.422642317178926 and parameters: {'lambda': 0.5047713698110095, 'alpha': 1.4324678647698283, 'colsample_bytree': 0.6, 'subsample': 1.0, 'learning_rate': 0.02, 'max_depth': 15, 'random_state': 2020, 'min_child_weight': 292}. Best is trial 14 with value: 12.302439532218907.\u001b[0m\n"
          ]
        },
        {
          "output_type": "stream",
          "name": "stdout",
          "text": [
            "[19:35:55] WARNING: /workspace/src/objective/regression_obj.cu:152: reg:linear is now deprecated in favor of reg:squarederror.\n"
          ]
        },
        {
          "output_type": "stream",
          "name": "stderr",
          "text": [
            "\u001b[32m[I 2022-04-27 19:35:55,987]\u001b[0m Trial 38 finished with value: 40.422642317178926 and parameters: {'lambda': 0.1335037097276087, 'alpha': 0.19498881441192714, 'colsample_bytree': 0.6, 'subsample': 1.0, 'learning_rate': 0.02, 'max_depth': 15, 'random_state': 24, 'min_child_weight': 244}. Best is trial 14 with value: 12.302439532218907.\u001b[0m\n"
          ]
        },
        {
          "output_type": "stream",
          "name": "stdout",
          "text": [
            "[19:35:56] WARNING: /workspace/src/objective/regression_obj.cu:152: reg:linear is now deprecated in favor of reg:squarederror.\n"
          ]
        },
        {
          "output_type": "stream",
          "name": "stderr",
          "text": [
            "\u001b[32m[I 2022-04-27 19:35:56,321]\u001b[0m Trial 39 finished with value: 14.586841111059032 and parameters: {'lambda': 0.4307113037739535, 'alpha': 1.7275602718515308, 'colsample_bytree': 0.3, 'subsample': 1.0, 'learning_rate': 0.02, 'max_depth': 15, 'random_state': 48, 'min_child_weight': 27}. Best is trial 14 with value: 12.302439532218907.\u001b[0m\n"
          ]
        },
        {
          "output_type": "stream",
          "name": "stdout",
          "text": [
            "[19:35:56] WARNING: /workspace/src/objective/regression_obj.cu:152: reg:linear is now deprecated in favor of reg:squarederror.\n"
          ]
        },
        {
          "output_type": "stream",
          "name": "stderr",
          "text": [
            "\u001b[32m[I 2022-04-27 19:35:56,763]\u001b[0m Trial 40 finished with value: 20.750737034103302 and parameters: {'lambda': 5.530841054652775, 'alpha': 0.1122085358372445, 'colsample_bytree': 0.4, 'subsample': 0.8, 'learning_rate': 0.018, 'max_depth': 11, 'random_state': 24, 'min_child_weight': 95}. Best is trial 14 with value: 12.302439532218907.\u001b[0m\n"
          ]
        },
        {
          "output_type": "stream",
          "name": "stdout",
          "text": [
            "[19:35:56] WARNING: /workspace/src/objective/regression_obj.cu:152: reg:linear is now deprecated in favor of reg:squarederror.\n"
          ]
        },
        {
          "output_type": "stream",
          "name": "stderr",
          "text": [
            "\u001b[32m[I 2022-04-27 19:35:58,321]\u001b[0m Trial 41 finished with value: 12.601972164517836 and parameters: {'lambda': 1.0800390989718782, 'alpha': 6.696577199513192, 'colsample_bytree': 0.6, 'subsample': 1.0, 'learning_rate': 0.02, 'max_depth': 15, 'random_state': 24, 'min_child_weight': 1}. Best is trial 14 with value: 12.302439532218907.\u001b[0m\n"
          ]
        },
        {
          "output_type": "stream",
          "name": "stdout",
          "text": [
            "[19:35:58] WARNING: /workspace/src/objective/regression_obj.cu:152: reg:linear is now deprecated in favor of reg:squarederror.\n"
          ]
        },
        {
          "output_type": "stream",
          "name": "stderr",
          "text": [
            "\u001b[32m[I 2022-04-27 19:35:59,886]\u001b[0m Trial 42 finished with value: 12.601972164517836 and parameters: {'lambda': 2.201392599408144, 'alpha': 3.8023624643868366, 'colsample_bytree': 0.6, 'subsample': 1.0, 'learning_rate': 0.02, 'max_depth': 15, 'random_state': 24, 'min_child_weight': 1}. Best is trial 14 with value: 12.302439532218907.\u001b[0m\n"
          ]
        },
        {
          "output_type": "stream",
          "name": "stdout",
          "text": [
            "[19:35:59] WARNING: /workspace/src/objective/regression_obj.cu:152: reg:linear is now deprecated in favor of reg:squarederror.\n"
          ]
        },
        {
          "output_type": "stream",
          "name": "stderr",
          "text": [
            "\u001b[32m[I 2022-04-27 19:36:00,283]\u001b[0m Trial 43 finished with value: 13.113863249956626 and parameters: {'lambda': 2.405725918556444, 'alpha': 0.0021333397373242387, 'colsample_bytree': 0.6, 'subsample': 1.0, 'learning_rate': 0.02, 'max_depth': 15, 'random_state': 24, 'min_child_weight': 19}. Best is trial 14 with value: 12.302439532218907.\u001b[0m\n"
          ]
        },
        {
          "output_type": "stream",
          "name": "stdout",
          "text": [
            "[19:36:00] WARNING: /workspace/src/objective/regression_obj.cu:152: reg:linear is now deprecated in favor of reg:squarederror.\n"
          ]
        },
        {
          "output_type": "stream",
          "name": "stderr",
          "text": [
            "\u001b[32m[I 2022-04-27 19:36:00,643]\u001b[0m Trial 44 finished with value: 14.14360270571202 and parameters: {'lambda': 1.1087291821279748, 'alpha': 3.7701027222323975, 'colsample_bytree': 0.6, 'subsample': 1.0, 'learning_rate': 0.02, 'max_depth': 15, 'random_state': 24, 'min_child_weight': 49}. Best is trial 14 with value: 12.302439532218907.\u001b[0m\n"
          ]
        },
        {
          "output_type": "stream",
          "name": "stdout",
          "text": [
            "[19:36:00] WARNING: /workspace/src/objective/regression_obj.cu:152: reg:linear is now deprecated in favor of reg:squarederror.\n"
          ]
        },
        {
          "output_type": "stream",
          "name": "stderr",
          "text": [
            "\u001b[32m[I 2022-04-27 19:36:01,102]\u001b[0m Trial 45 finished with value: 14.191277498517561 and parameters: {'lambda': 2.491006580105017, 'alpha': 6.393293925047153, 'colsample_bytree': 0.5, 'subsample': 0.4, 'learning_rate': 0.016, 'max_depth': 13, 'random_state': 24, 'min_child_weight': 15}. Best is trial 14 with value: 12.302439532218907.\u001b[0m\n"
          ]
        },
        {
          "output_type": "stream",
          "name": "stdout",
          "text": [
            "[19:36:01] WARNING: /workspace/src/objective/regression_obj.cu:152: reg:linear is now deprecated in favor of reg:squarederror.\n"
          ]
        },
        {
          "output_type": "stream",
          "name": "stderr",
          "text": [
            "\u001b[32m[I 2022-04-27 19:36:01,580]\u001b[0m Trial 46 finished with value: 40.422642174243244 and parameters: {'lambda': 1.3418958159960621, 'alpha': 5.889921458978879, 'colsample_bytree': 0.6, 'subsample': 1.0, 'learning_rate': 0.009, 'max_depth': 17, 'random_state': 2020, 'min_child_weight': 197}. Best is trial 14 with value: 12.302439532218907.\u001b[0m\n"
          ]
        },
        {
          "output_type": "stream",
          "name": "stdout",
          "text": [
            "[19:36:01] WARNING: /workspace/src/objective/regression_obj.cu:152: reg:linear is now deprecated in favor of reg:squarederror.\n"
          ]
        },
        {
          "output_type": "stream",
          "name": "stderr",
          "text": [
            "\u001b[32m[I 2022-04-27 19:36:01,960]\u001b[0m Trial 47 finished with value: 13.79987435964846 and parameters: {'lambda': 0.0014862087285557736, 'alpha': 3.1278670325716296, 'colsample_bytree': 0.9, 'subsample': 0.7, 'learning_rate': 0.02, 'max_depth': 15, 'random_state': 24, 'min_child_weight': 34}. Best is trial 14 with value: 12.302439532218907.\u001b[0m\n"
          ]
        },
        {
          "output_type": "stream",
          "name": "stdout",
          "text": [
            "[19:36:01] WARNING: /workspace/src/objective/regression_obj.cu:152: reg:linear is now deprecated in favor of reg:squarederror.\n"
          ]
        },
        {
          "output_type": "stream",
          "name": "stderr",
          "text": [
            "\u001b[32m[I 2022-04-27 19:36:03,040]\u001b[0m Trial 48 finished with value: 19.176259618644973 and parameters: {'lambda': 8.456930787871904, 'alpha': 7.684271104350172, 'colsample_bytree': 0.6, 'subsample': 0.6, 'learning_rate': 0.008, 'max_depth': 7, 'random_state': 24, 'min_child_weight': 67}. Best is trial 14 with value: 12.302439532218907.\u001b[0m\n"
          ]
        },
        {
          "output_type": "stream",
          "name": "stdout",
          "text": [
            "[19:36:03] WARNING: /workspace/src/objective/regression_obj.cu:152: reg:linear is now deprecated in favor of reg:squarederror.\n"
          ]
        },
        {
          "output_type": "stream",
          "name": "stderr",
          "text": [
            "\u001b[32m[I 2022-04-27 19:36:04,348]\u001b[0m Trial 49 finished with value: 12.321307396997014 and parameters: {'lambda': 0.7504844199070764, 'alpha': 1.0070947821407699, 'colsample_bytree': 0.7, 'subsample': 0.4, 'learning_rate': 0.014, 'max_depth': 15, 'random_state': 24, 'min_child_weight': 1}. Best is trial 14 with value: 12.302439532218907.\u001b[0m\n"
          ]
        },
        {
          "output_type": "stream",
          "name": "stdout",
          "text": [
            "Number of finished trials: 50\n",
            "Best trial: {'lambda': 1.31712687361966, 'alpha': 0.2805420260407594, 'colsample_bytree': 0.8, 'subsample': 0.4, 'learning_rate': 0.01, 'max_depth': 5, 'random_state': 24, 'min_child_weight': 2}\n"
          ]
        }
      ]
    },
    {
      "cell_type": "code",
      "source": [
        "study.trials_dataframe()"
      ],
      "metadata": {
        "colab": {
          "base_uri": "https://localhost:8080/",
          "height": 1000
        },
        "id": "ZOc5F0Y4a_F6",
        "outputId": "61309760-af4c-4303-ec73-a6905d713556"
      },
      "execution_count": 64,
      "outputs": [
        {
          "output_type": "execute_result",
          "data": {
            "text/plain": [
              "    number      value             datetime_start          datetime_complete  \\\n",
              "0        0  40.422642 2022-04-27 19:35:28.386222 2022-04-27 19:35:29.086581   \n",
              "1        1  40.422643 2022-04-27 19:35:29.094612 2022-04-27 19:35:29.677250   \n",
              "2        2  40.422642 2022-04-27 19:35:29.679666 2022-04-27 19:35:29.932998   \n",
              "3        3  40.422642 2022-04-27 19:35:29.935920 2022-04-27 19:35:30.321416   \n",
              "4        4  12.976027 2022-04-27 19:35:30.323765 2022-04-27 19:35:30.966363   \n",
              "5        5  40.422642 2022-04-27 19:35:30.968760 2022-04-27 19:35:31.257178   \n",
              "6        6  40.422643 2022-04-27 19:35:31.259487 2022-04-27 19:35:31.564028   \n",
              "7        7  21.632795 2022-04-27 19:35:31.566359 2022-04-27 19:35:32.078955   \n",
              "8        8  14.520153 2022-04-27 19:35:32.084967 2022-04-27 19:35:32.463244   \n",
              "9        9  40.422643 2022-04-27 19:35:32.465791 2022-04-27 19:35:32.943486   \n",
              "10      10  13.023379 2022-04-27 19:35:32.948580 2022-04-27 19:35:33.930348   \n",
              "11      11  13.104730 2022-04-27 19:35:33.932836 2022-04-27 19:35:35.034471   \n",
              "12      12  20.014402 2022-04-27 19:35:35.036893 2022-04-27 19:35:36.129161   \n",
              "13      13  40.422646 2022-04-27 19:35:36.131513 2022-04-27 19:35:36.681405   \n",
              "14      14  12.302440 2022-04-27 19:35:36.683726 2022-04-27 19:35:37.438421   \n",
              "15      15  24.258617 2022-04-27 19:35:37.440684 2022-04-27 19:35:40.389773   \n",
              "16      16  16.817915 2022-04-27 19:35:40.392707 2022-04-27 19:35:41.608470   \n",
              "17      17  21.834253 2022-04-27 19:35:41.610671 2022-04-27 19:35:42.568809   \n",
              "18      18  14.250475 2022-04-27 19:35:42.571215 2022-04-27 19:35:43.004315   \n",
              "19      19  40.422644 2022-04-27 19:35:43.006651 2022-04-27 19:35:43.371851   \n",
              "20      20  21.410921 2022-04-27 19:35:43.374868 2022-04-27 19:35:43.775665   \n",
              "21      21  13.104730 2022-04-27 19:35:43.781763 2022-04-27 19:35:44.907392   \n",
              "22      22  12.963534 2022-04-27 19:35:44.912268 2022-04-27 19:35:46.499968   \n",
              "23      23  14.620507 2022-04-27 19:35:46.502227 2022-04-27 19:35:47.087274   \n",
              "24      24  21.661089 2022-04-27 19:35:47.089846 2022-04-27 19:35:47.616965   \n",
              "25      25  15.259826 2022-04-27 19:35:47.619359 2022-04-27 19:35:48.150927   \n",
              "26      26  13.214094 2022-04-27 19:35:48.153329 2022-04-27 19:35:49.365172   \n",
              "27      27  20.534843 2022-04-27 19:35:49.367983 2022-04-27 19:35:49.938978   \n",
              "28      28  14.127685 2022-04-27 19:35:49.941307 2022-04-27 19:35:50.677132   \n",
              "29      29  15.082161 2022-04-27 19:35:50.679508 2022-04-27 19:35:51.320010   \n",
              "30      30  40.422643 2022-04-27 19:35:51.322366 2022-04-27 19:35:51.726819   \n",
              "31      31  12.583534 2022-04-27 19:35:51.729305 2022-04-27 19:35:52.752272   \n",
              "32      32  14.165687 2022-04-27 19:35:52.754781 2022-04-27 19:35:53.588109   \n",
              "33      33  12.526845 2022-04-27 19:35:53.590780 2022-04-27 19:35:54.119357   \n",
              "34      34  15.099657 2022-04-27 19:35:54.121615 2022-04-27 19:35:54.668902   \n",
              "35      35  21.283966 2022-04-27 19:35:54.674220 2022-04-27 19:35:55.014810   \n",
              "36      36  12.922145 2022-04-27 19:35:55.017709 2022-04-27 19:35:55.453993   \n",
              "37      37  40.422642 2022-04-27 19:35:55.459407 2022-04-27 19:35:55.722034   \n",
              "38      38  40.422642 2022-04-27 19:35:55.725114 2022-04-27 19:35:55.986646   \n",
              "39      39  14.586841 2022-04-27 19:35:55.989242 2022-04-27 19:35:56.320898   \n",
              "40      40  20.750737 2022-04-27 19:35:56.323813 2022-04-27 19:35:56.762655   \n",
              "41      41  12.601972 2022-04-27 19:35:56.765208 2022-04-27 19:35:58.320847   \n",
              "42      42  12.601972 2022-04-27 19:35:58.328372 2022-04-27 19:35:59.886067   \n",
              "43      43  13.113863 2022-04-27 19:35:59.888442 2022-04-27 19:36:00.282880   \n",
              "44      44  14.143603 2022-04-27 19:36:00.287859 2022-04-27 19:36:00.643411   \n",
              "45      45  14.191277 2022-04-27 19:36:00.646017 2022-04-27 19:36:01.101581   \n",
              "46      46  40.422642 2022-04-27 19:36:01.103961 2022-04-27 19:36:01.579595   \n",
              "47      47  13.799874 2022-04-27 19:36:01.582682 2022-04-27 19:36:01.959894   \n",
              "48      48  19.176260 2022-04-27 19:36:01.962353 2022-04-27 19:36:03.039441   \n",
              "49      49  12.321307 2022-04-27 19:36:03.041925 2022-04-27 19:36:04.348270   \n",
              "\n",
              "                 duration  params_alpha  params_colsample_bytree  \\\n",
              "0  0 days 00:00:00.700359      0.004181                      0.5   \n",
              "1  0 days 00:00:00.582638      0.048052                      0.4   \n",
              "2  0 days 00:00:00.253332      7.518693                      0.3   \n",
              "3  0 days 00:00:00.385496      0.001112                      0.4   \n",
              "4  0 days 00:00:00.642598      3.870152                      0.8   \n",
              "5  0 days 00:00:00.288418      0.001174                      0.9   \n",
              "6  0 days 00:00:00.304541      0.111795                      0.5   \n",
              "7  0 days 00:00:00.512596      0.008143                      0.8   \n",
              "8  0 days 00:00:00.378277      0.009454                      0.9   \n",
              "9  0 days 00:00:00.477695      1.170594                      0.9   \n",
              "10 0 days 00:00:00.981768      9.614412                      0.6   \n",
              "11 0 days 00:00:01.101635      7.292487                      0.6   \n",
              "12 0 days 00:00:01.092268      0.950104                      1.0   \n",
              "13 0 days 00:00:00.549892      1.591480                      0.6   \n",
              "14 0 days 00:00:00.754695      0.280542                      0.8   \n",
              "15 0 days 00:00:02.949089      0.224463                      0.8   \n",
              "16 0 days 00:00:01.215763      0.421676                      0.8   \n",
              "17 0 days 00:00:00.958138      0.039036                      0.7   \n",
              "18 0 days 00:00:00.433100      2.553342                      0.8   \n",
              "19 0 days 00:00:00.365200      0.403531                      0.8   \n",
              "20 0 days 00:00:00.400797      0.080168                      0.7   \n",
              "21 0 days 00:00:01.125629      3.973267                      0.6   \n",
              "22 0 days 00:00:01.587700      9.796090                      1.0   \n",
              "23 0 days 00:00:00.585047      3.060315                      1.0   \n",
              "24 0 days 00:00:00.527119      0.745654                      1.0   \n",
              "25 0 days 00:00:00.531568      2.418544                      0.3   \n",
              "26 0 days 00:00:01.211843      4.843419                      1.0   \n",
              "27 0 days 00:00:00.570995      0.221069                      0.8   \n",
              "28 0 days 00:00:00.735825      0.586486                      0.8   \n",
              "29 0 days 00:00:00.640502      0.018718                      0.5   \n",
              "30 0 days 00:00:00.404453      2.131697                      1.0   \n",
              "31 0 days 00:00:01.022967      9.503627                      0.6   \n",
              "32 0 days 00:00:00.833328      5.046717                      0.4   \n",
              "33 0 days 00:00:00.528577      8.385225                      0.6   \n",
              "34 0 days 00:00:00.547287      9.929525                      0.6   \n",
              "35 0 days 00:00:00.340590      5.750704                      0.6   \n",
              "36 0 days 00:00:00.436284      1.484788                      0.6   \n",
              "37 0 days 00:00:00.262627      1.432468                      0.6   \n",
              "38 0 days 00:00:00.261532      0.194989                      0.6   \n",
              "39 0 days 00:00:00.331656      1.727560                      0.3   \n",
              "40 0 days 00:00:00.438842      0.112209                      0.4   \n",
              "41 0 days 00:00:01.555639      6.696577                      0.6   \n",
              "42 0 days 00:00:01.557695      3.802362                      0.6   \n",
              "43 0 days 00:00:00.394438      0.002133                      0.6   \n",
              "44 0 days 00:00:00.355552      3.770103                      0.6   \n",
              "45 0 days 00:00:00.455564      6.393294                      0.5   \n",
              "46 0 days 00:00:00.475634      5.889921                      0.6   \n",
              "47 0 days 00:00:00.377212      3.127867                      0.9   \n",
              "48 0 days 00:00:01.077088      7.684271                      0.6   \n",
              "49 0 days 00:00:01.306345      1.007095                      0.7   \n",
              "\n",
              "    params_lambda  params_learning_rate  params_max_depth  \\\n",
              "0        2.964256                 0.009                13   \n",
              "1        0.014966                 0.012                15   \n",
              "2        0.691430                 0.020                11   \n",
              "3        0.001377                 0.012                 9   \n",
              "4        0.074588                 0.012                20   \n",
              "5        0.005819                 0.018                15   \n",
              "6        0.022474                 0.016                 7   \n",
              "7        8.380527                 0.012                13   \n",
              "8        0.006631                 0.020                 7   \n",
              "9        0.074581                 0.009                17   \n",
              "10       0.482966                 0.008                20   \n",
              "11       0.359896                 0.008                20   \n",
              "12       0.255831                 0.014                20   \n",
              "13       0.098165                 0.008                20   \n",
              "14       1.317127                 0.010                 5   \n",
              "15       1.858926                 0.010                 5   \n",
              "16       0.058718                 0.010                 5   \n",
              "17       1.691819                 0.010                17   \n",
              "18       7.733470                 0.018                 5   \n",
              "19       0.202176                 0.014                 9   \n",
              "20       0.031117                 0.016                11   \n",
              "21       0.629289                 0.008                20   \n",
              "22       0.841314                 0.012                20   \n",
              "23       1.007722                 0.012                 5   \n",
              "24       3.708321                 0.012                20   \n",
              "25       0.178266                 0.010                20   \n",
              "26       1.229533                 0.012                 5   \n",
              "27       2.997078                 0.012                20   \n",
              "28       0.152524                 0.010                 7   \n",
              "29       4.546047                 0.009                13   \n",
              "30       0.047067                 0.012                 9   \n",
              "31       0.464765                 0.008                20   \n",
              "32       0.303181                 0.008                20   \n",
              "33       0.840419                 0.020                15   \n",
              "34       0.873620                 0.020                15   \n",
              "35       1.852865                 0.020                15   \n",
              "36       0.504177                 0.020                15   \n",
              "37       0.504771                 0.020                15   \n",
              "38       0.133504                 0.020                15   \n",
              "39       0.430711                 0.020                15   \n",
              "40       5.530841                 0.018                11   \n",
              "41       1.080039                 0.020                15   \n",
              "42       2.201393                 0.020                15   \n",
              "43       2.405726                 0.020                15   \n",
              "44       1.108729                 0.020                15   \n",
              "45       2.491007                 0.016                13   \n",
              "46       1.341896                 0.009                17   \n",
              "47       0.001486                 0.020                15   \n",
              "48       8.456931                 0.008                 7   \n",
              "49       0.750484                 0.014                15   \n",
              "\n",
              "    params_min_child_weight  params_random_state  params_subsample     state  \n",
              "0                       232                   48               1.0  COMPLETE  \n",
              "1                       278                   48               0.5  COMPLETE  \n",
              "2                       263                 2020               1.0  COMPLETE  \n",
              "3                        81                   48               0.4  COMPLETE  \n",
              "4                        11                   24               0.5  COMPLETE  \n",
              "5                       231                   48               0.8  COMPLETE  \n",
              "6                       176                 2020               0.5  COMPLETE  \n",
              "7                       115                   24               0.8  COMPLETE  \n",
              "8                        37                   24               0.6  COMPLETE  \n",
              "9                       202                 2020               0.7  COMPLETE  \n",
              "10                       11                   24               0.5  COMPLETE  \n",
              "11                        2                   24               0.5  COMPLETE  \n",
              "12                       61                   24               0.5  COMPLETE  \n",
              "13                      122                   24               0.5  COMPLETE  \n",
              "14                        2                   24               0.4  COMPLETE  \n",
              "15                       75                   24               0.4  COMPLETE  \n",
              "16                       40                   24               0.4  COMPLETE  \n",
              "17                      117                   24               0.7  COMPLETE  \n",
              "18                       27                   24               0.6  COMPLETE  \n",
              "19                      154                 2020               0.4  COMPLETE  \n",
              "20                       60                   24               0.4  COMPLETE  \n",
              "21                        2                   24               0.5  COMPLETE  \n",
              "22                        1                   24               0.5  COMPLETE  \n",
              "23                       33                   24               0.5  COMPLETE  \n",
              "24                       97                   24               0.6  COMPLETE  \n",
              "25                       52                   24               1.0  COMPLETE  \n",
              "26                       18                   24               0.8  COMPLETE  \n",
              "27                       83                   24               0.7  COMPLETE  \n",
              "28                       23                   48               0.4  COMPLETE  \n",
              "29                       51                 2020               1.0  COMPLETE  \n",
              "30                      148                   48               0.5  COMPLETE  \n",
              "31                        7                   24               0.5  COMPLETE  \n",
              "32                       16                   24               0.5  COMPLETE  \n",
              "33                        3                   24               0.5  COMPLETE  \n",
              "34                       40                   24               0.5  COMPLETE  \n",
              "35                       73                   48               0.5  COMPLETE  \n",
              "36                        5                   24               1.0  COMPLETE  \n",
              "37                      292                 2020               1.0  COMPLETE  \n",
              "38                      244                   24               1.0  COMPLETE  \n",
              "39                       27                   48               1.0  COMPLETE  \n",
              "40                       95                   24               0.8  COMPLETE  \n",
              "41                        1                   24               1.0  COMPLETE  \n",
              "42                        1                   24               1.0  COMPLETE  \n",
              "43                       19                   24               1.0  COMPLETE  \n",
              "44                       49                   24               1.0  COMPLETE  \n",
              "45                       15                   24               0.4  COMPLETE  \n",
              "46                      197                 2020               1.0  COMPLETE  \n",
              "47                       34                   24               0.7  COMPLETE  \n",
              "48                       67                   24               0.6  COMPLETE  \n",
              "49                        1                   24               0.4  COMPLETE  "
            ],
            "text/html": [
              "\n",
              "  <div id=\"df-b064c3cf-2d42-4fb1-b5bb-50ef2e969b78\">\n",
              "    <div class=\"colab-df-container\">\n",
              "      <div>\n",
              "<style scoped>\n",
              "    .dataframe tbody tr th:only-of-type {\n",
              "        vertical-align: middle;\n",
              "    }\n",
              "\n",
              "    .dataframe tbody tr th {\n",
              "        vertical-align: top;\n",
              "    }\n",
              "\n",
              "    .dataframe thead th {\n",
              "        text-align: right;\n",
              "    }\n",
              "</style>\n",
              "<table border=\"1\" class=\"dataframe\">\n",
              "  <thead>\n",
              "    <tr style=\"text-align: right;\">\n",
              "      <th></th>\n",
              "      <th>number</th>\n",
              "      <th>value</th>\n",
              "      <th>datetime_start</th>\n",
              "      <th>datetime_complete</th>\n",
              "      <th>duration</th>\n",
              "      <th>params_alpha</th>\n",
              "      <th>params_colsample_bytree</th>\n",
              "      <th>params_lambda</th>\n",
              "      <th>params_learning_rate</th>\n",
              "      <th>params_max_depth</th>\n",
              "      <th>params_min_child_weight</th>\n",
              "      <th>params_random_state</th>\n",
              "      <th>params_subsample</th>\n",
              "      <th>state</th>\n",
              "    </tr>\n",
              "  </thead>\n",
              "  <tbody>\n",
              "    <tr>\n",
              "      <th>0</th>\n",
              "      <td>0</td>\n",
              "      <td>40.422642</td>\n",
              "      <td>2022-04-27 19:35:28.386222</td>\n",
              "      <td>2022-04-27 19:35:29.086581</td>\n",
              "      <td>0 days 00:00:00.700359</td>\n",
              "      <td>0.004181</td>\n",
              "      <td>0.5</td>\n",
              "      <td>2.964256</td>\n",
              "      <td>0.009</td>\n",
              "      <td>13</td>\n",
              "      <td>232</td>\n",
              "      <td>48</td>\n",
              "      <td>1.0</td>\n",
              "      <td>COMPLETE</td>\n",
              "    </tr>\n",
              "    <tr>\n",
              "      <th>1</th>\n",
              "      <td>1</td>\n",
              "      <td>40.422643</td>\n",
              "      <td>2022-04-27 19:35:29.094612</td>\n",
              "      <td>2022-04-27 19:35:29.677250</td>\n",
              "      <td>0 days 00:00:00.582638</td>\n",
              "      <td>0.048052</td>\n",
              "      <td>0.4</td>\n",
              "      <td>0.014966</td>\n",
              "      <td>0.012</td>\n",
              "      <td>15</td>\n",
              "      <td>278</td>\n",
              "      <td>48</td>\n",
              "      <td>0.5</td>\n",
              "      <td>COMPLETE</td>\n",
              "    </tr>\n",
              "    <tr>\n",
              "      <th>2</th>\n",
              "      <td>2</td>\n",
              "      <td>40.422642</td>\n",
              "      <td>2022-04-27 19:35:29.679666</td>\n",
              "      <td>2022-04-27 19:35:29.932998</td>\n",
              "      <td>0 days 00:00:00.253332</td>\n",
              "      <td>7.518693</td>\n",
              "      <td>0.3</td>\n",
              "      <td>0.691430</td>\n",
              "      <td>0.020</td>\n",
              "      <td>11</td>\n",
              "      <td>263</td>\n",
              "      <td>2020</td>\n",
              "      <td>1.0</td>\n",
              "      <td>COMPLETE</td>\n",
              "    </tr>\n",
              "    <tr>\n",
              "      <th>3</th>\n",
              "      <td>3</td>\n",
              "      <td>40.422642</td>\n",
              "      <td>2022-04-27 19:35:29.935920</td>\n",
              "      <td>2022-04-27 19:35:30.321416</td>\n",
              "      <td>0 days 00:00:00.385496</td>\n",
              "      <td>0.001112</td>\n",
              "      <td>0.4</td>\n",
              "      <td>0.001377</td>\n",
              "      <td>0.012</td>\n",
              "      <td>9</td>\n",
              "      <td>81</td>\n",
              "      <td>48</td>\n",
              "      <td>0.4</td>\n",
              "      <td>COMPLETE</td>\n",
              "    </tr>\n",
              "    <tr>\n",
              "      <th>4</th>\n",
              "      <td>4</td>\n",
              "      <td>12.976027</td>\n",
              "      <td>2022-04-27 19:35:30.323765</td>\n",
              "      <td>2022-04-27 19:35:30.966363</td>\n",
              "      <td>0 days 00:00:00.642598</td>\n",
              "      <td>3.870152</td>\n",
              "      <td>0.8</td>\n",
              "      <td>0.074588</td>\n",
              "      <td>0.012</td>\n",
              "      <td>20</td>\n",
              "      <td>11</td>\n",
              "      <td>24</td>\n",
              "      <td>0.5</td>\n",
              "      <td>COMPLETE</td>\n",
              "    </tr>\n",
              "    <tr>\n",
              "      <th>5</th>\n",
              "      <td>5</td>\n",
              "      <td>40.422642</td>\n",
              "      <td>2022-04-27 19:35:30.968760</td>\n",
              "      <td>2022-04-27 19:35:31.257178</td>\n",
              "      <td>0 days 00:00:00.288418</td>\n",
              "      <td>0.001174</td>\n",
              "      <td>0.9</td>\n",
              "      <td>0.005819</td>\n",
              "      <td>0.018</td>\n",
              "      <td>15</td>\n",
              "      <td>231</td>\n",
              "      <td>48</td>\n",
              "      <td>0.8</td>\n",
              "      <td>COMPLETE</td>\n",
              "    </tr>\n",
              "    <tr>\n",
              "      <th>6</th>\n",
              "      <td>6</td>\n",
              "      <td>40.422643</td>\n",
              "      <td>2022-04-27 19:35:31.259487</td>\n",
              "      <td>2022-04-27 19:35:31.564028</td>\n",
              "      <td>0 days 00:00:00.304541</td>\n",
              "      <td>0.111795</td>\n",
              "      <td>0.5</td>\n",
              "      <td>0.022474</td>\n",
              "      <td>0.016</td>\n",
              "      <td>7</td>\n",
              "      <td>176</td>\n",
              "      <td>2020</td>\n",
              "      <td>0.5</td>\n",
              "      <td>COMPLETE</td>\n",
              "    </tr>\n",
              "    <tr>\n",
              "      <th>7</th>\n",
              "      <td>7</td>\n",
              "      <td>21.632795</td>\n",
              "      <td>2022-04-27 19:35:31.566359</td>\n",
              "      <td>2022-04-27 19:35:32.078955</td>\n",
              "      <td>0 days 00:00:00.512596</td>\n",
              "      <td>0.008143</td>\n",
              "      <td>0.8</td>\n",
              "      <td>8.380527</td>\n",
              "      <td>0.012</td>\n",
              "      <td>13</td>\n",
              "      <td>115</td>\n",
              "      <td>24</td>\n",
              "      <td>0.8</td>\n",
              "      <td>COMPLETE</td>\n",
              "    </tr>\n",
              "    <tr>\n",
              "      <th>8</th>\n",
              "      <td>8</td>\n",
              "      <td>14.520153</td>\n",
              "      <td>2022-04-27 19:35:32.084967</td>\n",
              "      <td>2022-04-27 19:35:32.463244</td>\n",
              "      <td>0 days 00:00:00.378277</td>\n",
              "      <td>0.009454</td>\n",
              "      <td>0.9</td>\n",
              "      <td>0.006631</td>\n",
              "      <td>0.020</td>\n",
              "      <td>7</td>\n",
              "      <td>37</td>\n",
              "      <td>24</td>\n",
              "      <td>0.6</td>\n",
              "      <td>COMPLETE</td>\n",
              "    </tr>\n",
              "    <tr>\n",
              "      <th>9</th>\n",
              "      <td>9</td>\n",
              "      <td>40.422643</td>\n",
              "      <td>2022-04-27 19:35:32.465791</td>\n",
              "      <td>2022-04-27 19:35:32.943486</td>\n",
              "      <td>0 days 00:00:00.477695</td>\n",
              "      <td>1.170594</td>\n",
              "      <td>0.9</td>\n",
              "      <td>0.074581</td>\n",
              "      <td>0.009</td>\n",
              "      <td>17</td>\n",
              "      <td>202</td>\n",
              "      <td>2020</td>\n",
              "      <td>0.7</td>\n",
              "      <td>COMPLETE</td>\n",
              "    </tr>\n",
              "    <tr>\n",
              "      <th>10</th>\n",
              "      <td>10</td>\n",
              "      <td>13.023379</td>\n",
              "      <td>2022-04-27 19:35:32.948580</td>\n",
              "      <td>2022-04-27 19:35:33.930348</td>\n",
              "      <td>0 days 00:00:00.981768</td>\n",
              "      <td>9.614412</td>\n",
              "      <td>0.6</td>\n",
              "      <td>0.482966</td>\n",
              "      <td>0.008</td>\n",
              "      <td>20</td>\n",
              "      <td>11</td>\n",
              "      <td>24</td>\n",
              "      <td>0.5</td>\n",
              "      <td>COMPLETE</td>\n",
              "    </tr>\n",
              "    <tr>\n",
              "      <th>11</th>\n",
              "      <td>11</td>\n",
              "      <td>13.104730</td>\n",
              "      <td>2022-04-27 19:35:33.932836</td>\n",
              "      <td>2022-04-27 19:35:35.034471</td>\n",
              "      <td>0 days 00:00:01.101635</td>\n",
              "      <td>7.292487</td>\n",
              "      <td>0.6</td>\n",
              "      <td>0.359896</td>\n",
              "      <td>0.008</td>\n",
              "      <td>20</td>\n",
              "      <td>2</td>\n",
              "      <td>24</td>\n",
              "      <td>0.5</td>\n",
              "      <td>COMPLETE</td>\n",
              "    </tr>\n",
              "    <tr>\n",
              "      <th>12</th>\n",
              "      <td>12</td>\n",
              "      <td>20.014402</td>\n",
              "      <td>2022-04-27 19:35:35.036893</td>\n",
              "      <td>2022-04-27 19:35:36.129161</td>\n",
              "      <td>0 days 00:00:01.092268</td>\n",
              "      <td>0.950104</td>\n",
              "      <td>1.0</td>\n",
              "      <td>0.255831</td>\n",
              "      <td>0.014</td>\n",
              "      <td>20</td>\n",
              "      <td>61</td>\n",
              "      <td>24</td>\n",
              "      <td>0.5</td>\n",
              "      <td>COMPLETE</td>\n",
              "    </tr>\n",
              "    <tr>\n",
              "      <th>13</th>\n",
              "      <td>13</td>\n",
              "      <td>40.422646</td>\n",
              "      <td>2022-04-27 19:35:36.131513</td>\n",
              "      <td>2022-04-27 19:35:36.681405</td>\n",
              "      <td>0 days 00:00:00.549892</td>\n",
              "      <td>1.591480</td>\n",
              "      <td>0.6</td>\n",
              "      <td>0.098165</td>\n",
              "      <td>0.008</td>\n",
              "      <td>20</td>\n",
              "      <td>122</td>\n",
              "      <td>24</td>\n",
              "      <td>0.5</td>\n",
              "      <td>COMPLETE</td>\n",
              "    </tr>\n",
              "    <tr>\n",
              "      <th>14</th>\n",
              "      <td>14</td>\n",
              "      <td>12.302440</td>\n",
              "      <td>2022-04-27 19:35:36.683726</td>\n",
              "      <td>2022-04-27 19:35:37.438421</td>\n",
              "      <td>0 days 00:00:00.754695</td>\n",
              "      <td>0.280542</td>\n",
              "      <td>0.8</td>\n",
              "      <td>1.317127</td>\n",
              "      <td>0.010</td>\n",
              "      <td>5</td>\n",
              "      <td>2</td>\n",
              "      <td>24</td>\n",
              "      <td>0.4</td>\n",
              "      <td>COMPLETE</td>\n",
              "    </tr>\n",
              "    <tr>\n",
              "      <th>15</th>\n",
              "      <td>15</td>\n",
              "      <td>24.258617</td>\n",
              "      <td>2022-04-27 19:35:37.440684</td>\n",
              "      <td>2022-04-27 19:35:40.389773</td>\n",
              "      <td>0 days 00:00:02.949089</td>\n",
              "      <td>0.224463</td>\n",
              "      <td>0.8</td>\n",
              "      <td>1.858926</td>\n",
              "      <td>0.010</td>\n",
              "      <td>5</td>\n",
              "      <td>75</td>\n",
              "      <td>24</td>\n",
              "      <td>0.4</td>\n",
              "      <td>COMPLETE</td>\n",
              "    </tr>\n",
              "    <tr>\n",
              "      <th>16</th>\n",
              "      <td>16</td>\n",
              "      <td>16.817915</td>\n",
              "      <td>2022-04-27 19:35:40.392707</td>\n",
              "      <td>2022-04-27 19:35:41.608470</td>\n",
              "      <td>0 days 00:00:01.215763</td>\n",
              "      <td>0.421676</td>\n",
              "      <td>0.8</td>\n",
              "      <td>0.058718</td>\n",
              "      <td>0.010</td>\n",
              "      <td>5</td>\n",
              "      <td>40</td>\n",
              "      <td>24</td>\n",
              "      <td>0.4</td>\n",
              "      <td>COMPLETE</td>\n",
              "    </tr>\n",
              "    <tr>\n",
              "      <th>17</th>\n",
              "      <td>17</td>\n",
              "      <td>21.834253</td>\n",
              "      <td>2022-04-27 19:35:41.610671</td>\n",
              "      <td>2022-04-27 19:35:42.568809</td>\n",
              "      <td>0 days 00:00:00.958138</td>\n",
              "      <td>0.039036</td>\n",
              "      <td>0.7</td>\n",
              "      <td>1.691819</td>\n",
              "      <td>0.010</td>\n",
              "      <td>17</td>\n",
              "      <td>117</td>\n",
              "      <td>24</td>\n",
              "      <td>0.7</td>\n",
              "      <td>COMPLETE</td>\n",
              "    </tr>\n",
              "    <tr>\n",
              "      <th>18</th>\n",
              "      <td>18</td>\n",
              "      <td>14.250475</td>\n",
              "      <td>2022-04-27 19:35:42.571215</td>\n",
              "      <td>2022-04-27 19:35:43.004315</td>\n",
              "      <td>0 days 00:00:00.433100</td>\n",
              "      <td>2.553342</td>\n",
              "      <td>0.8</td>\n",
              "      <td>7.733470</td>\n",
              "      <td>0.018</td>\n",
              "      <td>5</td>\n",
              "      <td>27</td>\n",
              "      <td>24</td>\n",
              "      <td>0.6</td>\n",
              "      <td>COMPLETE</td>\n",
              "    </tr>\n",
              "    <tr>\n",
              "      <th>19</th>\n",
              "      <td>19</td>\n",
              "      <td>40.422644</td>\n",
              "      <td>2022-04-27 19:35:43.006651</td>\n",
              "      <td>2022-04-27 19:35:43.371851</td>\n",
              "      <td>0 days 00:00:00.365200</td>\n",
              "      <td>0.403531</td>\n",
              "      <td>0.8</td>\n",
              "      <td>0.202176</td>\n",
              "      <td>0.014</td>\n",
              "      <td>9</td>\n",
              "      <td>154</td>\n",
              "      <td>2020</td>\n",
              "      <td>0.4</td>\n",
              "      <td>COMPLETE</td>\n",
              "    </tr>\n",
              "    <tr>\n",
              "      <th>20</th>\n",
              "      <td>20</td>\n",
              "      <td>21.410921</td>\n",
              "      <td>2022-04-27 19:35:43.374868</td>\n",
              "      <td>2022-04-27 19:35:43.775665</td>\n",
              "      <td>0 days 00:00:00.400797</td>\n",
              "      <td>0.080168</td>\n",
              "      <td>0.7</td>\n",
              "      <td>0.031117</td>\n",
              "      <td>0.016</td>\n",
              "      <td>11</td>\n",
              "      <td>60</td>\n",
              "      <td>24</td>\n",
              "      <td>0.4</td>\n",
              "      <td>COMPLETE</td>\n",
              "    </tr>\n",
              "    <tr>\n",
              "      <th>21</th>\n",
              "      <td>21</td>\n",
              "      <td>13.104730</td>\n",
              "      <td>2022-04-27 19:35:43.781763</td>\n",
              "      <td>2022-04-27 19:35:44.907392</td>\n",
              "      <td>0 days 00:00:01.125629</td>\n",
              "      <td>3.973267</td>\n",
              "      <td>0.6</td>\n",
              "      <td>0.629289</td>\n",
              "      <td>0.008</td>\n",
              "      <td>20</td>\n",
              "      <td>2</td>\n",
              "      <td>24</td>\n",
              "      <td>0.5</td>\n",
              "      <td>COMPLETE</td>\n",
              "    </tr>\n",
              "    <tr>\n",
              "      <th>22</th>\n",
              "      <td>22</td>\n",
              "      <td>12.963534</td>\n",
              "      <td>2022-04-27 19:35:44.912268</td>\n",
              "      <td>2022-04-27 19:35:46.499968</td>\n",
              "      <td>0 days 00:00:01.587700</td>\n",
              "      <td>9.796090</td>\n",
              "      <td>1.0</td>\n",
              "      <td>0.841314</td>\n",
              "      <td>0.012</td>\n",
              "      <td>20</td>\n",
              "      <td>1</td>\n",
              "      <td>24</td>\n",
              "      <td>0.5</td>\n",
              "      <td>COMPLETE</td>\n",
              "    </tr>\n",
              "    <tr>\n",
              "      <th>23</th>\n",
              "      <td>23</td>\n",
              "      <td>14.620507</td>\n",
              "      <td>2022-04-27 19:35:46.502227</td>\n",
              "      <td>2022-04-27 19:35:47.087274</td>\n",
              "      <td>0 days 00:00:00.585047</td>\n",
              "      <td>3.060315</td>\n",
              "      <td>1.0</td>\n",
              "      <td>1.007722</td>\n",
              "      <td>0.012</td>\n",
              "      <td>5</td>\n",
              "      <td>33</td>\n",
              "      <td>24</td>\n",
              "      <td>0.5</td>\n",
              "      <td>COMPLETE</td>\n",
              "    </tr>\n",
              "    <tr>\n",
              "      <th>24</th>\n",
              "      <td>24</td>\n",
              "      <td>21.661089</td>\n",
              "      <td>2022-04-27 19:35:47.089846</td>\n",
              "      <td>2022-04-27 19:35:47.616965</td>\n",
              "      <td>0 days 00:00:00.527119</td>\n",
              "      <td>0.745654</td>\n",
              "      <td>1.0</td>\n",
              "      <td>3.708321</td>\n",
              "      <td>0.012</td>\n",
              "      <td>20</td>\n",
              "      <td>97</td>\n",
              "      <td>24</td>\n",
              "      <td>0.6</td>\n",
              "      <td>COMPLETE</td>\n",
              "    </tr>\n",
              "    <tr>\n",
              "      <th>25</th>\n",
              "      <td>25</td>\n",
              "      <td>15.259826</td>\n",
              "      <td>2022-04-27 19:35:47.619359</td>\n",
              "      <td>2022-04-27 19:35:48.150927</td>\n",
              "      <td>0 days 00:00:00.531568</td>\n",
              "      <td>2.418544</td>\n",
              "      <td>0.3</td>\n",
              "      <td>0.178266</td>\n",
              "      <td>0.010</td>\n",
              "      <td>20</td>\n",
              "      <td>52</td>\n",
              "      <td>24</td>\n",
              "      <td>1.0</td>\n",
              "      <td>COMPLETE</td>\n",
              "    </tr>\n",
              "    <tr>\n",
              "      <th>26</th>\n",
              "      <td>26</td>\n",
              "      <td>13.214094</td>\n",
              "      <td>2022-04-27 19:35:48.153329</td>\n",
              "      <td>2022-04-27 19:35:49.365172</td>\n",
              "      <td>0 days 00:00:01.211843</td>\n",
              "      <td>4.843419</td>\n",
              "      <td>1.0</td>\n",
              "      <td>1.229533</td>\n",
              "      <td>0.012</td>\n",
              "      <td>5</td>\n",
              "      <td>18</td>\n",
              "      <td>24</td>\n",
              "      <td>0.8</td>\n",
              "      <td>COMPLETE</td>\n",
              "    </tr>\n",
              "    <tr>\n",
              "      <th>27</th>\n",
              "      <td>27</td>\n",
              "      <td>20.534843</td>\n",
              "      <td>2022-04-27 19:35:49.367983</td>\n",
              "      <td>2022-04-27 19:35:49.938978</td>\n",
              "      <td>0 days 00:00:00.570995</td>\n",
              "      <td>0.221069</td>\n",
              "      <td>0.8</td>\n",
              "      <td>2.997078</td>\n",
              "      <td>0.012</td>\n",
              "      <td>20</td>\n",
              "      <td>83</td>\n",
              "      <td>24</td>\n",
              "      <td>0.7</td>\n",
              "      <td>COMPLETE</td>\n",
              "    </tr>\n",
              "    <tr>\n",
              "      <th>28</th>\n",
              "      <td>28</td>\n",
              "      <td>14.127685</td>\n",
              "      <td>2022-04-27 19:35:49.941307</td>\n",
              "      <td>2022-04-27 19:35:50.677132</td>\n",
              "      <td>0 days 00:00:00.735825</td>\n",
              "      <td>0.586486</td>\n",
              "      <td>0.8</td>\n",
              "      <td>0.152524</td>\n",
              "      <td>0.010</td>\n",
              "      <td>7</td>\n",
              "      <td>23</td>\n",
              "      <td>48</td>\n",
              "      <td>0.4</td>\n",
              "      <td>COMPLETE</td>\n",
              "    </tr>\n",
              "    <tr>\n",
              "      <th>29</th>\n",
              "      <td>29</td>\n",
              "      <td>15.082161</td>\n",
              "      <td>2022-04-27 19:35:50.679508</td>\n",
              "      <td>2022-04-27 19:35:51.320010</td>\n",
              "      <td>0 days 00:00:00.640502</td>\n",
              "      <td>0.018718</td>\n",
              "      <td>0.5</td>\n",
              "      <td>4.546047</td>\n",
              "      <td>0.009</td>\n",
              "      <td>13</td>\n",
              "      <td>51</td>\n",
              "      <td>2020</td>\n",
              "      <td>1.0</td>\n",
              "      <td>COMPLETE</td>\n",
              "    </tr>\n",
              "    <tr>\n",
              "      <th>30</th>\n",
              "      <td>30</td>\n",
              "      <td>40.422643</td>\n",
              "      <td>2022-04-27 19:35:51.322366</td>\n",
              "      <td>2022-04-27 19:35:51.726819</td>\n",
              "      <td>0 days 00:00:00.404453</td>\n",
              "      <td>2.131697</td>\n",
              "      <td>1.0</td>\n",
              "      <td>0.047067</td>\n",
              "      <td>0.012</td>\n",
              "      <td>9</td>\n",
              "      <td>148</td>\n",
              "      <td>48</td>\n",
              "      <td>0.5</td>\n",
              "      <td>COMPLETE</td>\n",
              "    </tr>\n",
              "    <tr>\n",
              "      <th>31</th>\n",
              "      <td>31</td>\n",
              "      <td>12.583534</td>\n",
              "      <td>2022-04-27 19:35:51.729305</td>\n",
              "      <td>2022-04-27 19:35:52.752272</td>\n",
              "      <td>0 days 00:00:01.022967</td>\n",
              "      <td>9.503627</td>\n",
              "      <td>0.6</td>\n",
              "      <td>0.464765</td>\n",
              "      <td>0.008</td>\n",
              "      <td>20</td>\n",
              "      <td>7</td>\n",
              "      <td>24</td>\n",
              "      <td>0.5</td>\n",
              "      <td>COMPLETE</td>\n",
              "    </tr>\n",
              "    <tr>\n",
              "      <th>32</th>\n",
              "      <td>32</td>\n",
              "      <td>14.165687</td>\n",
              "      <td>2022-04-27 19:35:52.754781</td>\n",
              "      <td>2022-04-27 19:35:53.588109</td>\n",
              "      <td>0 days 00:00:00.833328</td>\n",
              "      <td>5.046717</td>\n",
              "      <td>0.4</td>\n",
              "      <td>0.303181</td>\n",
              "      <td>0.008</td>\n",
              "      <td>20</td>\n",
              "      <td>16</td>\n",
              "      <td>24</td>\n",
              "      <td>0.5</td>\n",
              "      <td>COMPLETE</td>\n",
              "    </tr>\n",
              "    <tr>\n",
              "      <th>33</th>\n",
              "      <td>33</td>\n",
              "      <td>12.526845</td>\n",
              "      <td>2022-04-27 19:35:53.590780</td>\n",
              "      <td>2022-04-27 19:35:54.119357</td>\n",
              "      <td>0 days 00:00:00.528577</td>\n",
              "      <td>8.385225</td>\n",
              "      <td>0.6</td>\n",
              "      <td>0.840419</td>\n",
              "      <td>0.020</td>\n",
              "      <td>15</td>\n",
              "      <td>3</td>\n",
              "      <td>24</td>\n",
              "      <td>0.5</td>\n",
              "      <td>COMPLETE</td>\n",
              "    </tr>\n",
              "    <tr>\n",
              "      <th>34</th>\n",
              "      <td>34</td>\n",
              "      <td>15.099657</td>\n",
              "      <td>2022-04-27 19:35:54.121615</td>\n",
              "      <td>2022-04-27 19:35:54.668902</td>\n",
              "      <td>0 days 00:00:00.547287</td>\n",
              "      <td>9.929525</td>\n",
              "      <td>0.6</td>\n",
              "      <td>0.873620</td>\n",
              "      <td>0.020</td>\n",
              "      <td>15</td>\n",
              "      <td>40</td>\n",
              "      <td>24</td>\n",
              "      <td>0.5</td>\n",
              "      <td>COMPLETE</td>\n",
              "    </tr>\n",
              "    <tr>\n",
              "      <th>35</th>\n",
              "      <td>35</td>\n",
              "      <td>21.283966</td>\n",
              "      <td>2022-04-27 19:35:54.674220</td>\n",
              "      <td>2022-04-27 19:35:55.014810</td>\n",
              "      <td>0 days 00:00:00.340590</td>\n",
              "      <td>5.750704</td>\n",
              "      <td>0.6</td>\n",
              "      <td>1.852865</td>\n",
              "      <td>0.020</td>\n",
              "      <td>15</td>\n",
              "      <td>73</td>\n",
              "      <td>48</td>\n",
              "      <td>0.5</td>\n",
              "      <td>COMPLETE</td>\n",
              "    </tr>\n",
              "    <tr>\n",
              "      <th>36</th>\n",
              "      <td>36</td>\n",
              "      <td>12.922145</td>\n",
              "      <td>2022-04-27 19:35:55.017709</td>\n",
              "      <td>2022-04-27 19:35:55.453993</td>\n",
              "      <td>0 days 00:00:00.436284</td>\n",
              "      <td>1.484788</td>\n",
              "      <td>0.6</td>\n",
              "      <td>0.504177</td>\n",
              "      <td>0.020</td>\n",
              "      <td>15</td>\n",
              "      <td>5</td>\n",
              "      <td>24</td>\n",
              "      <td>1.0</td>\n",
              "      <td>COMPLETE</td>\n",
              "    </tr>\n",
              "    <tr>\n",
              "      <th>37</th>\n",
              "      <td>37</td>\n",
              "      <td>40.422642</td>\n",
              "      <td>2022-04-27 19:35:55.459407</td>\n",
              "      <td>2022-04-27 19:35:55.722034</td>\n",
              "      <td>0 days 00:00:00.262627</td>\n",
              "      <td>1.432468</td>\n",
              "      <td>0.6</td>\n",
              "      <td>0.504771</td>\n",
              "      <td>0.020</td>\n",
              "      <td>15</td>\n",
              "      <td>292</td>\n",
              "      <td>2020</td>\n",
              "      <td>1.0</td>\n",
              "      <td>COMPLETE</td>\n",
              "    </tr>\n",
              "    <tr>\n",
              "      <th>38</th>\n",
              "      <td>38</td>\n",
              "      <td>40.422642</td>\n",
              "      <td>2022-04-27 19:35:55.725114</td>\n",
              "      <td>2022-04-27 19:35:55.986646</td>\n",
              "      <td>0 days 00:00:00.261532</td>\n",
              "      <td>0.194989</td>\n",
              "      <td>0.6</td>\n",
              "      <td>0.133504</td>\n",
              "      <td>0.020</td>\n",
              "      <td>15</td>\n",
              "      <td>244</td>\n",
              "      <td>24</td>\n",
              "      <td>1.0</td>\n",
              "      <td>COMPLETE</td>\n",
              "    </tr>\n",
              "    <tr>\n",
              "      <th>39</th>\n",
              "      <td>39</td>\n",
              "      <td>14.586841</td>\n",
              "      <td>2022-04-27 19:35:55.989242</td>\n",
              "      <td>2022-04-27 19:35:56.320898</td>\n",
              "      <td>0 days 00:00:00.331656</td>\n",
              "      <td>1.727560</td>\n",
              "      <td>0.3</td>\n",
              "      <td>0.430711</td>\n",
              "      <td>0.020</td>\n",
              "      <td>15</td>\n",
              "      <td>27</td>\n",
              "      <td>48</td>\n",
              "      <td>1.0</td>\n",
              "      <td>COMPLETE</td>\n",
              "    </tr>\n",
              "    <tr>\n",
              "      <th>40</th>\n",
              "      <td>40</td>\n",
              "      <td>20.750737</td>\n",
              "      <td>2022-04-27 19:35:56.323813</td>\n",
              "      <td>2022-04-27 19:35:56.762655</td>\n",
              "      <td>0 days 00:00:00.438842</td>\n",
              "      <td>0.112209</td>\n",
              "      <td>0.4</td>\n",
              "      <td>5.530841</td>\n",
              "      <td>0.018</td>\n",
              "      <td>11</td>\n",
              "      <td>95</td>\n",
              "      <td>24</td>\n",
              "      <td>0.8</td>\n",
              "      <td>COMPLETE</td>\n",
              "    </tr>\n",
              "    <tr>\n",
              "      <th>41</th>\n",
              "      <td>41</td>\n",
              "      <td>12.601972</td>\n",
              "      <td>2022-04-27 19:35:56.765208</td>\n",
              "      <td>2022-04-27 19:35:58.320847</td>\n",
              "      <td>0 days 00:00:01.555639</td>\n",
              "      <td>6.696577</td>\n",
              "      <td>0.6</td>\n",
              "      <td>1.080039</td>\n",
              "      <td>0.020</td>\n",
              "      <td>15</td>\n",
              "      <td>1</td>\n",
              "      <td>24</td>\n",
              "      <td>1.0</td>\n",
              "      <td>COMPLETE</td>\n",
              "    </tr>\n",
              "    <tr>\n",
              "      <th>42</th>\n",
              "      <td>42</td>\n",
              "      <td>12.601972</td>\n",
              "      <td>2022-04-27 19:35:58.328372</td>\n",
              "      <td>2022-04-27 19:35:59.886067</td>\n",
              "      <td>0 days 00:00:01.557695</td>\n",
              "      <td>3.802362</td>\n",
              "      <td>0.6</td>\n",
              "      <td>2.201393</td>\n",
              "      <td>0.020</td>\n",
              "      <td>15</td>\n",
              "      <td>1</td>\n",
              "      <td>24</td>\n",
              "      <td>1.0</td>\n",
              "      <td>COMPLETE</td>\n",
              "    </tr>\n",
              "    <tr>\n",
              "      <th>43</th>\n",
              "      <td>43</td>\n",
              "      <td>13.113863</td>\n",
              "      <td>2022-04-27 19:35:59.888442</td>\n",
              "      <td>2022-04-27 19:36:00.282880</td>\n",
              "      <td>0 days 00:00:00.394438</td>\n",
              "      <td>0.002133</td>\n",
              "      <td>0.6</td>\n",
              "      <td>2.405726</td>\n",
              "      <td>0.020</td>\n",
              "      <td>15</td>\n",
              "      <td>19</td>\n",
              "      <td>24</td>\n",
              "      <td>1.0</td>\n",
              "      <td>COMPLETE</td>\n",
              "    </tr>\n",
              "    <tr>\n",
              "      <th>44</th>\n",
              "      <td>44</td>\n",
              "      <td>14.143603</td>\n",
              "      <td>2022-04-27 19:36:00.287859</td>\n",
              "      <td>2022-04-27 19:36:00.643411</td>\n",
              "      <td>0 days 00:00:00.355552</td>\n",
              "      <td>3.770103</td>\n",
              "      <td>0.6</td>\n",
              "      <td>1.108729</td>\n",
              "      <td>0.020</td>\n",
              "      <td>15</td>\n",
              "      <td>49</td>\n",
              "      <td>24</td>\n",
              "      <td>1.0</td>\n",
              "      <td>COMPLETE</td>\n",
              "    </tr>\n",
              "    <tr>\n",
              "      <th>45</th>\n",
              "      <td>45</td>\n",
              "      <td>14.191277</td>\n",
              "      <td>2022-04-27 19:36:00.646017</td>\n",
              "      <td>2022-04-27 19:36:01.101581</td>\n",
              "      <td>0 days 00:00:00.455564</td>\n",
              "      <td>6.393294</td>\n",
              "      <td>0.5</td>\n",
              "      <td>2.491007</td>\n",
              "      <td>0.016</td>\n",
              "      <td>13</td>\n",
              "      <td>15</td>\n",
              "      <td>24</td>\n",
              "      <td>0.4</td>\n",
              "      <td>COMPLETE</td>\n",
              "    </tr>\n",
              "    <tr>\n",
              "      <th>46</th>\n",
              "      <td>46</td>\n",
              "      <td>40.422642</td>\n",
              "      <td>2022-04-27 19:36:01.103961</td>\n",
              "      <td>2022-04-27 19:36:01.579595</td>\n",
              "      <td>0 days 00:00:00.475634</td>\n",
              "      <td>5.889921</td>\n",
              "      <td>0.6</td>\n",
              "      <td>1.341896</td>\n",
              "      <td>0.009</td>\n",
              "      <td>17</td>\n",
              "      <td>197</td>\n",
              "      <td>2020</td>\n",
              "      <td>1.0</td>\n",
              "      <td>COMPLETE</td>\n",
              "    </tr>\n",
              "    <tr>\n",
              "      <th>47</th>\n",
              "      <td>47</td>\n",
              "      <td>13.799874</td>\n",
              "      <td>2022-04-27 19:36:01.582682</td>\n",
              "      <td>2022-04-27 19:36:01.959894</td>\n",
              "      <td>0 days 00:00:00.377212</td>\n",
              "      <td>3.127867</td>\n",
              "      <td>0.9</td>\n",
              "      <td>0.001486</td>\n",
              "      <td>0.020</td>\n",
              "      <td>15</td>\n",
              "      <td>34</td>\n",
              "      <td>24</td>\n",
              "      <td>0.7</td>\n",
              "      <td>COMPLETE</td>\n",
              "    </tr>\n",
              "    <tr>\n",
              "      <th>48</th>\n",
              "      <td>48</td>\n",
              "      <td>19.176260</td>\n",
              "      <td>2022-04-27 19:36:01.962353</td>\n",
              "      <td>2022-04-27 19:36:03.039441</td>\n",
              "      <td>0 days 00:00:01.077088</td>\n",
              "      <td>7.684271</td>\n",
              "      <td>0.6</td>\n",
              "      <td>8.456931</td>\n",
              "      <td>0.008</td>\n",
              "      <td>7</td>\n",
              "      <td>67</td>\n",
              "      <td>24</td>\n",
              "      <td>0.6</td>\n",
              "      <td>COMPLETE</td>\n",
              "    </tr>\n",
              "    <tr>\n",
              "      <th>49</th>\n",
              "      <td>49</td>\n",
              "      <td>12.321307</td>\n",
              "      <td>2022-04-27 19:36:03.041925</td>\n",
              "      <td>2022-04-27 19:36:04.348270</td>\n",
              "      <td>0 days 00:00:01.306345</td>\n",
              "      <td>1.007095</td>\n",
              "      <td>0.7</td>\n",
              "      <td>0.750484</td>\n",
              "      <td>0.014</td>\n",
              "      <td>15</td>\n",
              "      <td>1</td>\n",
              "      <td>24</td>\n",
              "      <td>0.4</td>\n",
              "      <td>COMPLETE</td>\n",
              "    </tr>\n",
              "  </tbody>\n",
              "</table>\n",
              "</div>\n",
              "      <button class=\"colab-df-convert\" onclick=\"convertToInteractive('df-b064c3cf-2d42-4fb1-b5bb-50ef2e969b78')\"\n",
              "              title=\"Convert this dataframe to an interactive table.\"\n",
              "              style=\"display:none;\">\n",
              "        \n",
              "  <svg xmlns=\"http://www.w3.org/2000/svg\" height=\"24px\"viewBox=\"0 0 24 24\"\n",
              "       width=\"24px\">\n",
              "    <path d=\"M0 0h24v24H0V0z\" fill=\"none\"/>\n",
              "    <path d=\"M18.56 5.44l.94 2.06.94-2.06 2.06-.94-2.06-.94-.94-2.06-.94 2.06-2.06.94zm-11 1L8.5 8.5l.94-2.06 2.06-.94-2.06-.94L8.5 2.5l-.94 2.06-2.06.94zm10 10l.94 2.06.94-2.06 2.06-.94-2.06-.94-.94-2.06-.94 2.06-2.06.94z\"/><path d=\"M17.41 7.96l-1.37-1.37c-.4-.4-.92-.59-1.43-.59-.52 0-1.04.2-1.43.59L10.3 9.45l-7.72 7.72c-.78.78-.78 2.05 0 2.83L4 21.41c.39.39.9.59 1.41.59.51 0 1.02-.2 1.41-.59l7.78-7.78 2.81-2.81c.8-.78.8-2.07 0-2.86zM5.41 20L4 18.59l7.72-7.72 1.47 1.35L5.41 20z\"/>\n",
              "  </svg>\n",
              "      </button>\n",
              "      \n",
              "  <style>\n",
              "    .colab-df-container {\n",
              "      display:flex;\n",
              "      flex-wrap:wrap;\n",
              "      gap: 12px;\n",
              "    }\n",
              "\n",
              "    .colab-df-convert {\n",
              "      background-color: #E8F0FE;\n",
              "      border: none;\n",
              "      border-radius: 50%;\n",
              "      cursor: pointer;\n",
              "      display: none;\n",
              "      fill: #1967D2;\n",
              "      height: 32px;\n",
              "      padding: 0 0 0 0;\n",
              "      width: 32px;\n",
              "    }\n",
              "\n",
              "    .colab-df-convert:hover {\n",
              "      background-color: #E2EBFA;\n",
              "      box-shadow: 0px 1px 2px rgba(60, 64, 67, 0.3), 0px 1px 3px 1px rgba(60, 64, 67, 0.15);\n",
              "      fill: #174EA6;\n",
              "    }\n",
              "\n",
              "    [theme=dark] .colab-df-convert {\n",
              "      background-color: #3B4455;\n",
              "      fill: #D2E3FC;\n",
              "    }\n",
              "\n",
              "    [theme=dark] .colab-df-convert:hover {\n",
              "      background-color: #434B5C;\n",
              "      box-shadow: 0px 1px 3px 1px rgba(0, 0, 0, 0.15);\n",
              "      filter: drop-shadow(0px 1px 2px rgba(0, 0, 0, 0.3));\n",
              "      fill: #FFFFFF;\n",
              "    }\n",
              "  </style>\n",
              "\n",
              "      <script>\n",
              "        const buttonEl =\n",
              "          document.querySelector('#df-b064c3cf-2d42-4fb1-b5bb-50ef2e969b78 button.colab-df-convert');\n",
              "        buttonEl.style.display =\n",
              "          google.colab.kernel.accessAllowed ? 'block' : 'none';\n",
              "\n",
              "        async function convertToInteractive(key) {\n",
              "          const element = document.querySelector('#df-b064c3cf-2d42-4fb1-b5bb-50ef2e969b78');\n",
              "          const dataTable =\n",
              "            await google.colab.kernel.invokeFunction('convertToInteractive',\n",
              "                                                     [key], {});\n",
              "          if (!dataTable) return;\n",
              "\n",
              "          const docLinkHtml = 'Like what you see? Visit the ' +\n",
              "            '<a target=\"_blank\" href=https://colab.research.google.com/notebooks/data_table.ipynb>data table notebook</a>'\n",
              "            + ' to learn more about interactive tables.';\n",
              "          element.innerHTML = '';\n",
              "          dataTable['output_type'] = 'display_data';\n",
              "          await google.colab.output.renderOutput(dataTable, element);\n",
              "          const docLink = document.createElement('div');\n",
              "          docLink.innerHTML = docLinkHtml;\n",
              "          element.appendChild(docLink);\n",
              "        }\n",
              "      </script>\n",
              "    </div>\n",
              "  </div>\n",
              "  "
            ]
          },
          "metadata": {},
          "execution_count": 64
        }
      ]
    },
    {
      "cell_type": "code",
      "source": [
        "optuna.visualization.plot_optimization_history(study)"
      ],
      "metadata": {
        "colab": {
          "base_uri": "https://localhost:8080/",
          "height": 542
        },
        "id": "xXlSAzjhhvkb",
        "outputId": "e10d1ba8-bfa4-4335-cc80-a063c0d92dfe"
      },
      "execution_count": 65,
      "outputs": [
        {
          "output_type": "display_data",
          "data": {
            "text/html": [
              "<html>\n",
              "<head><meta charset=\"utf-8\" /></head>\n",
              "<body>\n",
              "    <div>            <script src=\"https://cdnjs.cloudflare.com/ajax/libs/mathjax/2.7.5/MathJax.js?config=TeX-AMS-MML_SVG\"></script><script type=\"text/javascript\">if (window.MathJax) {MathJax.Hub.Config({SVG: {font: \"STIX-Web\"}});}</script>                <script type=\"text/javascript\">window.PlotlyConfig = {MathJaxConfig: 'local'};</script>\n",
              "        <script src=\"https://cdn.plot.ly/plotly-2.8.3.min.js\"></script>                <div id=\"8d816559-7176-4de6-9e67-0901755688e4\" class=\"plotly-graph-div\" style=\"height:525px; width:100%;\"></div>            <script type=\"text/javascript\">                                    window.PLOTLYENV=window.PLOTLYENV || {};                                    if (document.getElementById(\"8d816559-7176-4de6-9e67-0901755688e4\")) {                    Plotly.newPlot(                        \"8d816559-7176-4de6-9e67-0901755688e4\",                        [{\"mode\":\"markers\",\"name\":\"Objective Value\",\"x\":[0,1,2,3,4,5,6,7,8,9,10,11,12,13,14,15,16,17,18,19,20,21,22,23,24,25,26,27,28,29,30,31,32,33,34,35,36,37,38,39,40,41,42,43,44,45,46,47,48,49],\"y\":[40.422642174243244,40.422642695297206,40.422642317178926,40.422642450478136,12.976027121452853,40.42264230569137,40.42264302348789,21.632795229807563,14.52015331820405,40.42264275729727,13.023379250058735,13.10472991912463,20.01440209954164,40.42264593641534,12.302439532218907,24.25861719820378,16.817914798118203,21.834252630837934,14.250474947515801,40.42264401957904,21.410920874542573,13.10472991912463,12.96353443378719,14.620507238825184,21.661089315526265,15.259825645646519,13.21409404897218,20.534843360618716,14.127684671359312,15.082160679919584,40.422642695297206,12.583533787101159,14.165686948129277,12.526844986831874,15.099656964064849,21.283965766111656,12.922145133564333,40.422642317178926,40.422642317178926,14.586841111059032,20.750737034103302,12.601972164517836,12.601972164517836,13.113863249956626,14.14360270571202,14.191277498517561,40.422642174243244,13.79987435964846,19.176259618644973,12.321307396997014],\"type\":\"scatter\"},{\"name\":\"Best Value\",\"x\":[0,1,2,3,4,5,6,7,8,9,10,11,12,13,14,15,16,17,18,19,20,21,22,23,24,25,26,27,28,29,30,31,32,33,34,35,36,37,38,39,40,41,42,43,44,45,46,47,48,49],\"y\":[40.422642174243244,40.422642174243244,40.422642174243244,40.422642174243244,12.976027121452853,12.976027121452853,12.976027121452853,12.976027121452853,12.976027121452853,12.976027121452853,12.976027121452853,12.976027121452853,12.976027121452853,12.976027121452853,12.302439532218907,12.302439532218907,12.302439532218907,12.302439532218907,12.302439532218907,12.302439532218907,12.302439532218907,12.302439532218907,12.302439532218907,12.302439532218907,12.302439532218907,12.302439532218907,12.302439532218907,12.302439532218907,12.302439532218907,12.302439532218907,12.302439532218907,12.302439532218907,12.302439532218907,12.302439532218907,12.302439532218907,12.302439532218907,12.302439532218907,12.302439532218907,12.302439532218907,12.302439532218907,12.302439532218907,12.302439532218907,12.302439532218907,12.302439532218907,12.302439532218907,12.302439532218907,12.302439532218907,12.302439532218907,12.302439532218907,12.302439532218907],\"type\":\"scatter\"}],                        {\"title\":{\"text\":\"Optimization History Plot\"},\"xaxis\":{\"title\":{\"text\":\"#Trials\"}},\"yaxis\":{\"title\":{\"text\":\"Objective Value\"}},\"template\":{\"data\":{\"bar\":[{\"error_x\":{\"color\":\"#2a3f5f\"},\"error_y\":{\"color\":\"#2a3f5f\"},\"marker\":{\"line\":{\"color\":\"#E5ECF6\",\"width\":0.5},\"pattern\":{\"fillmode\":\"overlay\",\"size\":10,\"solidity\":0.2}},\"type\":\"bar\"}],\"barpolar\":[{\"marker\":{\"line\":{\"color\":\"#E5ECF6\",\"width\":0.5},\"pattern\":{\"fillmode\":\"overlay\",\"size\":10,\"solidity\":0.2}},\"type\":\"barpolar\"}],\"carpet\":[{\"aaxis\":{\"endlinecolor\":\"#2a3f5f\",\"gridcolor\":\"white\",\"linecolor\":\"white\",\"minorgridcolor\":\"white\",\"startlinecolor\":\"#2a3f5f\"},\"baxis\":{\"endlinecolor\":\"#2a3f5f\",\"gridcolor\":\"white\",\"linecolor\":\"white\",\"minorgridcolor\":\"white\",\"startlinecolor\":\"#2a3f5f\"},\"type\":\"carpet\"}],\"choropleth\":[{\"colorbar\":{\"outlinewidth\":0,\"ticks\":\"\"},\"type\":\"choropleth\"}],\"contour\":[{\"colorbar\":{\"outlinewidth\":0,\"ticks\":\"\"},\"colorscale\":[[0.0,\"#0d0887\"],[0.1111111111111111,\"#46039f\"],[0.2222222222222222,\"#7201a8\"],[0.3333333333333333,\"#9c179e\"],[0.4444444444444444,\"#bd3786\"],[0.5555555555555556,\"#d8576b\"],[0.6666666666666666,\"#ed7953\"],[0.7777777777777778,\"#fb9f3a\"],[0.8888888888888888,\"#fdca26\"],[1.0,\"#f0f921\"]],\"type\":\"contour\"}],\"contourcarpet\":[{\"colorbar\":{\"outlinewidth\":0,\"ticks\":\"\"},\"type\":\"contourcarpet\"}],\"heatmap\":[{\"colorbar\":{\"outlinewidth\":0,\"ticks\":\"\"},\"colorscale\":[[0.0,\"#0d0887\"],[0.1111111111111111,\"#46039f\"],[0.2222222222222222,\"#7201a8\"],[0.3333333333333333,\"#9c179e\"],[0.4444444444444444,\"#bd3786\"],[0.5555555555555556,\"#d8576b\"],[0.6666666666666666,\"#ed7953\"],[0.7777777777777778,\"#fb9f3a\"],[0.8888888888888888,\"#fdca26\"],[1.0,\"#f0f921\"]],\"type\":\"heatmap\"}],\"heatmapgl\":[{\"colorbar\":{\"outlinewidth\":0,\"ticks\":\"\"},\"colorscale\":[[0.0,\"#0d0887\"],[0.1111111111111111,\"#46039f\"],[0.2222222222222222,\"#7201a8\"],[0.3333333333333333,\"#9c179e\"],[0.4444444444444444,\"#bd3786\"],[0.5555555555555556,\"#d8576b\"],[0.6666666666666666,\"#ed7953\"],[0.7777777777777778,\"#fb9f3a\"],[0.8888888888888888,\"#fdca26\"],[1.0,\"#f0f921\"]],\"type\":\"heatmapgl\"}],\"histogram\":[{\"marker\":{\"pattern\":{\"fillmode\":\"overlay\",\"size\":10,\"solidity\":0.2}},\"type\":\"histogram\"}],\"histogram2d\":[{\"colorbar\":{\"outlinewidth\":0,\"ticks\":\"\"},\"colorscale\":[[0.0,\"#0d0887\"],[0.1111111111111111,\"#46039f\"],[0.2222222222222222,\"#7201a8\"],[0.3333333333333333,\"#9c179e\"],[0.4444444444444444,\"#bd3786\"],[0.5555555555555556,\"#d8576b\"],[0.6666666666666666,\"#ed7953\"],[0.7777777777777778,\"#fb9f3a\"],[0.8888888888888888,\"#fdca26\"],[1.0,\"#f0f921\"]],\"type\":\"histogram2d\"}],\"histogram2dcontour\":[{\"colorbar\":{\"outlinewidth\":0,\"ticks\":\"\"},\"colorscale\":[[0.0,\"#0d0887\"],[0.1111111111111111,\"#46039f\"],[0.2222222222222222,\"#7201a8\"],[0.3333333333333333,\"#9c179e\"],[0.4444444444444444,\"#bd3786\"],[0.5555555555555556,\"#d8576b\"],[0.6666666666666666,\"#ed7953\"],[0.7777777777777778,\"#fb9f3a\"],[0.8888888888888888,\"#fdca26\"],[1.0,\"#f0f921\"]],\"type\":\"histogram2dcontour\"}],\"mesh3d\":[{\"colorbar\":{\"outlinewidth\":0,\"ticks\":\"\"},\"type\":\"mesh3d\"}],\"parcoords\":[{\"line\":{\"colorbar\":{\"outlinewidth\":0,\"ticks\":\"\"}},\"type\":\"parcoords\"}],\"pie\":[{\"automargin\":true,\"type\":\"pie\"}],\"scatter\":[{\"marker\":{\"colorbar\":{\"outlinewidth\":0,\"ticks\":\"\"}},\"type\":\"scatter\"}],\"scatter3d\":[{\"line\":{\"colorbar\":{\"outlinewidth\":0,\"ticks\":\"\"}},\"marker\":{\"colorbar\":{\"outlinewidth\":0,\"ticks\":\"\"}},\"type\":\"scatter3d\"}],\"scattercarpet\":[{\"marker\":{\"colorbar\":{\"outlinewidth\":0,\"ticks\":\"\"}},\"type\":\"scattercarpet\"}],\"scattergeo\":[{\"marker\":{\"colorbar\":{\"outlinewidth\":0,\"ticks\":\"\"}},\"type\":\"scattergeo\"}],\"scattergl\":[{\"marker\":{\"colorbar\":{\"outlinewidth\":0,\"ticks\":\"\"}},\"type\":\"scattergl\"}],\"scattermapbox\":[{\"marker\":{\"colorbar\":{\"outlinewidth\":0,\"ticks\":\"\"}},\"type\":\"scattermapbox\"}],\"scatterpolar\":[{\"marker\":{\"colorbar\":{\"outlinewidth\":0,\"ticks\":\"\"}},\"type\":\"scatterpolar\"}],\"scatterpolargl\":[{\"marker\":{\"colorbar\":{\"outlinewidth\":0,\"ticks\":\"\"}},\"type\":\"scatterpolargl\"}],\"scatterternary\":[{\"marker\":{\"colorbar\":{\"outlinewidth\":0,\"ticks\":\"\"}},\"type\":\"scatterternary\"}],\"surface\":[{\"colorbar\":{\"outlinewidth\":0,\"ticks\":\"\"},\"colorscale\":[[0.0,\"#0d0887\"],[0.1111111111111111,\"#46039f\"],[0.2222222222222222,\"#7201a8\"],[0.3333333333333333,\"#9c179e\"],[0.4444444444444444,\"#bd3786\"],[0.5555555555555556,\"#d8576b\"],[0.6666666666666666,\"#ed7953\"],[0.7777777777777778,\"#fb9f3a\"],[0.8888888888888888,\"#fdca26\"],[1.0,\"#f0f921\"]],\"type\":\"surface\"}],\"table\":[{\"cells\":{\"fill\":{\"color\":\"#EBF0F8\"},\"line\":{\"color\":\"white\"}},\"header\":{\"fill\":{\"color\":\"#C8D4E3\"},\"line\":{\"color\":\"white\"}},\"type\":\"table\"}]},\"layout\":{\"annotationdefaults\":{\"arrowcolor\":\"#2a3f5f\",\"arrowhead\":0,\"arrowwidth\":1},\"autotypenumbers\":\"strict\",\"coloraxis\":{\"colorbar\":{\"outlinewidth\":0,\"ticks\":\"\"}},\"colorscale\":{\"diverging\":[[0,\"#8e0152\"],[0.1,\"#c51b7d\"],[0.2,\"#de77ae\"],[0.3,\"#f1b6da\"],[0.4,\"#fde0ef\"],[0.5,\"#f7f7f7\"],[0.6,\"#e6f5d0\"],[0.7,\"#b8e186\"],[0.8,\"#7fbc41\"],[0.9,\"#4d9221\"],[1,\"#276419\"]],\"sequential\":[[0.0,\"#0d0887\"],[0.1111111111111111,\"#46039f\"],[0.2222222222222222,\"#7201a8\"],[0.3333333333333333,\"#9c179e\"],[0.4444444444444444,\"#bd3786\"],[0.5555555555555556,\"#d8576b\"],[0.6666666666666666,\"#ed7953\"],[0.7777777777777778,\"#fb9f3a\"],[0.8888888888888888,\"#fdca26\"],[1.0,\"#f0f921\"]],\"sequentialminus\":[[0.0,\"#0d0887\"],[0.1111111111111111,\"#46039f\"],[0.2222222222222222,\"#7201a8\"],[0.3333333333333333,\"#9c179e\"],[0.4444444444444444,\"#bd3786\"],[0.5555555555555556,\"#d8576b\"],[0.6666666666666666,\"#ed7953\"],[0.7777777777777778,\"#fb9f3a\"],[0.8888888888888888,\"#fdca26\"],[1.0,\"#f0f921\"]]},\"colorway\":[\"#636efa\",\"#EF553B\",\"#00cc96\",\"#ab63fa\",\"#FFA15A\",\"#19d3f3\",\"#FF6692\",\"#B6E880\",\"#FF97FF\",\"#FECB52\"],\"font\":{\"color\":\"#2a3f5f\"},\"geo\":{\"bgcolor\":\"white\",\"lakecolor\":\"white\",\"landcolor\":\"#E5ECF6\",\"showlakes\":true,\"showland\":true,\"subunitcolor\":\"white\"},\"hoverlabel\":{\"align\":\"left\"},\"hovermode\":\"closest\",\"mapbox\":{\"style\":\"light\"},\"paper_bgcolor\":\"white\",\"plot_bgcolor\":\"#E5ECF6\",\"polar\":{\"angularaxis\":{\"gridcolor\":\"white\",\"linecolor\":\"white\",\"ticks\":\"\"},\"bgcolor\":\"#E5ECF6\",\"radialaxis\":{\"gridcolor\":\"white\",\"linecolor\":\"white\",\"ticks\":\"\"}},\"scene\":{\"xaxis\":{\"backgroundcolor\":\"#E5ECF6\",\"gridcolor\":\"white\",\"gridwidth\":2,\"linecolor\":\"white\",\"showbackground\":true,\"ticks\":\"\",\"zerolinecolor\":\"white\"},\"yaxis\":{\"backgroundcolor\":\"#E5ECF6\",\"gridcolor\":\"white\",\"gridwidth\":2,\"linecolor\":\"white\",\"showbackground\":true,\"ticks\":\"\",\"zerolinecolor\":\"white\"},\"zaxis\":{\"backgroundcolor\":\"#E5ECF6\",\"gridcolor\":\"white\",\"gridwidth\":2,\"linecolor\":\"white\",\"showbackground\":true,\"ticks\":\"\",\"zerolinecolor\":\"white\"}},\"shapedefaults\":{\"line\":{\"color\":\"#2a3f5f\"}},\"ternary\":{\"aaxis\":{\"gridcolor\":\"white\",\"linecolor\":\"white\",\"ticks\":\"\"},\"baxis\":{\"gridcolor\":\"white\",\"linecolor\":\"white\",\"ticks\":\"\"},\"bgcolor\":\"#E5ECF6\",\"caxis\":{\"gridcolor\":\"white\",\"linecolor\":\"white\",\"ticks\":\"\"}},\"title\":{\"x\":0.05},\"xaxis\":{\"automargin\":true,\"gridcolor\":\"white\",\"linecolor\":\"white\",\"ticks\":\"\",\"title\":{\"standoff\":15},\"zerolinecolor\":\"white\",\"zerolinewidth\":2},\"yaxis\":{\"automargin\":true,\"gridcolor\":\"white\",\"linecolor\":\"white\",\"ticks\":\"\",\"title\":{\"standoff\":15},\"zerolinecolor\":\"white\",\"zerolinewidth\":2}}}},                        {\"responsive\": true}                    ).then(function(){\n",
              "                            \n",
              "var gd = document.getElementById('8d816559-7176-4de6-9e67-0901755688e4');\n",
              "var x = new MutationObserver(function (mutations, observer) {{\n",
              "        var display = window.getComputedStyle(gd).display;\n",
              "        if (!display || display === 'none') {{\n",
              "            console.log([gd, 'removed!']);\n",
              "            Plotly.purge(gd);\n",
              "            observer.disconnect();\n",
              "        }}\n",
              "}});\n",
              "\n",
              "// Listen for the removal of the full notebook cells\n",
              "var notebookContainer = gd.closest('#notebook-container');\n",
              "if (notebookContainer) {{\n",
              "    x.observe(notebookContainer, {childList: true});\n",
              "}}\n",
              "\n",
              "// Listen for the clearing of the current output cell\n",
              "var outputEl = gd.closest('.output');\n",
              "if (outputEl) {{\n",
              "    x.observe(outputEl, {childList: true});\n",
              "}}\n",
              "\n",
              "                        })                };                            </script>        </div>\n",
              "</body>\n",
              "</html>"
            ]
          },
          "metadata": {}
        }
      ]
    },
    {
      "cell_type": "code",
      "source": [
        "optuna.visualization.plot_parallel_coordinate(study)"
      ],
      "metadata": {
        "colab": {
          "base_uri": "https://localhost:8080/",
          "height": 542
        },
        "id": "XTULGf6Fh0gk",
        "outputId": "396fa692-c8a5-451e-fcbd-d1eaa022f520"
      },
      "execution_count": 66,
      "outputs": [
        {
          "output_type": "display_data",
          "data": {
            "text/html": [
              "<html>\n",
              "<head><meta charset=\"utf-8\" /></head>\n",
              "<body>\n",
              "    <div>            <script src=\"https://cdnjs.cloudflare.com/ajax/libs/mathjax/2.7.5/MathJax.js?config=TeX-AMS-MML_SVG\"></script><script type=\"text/javascript\">if (window.MathJax) {MathJax.Hub.Config({SVG: {font: \"STIX-Web\"}});}</script>                <script type=\"text/javascript\">window.PlotlyConfig = {MathJaxConfig: 'local'};</script>\n",
              "        <script src=\"https://cdn.plot.ly/plotly-2.8.3.min.js\"></script>                <div id=\"3d56f210-919e-4b2d-8191-07eb75b843d5\" class=\"plotly-graph-div\" style=\"height:525px; width:100%;\"></div>            <script type=\"text/javascript\">                                    window.PLOTLYENV=window.PLOTLYENV || {};                                    if (document.getElementById(\"3d56f210-919e-4b2d-8191-07eb75b843d5\")) {                    Plotly.newPlot(                        \"3d56f210-919e-4b2d-8191-07eb75b843d5\",                        [{\"dimensions\":[{\"label\":\"Objective Value\",\"range\":[12.302439532218907,40.42264593641534],\"values\":[15.259825645646519,40.422642317178926,14.586841111059032,14.165686948129277,40.422642450478136,40.422642695297206,20.750737034103302,40.422642174243244,15.082160679919584,40.42264302348789,14.191277498517561,19.176259618644973,13.023379250058735,13.10472991912463,40.42264593641534,13.10472991912463,12.583533787101159,40.422642174243244,12.526844986831874,15.099656964064849,12.922145133564333,40.422642317178926,12.601972164517836,12.601972164517836,13.113863249956626,14.14360270571202,21.283965766111656,40.422642317178926,21.834252630837934,12.321307396997014,21.410920874542573,12.302439532218907,24.25861719820378,16.817914798118203,14.127684671359312,21.632795229807563,12.976027121452853,20.534843360618716,40.42264401957904,14.250474947515801,40.42264275729727,40.42264230569137,14.52015331820405,13.79987435964846,14.620507238825184,13.21409404897218,40.422642695297206,12.96353443378719,21.661089315526265,20.01440209954164]},{\"label\":\"alpha\",\"range\":[-2.9540633147786526,0.9969284885428731],\"ticktext\":[\"0.00111\",\"0.01\",\"0.1\",\"1\",\"9.93\"],\"tickvals\":[-2.9540633147786526,-2,-1,0,0.9969284885428731],\"values\":[0.38355405572081036,0.8761423610276333,0.23743320815964478,0.7030089148323776,-2.9540633147786526,-1.3182892858800541,-0.9499741045236219,-2.3787019816486166,-1.7277329894187528,-0.9515790661919641,0.805724671130523,0.8856026785538325,0.9829227099800443,0.8628756408625673,0.20180124363381213,0.5991477937470164,0.9778893725138658,0.7701095035885448,0.9235147124811909,0.9969284885428731,0.17166436766680881,-0.7099903013477891,0.8258528798358611,0.5800535141022573,-2.6709399770418356,0.5763531833864126,0.7597210136999837,0.15608488801486942,-1.4085373713327995,0.0030703458501678176,-1.096001586435155,-0.5520020709124486,-0.6488551544810232,-0.37502105427551585,-0.23174222518687987,-2.0891898382408325,0.5877280099421268,-0.6554718506227531,-0.39412338431919924,0.4071089863535007,0.06840632358232356,-2.930302731625746,-2.024363694493176,0.49524828267175336,0.48576609362447565,0.6851520565520285,0.32872537488493675,0.9910527830874207,-0.12746290380670316,-0.022229042879187165]},{\"label\":\"colsample_bytree\",\"range\":[0,7],\"ticktext\":[0.3,0.4,0.5,0.6,0.7,0.8,0.9,1.0],\"tickvals\":[0,1,2,3,4,5,6,7],\"values\":[0,0,0,1,1,1,1,2,2,2,2,3,3,3,3,3,3,3,3,3,3,3,3,3,3,3,3,3,4,4,4,5,5,5,5,5,5,5,5,5,6,6,6,6,7,7,7,7,7,7]},{\"label\":\"lambda\",\"range\":[-2.8610717735128044,0.9272127763086216],\"ticktext\":[\"0.00138\",\"0.01\",\"0.1\",\"1\",\"8.46\"],\"tickvals\":[-2.8610717735128044,-2,-1,0,0.9272127763086216],\"values\":[-0.748931951258222,-0.16025200602824094,-0.3658137302754009,-0.5182973581060393,-2.8610717735128044,-1.8248965033626694,0.7427911778907722,0.4719156754789846,0.657633878447409,-1.6483130611026489,0.3963748747462716,0.9272127763086216,-0.31608320289021635,-0.44382339918348346,-1.0080443206824357,-0.20114998470770115,-0.3327665898292422,0.1277187987730443,-0.07550419699701726,-0.05867721007063603,-0.29741665849908183,-0.8745066661956964,0.03343947785766488,0.34269750214067796,0.3812461471772008,0.044825478457077746,0.2678437739807478,-0.2969052858671484,0.22835383050663702,-0.12465831930161506,-1.5070067511580276,0.11962761084562967,0.2692620819080442,-1.2312254482758125,-0.8166620871579836,0.9232713218187404,-1.1273332105598168,0.4766979743978755,-0.6942697314482584,0.8883744099347293,-1.1273705771732818,-2.2351438324428416,-2.178449865578867,-2.827920192396368,0.003340878795111024,0.08974030878362484,-1.3272859351794242,-0.07504209221171093,0.569177372780472,-0.5920467848886851]},{\"label\":\"learning_rate\",\"range\":[0,7],\"ticktext\":[0.008,0.009,0.01,0.012,0.014,0.016,0.018,0.02],\"tickvals\":[0,1,2,3,4,5,6,7],\"values\":[2,7,7,0,3,3,6,1,1,5,5,0,0,0,0,0,0,1,7,7,7,7,7,7,7,7,7,7,2,4,5,2,2,2,2,3,3,3,4,6,1,6,7,7,3,3,3,3,3,4]},{\"label\":\"max_depth\",\"range\":[0,7],\"ticktext\":[5,7,9,11,13,15,17,20],\"tickvals\":[0,1,2,3,4,5,6,7],\"values\":[7,3,5,7,2,5,3,4,4,1,4,1,7,7,7,7,7,6,5,5,5,5,5,5,5,5,5,5,6,5,3,0,0,0,1,4,7,7,2,0,6,5,1,5,0,0,2,7,7,7]},{\"label\":\"min_child_weight\",\"range\":[1,292],\"values\":[52,263,27,16,81,278,95,232,51,176,15,67,11,2,122,2,7,197,3,40,5,244,1,1,19,49,73,292,117,1,60,2,75,40,23,115,11,83,154,27,202,231,37,34,33,18,148,1,97,61]},{\"label\":\"random_state\",\"range\":[0,2],\"ticktext\":[24,48,2020],\"tickvals\":[0,1,2],\"values\":[0,2,1,0,1,1,0,1,2,2,0,0,0,0,0,0,0,2,0,0,0,0,0,0,0,0,1,2,0,0,0,0,0,0,1,0,0,0,2,0,2,1,0,0,0,0,1,0,0,0]},{\"label\":\"subsample\",\"range\":[0,5],\"ticktext\":[0.4,0.5,0.6,0.7,0.8,1.0],\"tickvals\":[0,1,2,3,4,5],\"values\":[5,5,5,1,0,1,4,5,5,1,0,2,1,1,1,1,1,5,1,1,5,5,5,5,5,5,1,5,3,0,0,0,0,0,0,4,1,3,0,2,3,4,2,3,1,4,1,1,2,1]}],\"labelangle\":30,\"labelside\":\"bottom\",\"line\":{\"color\":[15.259825645646519,40.422642317178926,14.586841111059032,14.165686948129277,40.422642450478136,40.422642695297206,20.750737034103302,40.422642174243244,15.082160679919584,40.42264302348789,14.191277498517561,19.176259618644973,13.023379250058735,13.10472991912463,40.42264593641534,13.10472991912463,12.583533787101159,40.422642174243244,12.526844986831874,15.099656964064849,12.922145133564333,40.422642317178926,12.601972164517836,12.601972164517836,13.113863249956626,14.14360270571202,21.283965766111656,40.422642317178926,21.834252630837934,12.321307396997014,21.410920874542573,12.302439532218907,24.25861719820378,16.817914798118203,14.127684671359312,21.632795229807563,12.976027121452853,20.534843360618716,40.42264401957904,14.250474947515801,40.42264275729727,40.42264230569137,14.52015331820405,13.79987435964846,14.620507238825184,13.21409404897218,40.422642695297206,12.96353443378719,21.661089315526265,20.01440209954164],\"colorbar\":{\"title\":{\"text\":\"Objective Value\"}},\"colorscale\":[[0.0,\"rgb(247,251,255)\"],[0.125,\"rgb(222,235,247)\"],[0.25,\"rgb(198,219,239)\"],[0.375,\"rgb(158,202,225)\"],[0.5,\"rgb(107,174,214)\"],[0.625,\"rgb(66,146,198)\"],[0.75,\"rgb(33,113,181)\"],[0.875,\"rgb(8,81,156)\"],[1.0,\"rgb(8,48,107)\"]],\"reversescale\":true,\"showscale\":true},\"type\":\"parcoords\"}],                        {\"title\":{\"text\":\"Parallel Coordinate Plot\"},\"template\":{\"data\":{\"bar\":[{\"error_x\":{\"color\":\"#2a3f5f\"},\"error_y\":{\"color\":\"#2a3f5f\"},\"marker\":{\"line\":{\"color\":\"#E5ECF6\",\"width\":0.5},\"pattern\":{\"fillmode\":\"overlay\",\"size\":10,\"solidity\":0.2}},\"type\":\"bar\"}],\"barpolar\":[{\"marker\":{\"line\":{\"color\":\"#E5ECF6\",\"width\":0.5},\"pattern\":{\"fillmode\":\"overlay\",\"size\":10,\"solidity\":0.2}},\"type\":\"barpolar\"}],\"carpet\":[{\"aaxis\":{\"endlinecolor\":\"#2a3f5f\",\"gridcolor\":\"white\",\"linecolor\":\"white\",\"minorgridcolor\":\"white\",\"startlinecolor\":\"#2a3f5f\"},\"baxis\":{\"endlinecolor\":\"#2a3f5f\",\"gridcolor\":\"white\",\"linecolor\":\"white\",\"minorgridcolor\":\"white\",\"startlinecolor\":\"#2a3f5f\"},\"type\":\"carpet\"}],\"choropleth\":[{\"colorbar\":{\"outlinewidth\":0,\"ticks\":\"\"},\"type\":\"choropleth\"}],\"contour\":[{\"colorbar\":{\"outlinewidth\":0,\"ticks\":\"\"},\"colorscale\":[[0.0,\"#0d0887\"],[0.1111111111111111,\"#46039f\"],[0.2222222222222222,\"#7201a8\"],[0.3333333333333333,\"#9c179e\"],[0.4444444444444444,\"#bd3786\"],[0.5555555555555556,\"#d8576b\"],[0.6666666666666666,\"#ed7953\"],[0.7777777777777778,\"#fb9f3a\"],[0.8888888888888888,\"#fdca26\"],[1.0,\"#f0f921\"]],\"type\":\"contour\"}],\"contourcarpet\":[{\"colorbar\":{\"outlinewidth\":0,\"ticks\":\"\"},\"type\":\"contourcarpet\"}],\"heatmap\":[{\"colorbar\":{\"outlinewidth\":0,\"ticks\":\"\"},\"colorscale\":[[0.0,\"#0d0887\"],[0.1111111111111111,\"#46039f\"],[0.2222222222222222,\"#7201a8\"],[0.3333333333333333,\"#9c179e\"],[0.4444444444444444,\"#bd3786\"],[0.5555555555555556,\"#d8576b\"],[0.6666666666666666,\"#ed7953\"],[0.7777777777777778,\"#fb9f3a\"],[0.8888888888888888,\"#fdca26\"],[1.0,\"#f0f921\"]],\"type\":\"heatmap\"}],\"heatmapgl\":[{\"colorbar\":{\"outlinewidth\":0,\"ticks\":\"\"},\"colorscale\":[[0.0,\"#0d0887\"],[0.1111111111111111,\"#46039f\"],[0.2222222222222222,\"#7201a8\"],[0.3333333333333333,\"#9c179e\"],[0.4444444444444444,\"#bd3786\"],[0.5555555555555556,\"#d8576b\"],[0.6666666666666666,\"#ed7953\"],[0.7777777777777778,\"#fb9f3a\"],[0.8888888888888888,\"#fdca26\"],[1.0,\"#f0f921\"]],\"type\":\"heatmapgl\"}],\"histogram\":[{\"marker\":{\"pattern\":{\"fillmode\":\"overlay\",\"size\":10,\"solidity\":0.2}},\"type\":\"histogram\"}],\"histogram2d\":[{\"colorbar\":{\"outlinewidth\":0,\"ticks\":\"\"},\"colorscale\":[[0.0,\"#0d0887\"],[0.1111111111111111,\"#46039f\"],[0.2222222222222222,\"#7201a8\"],[0.3333333333333333,\"#9c179e\"],[0.4444444444444444,\"#bd3786\"],[0.5555555555555556,\"#d8576b\"],[0.6666666666666666,\"#ed7953\"],[0.7777777777777778,\"#fb9f3a\"],[0.8888888888888888,\"#fdca26\"],[1.0,\"#f0f921\"]],\"type\":\"histogram2d\"}],\"histogram2dcontour\":[{\"colorbar\":{\"outlinewidth\":0,\"ticks\":\"\"},\"colorscale\":[[0.0,\"#0d0887\"],[0.1111111111111111,\"#46039f\"],[0.2222222222222222,\"#7201a8\"],[0.3333333333333333,\"#9c179e\"],[0.4444444444444444,\"#bd3786\"],[0.5555555555555556,\"#d8576b\"],[0.6666666666666666,\"#ed7953\"],[0.7777777777777778,\"#fb9f3a\"],[0.8888888888888888,\"#fdca26\"],[1.0,\"#f0f921\"]],\"type\":\"histogram2dcontour\"}],\"mesh3d\":[{\"colorbar\":{\"outlinewidth\":0,\"ticks\":\"\"},\"type\":\"mesh3d\"}],\"parcoords\":[{\"line\":{\"colorbar\":{\"outlinewidth\":0,\"ticks\":\"\"}},\"type\":\"parcoords\"}],\"pie\":[{\"automargin\":true,\"type\":\"pie\"}],\"scatter\":[{\"marker\":{\"colorbar\":{\"outlinewidth\":0,\"ticks\":\"\"}},\"type\":\"scatter\"}],\"scatter3d\":[{\"line\":{\"colorbar\":{\"outlinewidth\":0,\"ticks\":\"\"}},\"marker\":{\"colorbar\":{\"outlinewidth\":0,\"ticks\":\"\"}},\"type\":\"scatter3d\"}],\"scattercarpet\":[{\"marker\":{\"colorbar\":{\"outlinewidth\":0,\"ticks\":\"\"}},\"type\":\"scattercarpet\"}],\"scattergeo\":[{\"marker\":{\"colorbar\":{\"outlinewidth\":0,\"ticks\":\"\"}},\"type\":\"scattergeo\"}],\"scattergl\":[{\"marker\":{\"colorbar\":{\"outlinewidth\":0,\"ticks\":\"\"}},\"type\":\"scattergl\"}],\"scattermapbox\":[{\"marker\":{\"colorbar\":{\"outlinewidth\":0,\"ticks\":\"\"}},\"type\":\"scattermapbox\"}],\"scatterpolar\":[{\"marker\":{\"colorbar\":{\"outlinewidth\":0,\"ticks\":\"\"}},\"type\":\"scatterpolar\"}],\"scatterpolargl\":[{\"marker\":{\"colorbar\":{\"outlinewidth\":0,\"ticks\":\"\"}},\"type\":\"scatterpolargl\"}],\"scatterternary\":[{\"marker\":{\"colorbar\":{\"outlinewidth\":0,\"ticks\":\"\"}},\"type\":\"scatterternary\"}],\"surface\":[{\"colorbar\":{\"outlinewidth\":0,\"ticks\":\"\"},\"colorscale\":[[0.0,\"#0d0887\"],[0.1111111111111111,\"#46039f\"],[0.2222222222222222,\"#7201a8\"],[0.3333333333333333,\"#9c179e\"],[0.4444444444444444,\"#bd3786\"],[0.5555555555555556,\"#d8576b\"],[0.6666666666666666,\"#ed7953\"],[0.7777777777777778,\"#fb9f3a\"],[0.8888888888888888,\"#fdca26\"],[1.0,\"#f0f921\"]],\"type\":\"surface\"}],\"table\":[{\"cells\":{\"fill\":{\"color\":\"#EBF0F8\"},\"line\":{\"color\":\"white\"}},\"header\":{\"fill\":{\"color\":\"#C8D4E3\"},\"line\":{\"color\":\"white\"}},\"type\":\"table\"}]},\"layout\":{\"annotationdefaults\":{\"arrowcolor\":\"#2a3f5f\",\"arrowhead\":0,\"arrowwidth\":1},\"autotypenumbers\":\"strict\",\"coloraxis\":{\"colorbar\":{\"outlinewidth\":0,\"ticks\":\"\"}},\"colorscale\":{\"diverging\":[[0,\"#8e0152\"],[0.1,\"#c51b7d\"],[0.2,\"#de77ae\"],[0.3,\"#f1b6da\"],[0.4,\"#fde0ef\"],[0.5,\"#f7f7f7\"],[0.6,\"#e6f5d0\"],[0.7,\"#b8e186\"],[0.8,\"#7fbc41\"],[0.9,\"#4d9221\"],[1,\"#276419\"]],\"sequential\":[[0.0,\"#0d0887\"],[0.1111111111111111,\"#46039f\"],[0.2222222222222222,\"#7201a8\"],[0.3333333333333333,\"#9c179e\"],[0.4444444444444444,\"#bd3786\"],[0.5555555555555556,\"#d8576b\"],[0.6666666666666666,\"#ed7953\"],[0.7777777777777778,\"#fb9f3a\"],[0.8888888888888888,\"#fdca26\"],[1.0,\"#f0f921\"]],\"sequentialminus\":[[0.0,\"#0d0887\"],[0.1111111111111111,\"#46039f\"],[0.2222222222222222,\"#7201a8\"],[0.3333333333333333,\"#9c179e\"],[0.4444444444444444,\"#bd3786\"],[0.5555555555555556,\"#d8576b\"],[0.6666666666666666,\"#ed7953\"],[0.7777777777777778,\"#fb9f3a\"],[0.8888888888888888,\"#fdca26\"],[1.0,\"#f0f921\"]]},\"colorway\":[\"#636efa\",\"#EF553B\",\"#00cc96\",\"#ab63fa\",\"#FFA15A\",\"#19d3f3\",\"#FF6692\",\"#B6E880\",\"#FF97FF\",\"#FECB52\"],\"font\":{\"color\":\"#2a3f5f\"},\"geo\":{\"bgcolor\":\"white\",\"lakecolor\":\"white\",\"landcolor\":\"#E5ECF6\",\"showlakes\":true,\"showland\":true,\"subunitcolor\":\"white\"},\"hoverlabel\":{\"align\":\"left\"},\"hovermode\":\"closest\",\"mapbox\":{\"style\":\"light\"},\"paper_bgcolor\":\"white\",\"plot_bgcolor\":\"#E5ECF6\",\"polar\":{\"angularaxis\":{\"gridcolor\":\"white\",\"linecolor\":\"white\",\"ticks\":\"\"},\"bgcolor\":\"#E5ECF6\",\"radialaxis\":{\"gridcolor\":\"white\",\"linecolor\":\"white\",\"ticks\":\"\"}},\"scene\":{\"xaxis\":{\"backgroundcolor\":\"#E5ECF6\",\"gridcolor\":\"white\",\"gridwidth\":2,\"linecolor\":\"white\",\"showbackground\":true,\"ticks\":\"\",\"zerolinecolor\":\"white\"},\"yaxis\":{\"backgroundcolor\":\"#E5ECF6\",\"gridcolor\":\"white\",\"gridwidth\":2,\"linecolor\":\"white\",\"showbackground\":true,\"ticks\":\"\",\"zerolinecolor\":\"white\"},\"zaxis\":{\"backgroundcolor\":\"#E5ECF6\",\"gridcolor\":\"white\",\"gridwidth\":2,\"linecolor\":\"white\",\"showbackground\":true,\"ticks\":\"\",\"zerolinecolor\":\"white\"}},\"shapedefaults\":{\"line\":{\"color\":\"#2a3f5f\"}},\"ternary\":{\"aaxis\":{\"gridcolor\":\"white\",\"linecolor\":\"white\",\"ticks\":\"\"},\"baxis\":{\"gridcolor\":\"white\",\"linecolor\":\"white\",\"ticks\":\"\"},\"bgcolor\":\"#E5ECF6\",\"caxis\":{\"gridcolor\":\"white\",\"linecolor\":\"white\",\"ticks\":\"\"}},\"title\":{\"x\":0.05},\"xaxis\":{\"automargin\":true,\"gridcolor\":\"white\",\"linecolor\":\"white\",\"ticks\":\"\",\"title\":{\"standoff\":15},\"zerolinecolor\":\"white\",\"zerolinewidth\":2},\"yaxis\":{\"automargin\":true,\"gridcolor\":\"white\",\"linecolor\":\"white\",\"ticks\":\"\",\"title\":{\"standoff\":15},\"zerolinecolor\":\"white\",\"zerolinewidth\":2}}}},                        {\"responsive\": true}                    ).then(function(){\n",
              "                            \n",
              "var gd = document.getElementById('3d56f210-919e-4b2d-8191-07eb75b843d5');\n",
              "var x = new MutationObserver(function (mutations, observer) {{\n",
              "        var display = window.getComputedStyle(gd).display;\n",
              "        if (!display || display === 'none') {{\n",
              "            console.log([gd, 'removed!']);\n",
              "            Plotly.purge(gd);\n",
              "            observer.disconnect();\n",
              "        }}\n",
              "}});\n",
              "\n",
              "// Listen for the removal of the full notebook cells\n",
              "var notebookContainer = gd.closest('#notebook-container');\n",
              "if (notebookContainer) {{\n",
              "    x.observe(notebookContainer, {childList: true});\n",
              "}}\n",
              "\n",
              "// Listen for the clearing of the current output cell\n",
              "var outputEl = gd.closest('.output');\n",
              "if (outputEl) {{\n",
              "    x.observe(outputEl, {childList: true});\n",
              "}}\n",
              "\n",
              "                        })                };                            </script>        </div>\n",
              "</body>\n",
              "</html>"
            ]
          },
          "metadata": {}
        }
      ]
    },
    {
      "cell_type": "code",
      "source": [
        "optuna.visualization.plot_slice(study)"
      ],
      "metadata": {
        "colab": {
          "base_uri": "https://localhost:8080/",
          "height": 562
        },
        "id": "6m1j2VDyh4-A",
        "outputId": "c71e2329-243a-405d-dc46-c181f74277bf"
      },
      "execution_count": 67,
      "outputs": [
        {
          "output_type": "display_data",
          "data": {
            "text/html": [
              "<html>\n",
              "<head><meta charset=\"utf-8\" /></head>\n",
              "<body>\n",
              "    <div>            <script src=\"https://cdnjs.cloudflare.com/ajax/libs/mathjax/2.7.5/MathJax.js?config=TeX-AMS-MML_SVG\"></script><script type=\"text/javascript\">if (window.MathJax) {MathJax.Hub.Config({SVG: {font: \"STIX-Web\"}});}</script>                <script type=\"text/javascript\">window.PlotlyConfig = {MathJaxConfig: 'local'};</script>\n",
              "        <script src=\"https://cdn.plot.ly/plotly-2.8.3.min.js\"></script>                <div id=\"64838cc8-8315-45d3-bb37-1f38b003d42c\" class=\"plotly-graph-div\" style=\"height:525px; width:2400px;\"></div>            <script type=\"text/javascript\">                                    window.PLOTLYENV=window.PLOTLYENV || {};                                    if (document.getElementById(\"64838cc8-8315-45d3-bb37-1f38b003d42c\")) {                    Plotly.newPlot(                        \"64838cc8-8315-45d3-bb37-1f38b003d42c\",                        [{\"marker\":{\"color\":[0,1,2,3,4,5,6,7,8,9,10,11,12,13,14,15,16,17,18,19,20,21,22,23,24,25,26,27,28,29,30,31,32,33,34,35,36,37,38,39,40,41,42,43,44,45,46,47,48,49],\"colorbar\":{\"title\":{\"text\":\"#Trials\"},\"x\":1.0,\"xpad\":40},\"colorscale\":[[0.0,\"rgb(247,251,255)\"],[0.125,\"rgb(222,235,247)\"],[0.25,\"rgb(198,219,239)\"],[0.375,\"rgb(158,202,225)\"],[0.5,\"rgb(107,174,214)\"],[0.625,\"rgb(66,146,198)\"],[0.75,\"rgb(33,113,181)\"],[0.875,\"rgb(8,81,156)\"],[1.0,\"rgb(8,48,107)\"]],\"line\":{\"color\":\"Grey\",\"width\":0.5},\"showscale\":true},\"mode\":\"markers\",\"showlegend\":false,\"x\":[0.004181171855125556,0.048051916543446815,7.518693151712953,0.0011115696623222415,3.8701518903648644,0.001174078859964391,0.11179462765189561,0.008143482393630956,0.009454450785717845,1.170594080375287,9.614411585049716,7.292486618260863,0.9501035856882435,1.5914802139565878,0.2805420260407594,0.22446304261490457,0.421676060389288,0.039035759052868296,2.553341984340309,0.4035307324317401,0.08016751349416755,3.9732673980549658,9.796090374565276,3.0603147368710273,0.7456535609035468,2.418544350325745,4.843419172184714,0.22106915405824007,0.586486169176992,0.018718326166563836,2.131696513483698,9.50362677695563,5.046716569331233,8.385224845487395,9.929525341882028,5.7507039935739686,1.484787722147571,1.4324678647698283,0.19498881441192714,1.7275602718515308,0.1122085358372445,6.696577199513192,3.8023624643868366,0.0021333397373242387,3.7701027222323975,6.393293925047153,5.889921458978879,3.1278670325716296,7.684271104350172,1.0070947821407699],\"y\":[40.422642174243244,40.422642695297206,40.422642317178926,40.422642450478136,12.976027121452853,40.42264230569137,40.42264302348789,21.632795229807563,14.52015331820405,40.42264275729727,13.023379250058735,13.10472991912463,20.01440209954164,40.42264593641534,12.302439532218907,24.25861719820378,16.817914798118203,21.834252630837934,14.250474947515801,40.42264401957904,21.410920874542573,13.10472991912463,12.96353443378719,14.620507238825184,21.661089315526265,15.259825645646519,13.21409404897218,20.534843360618716,14.127684671359312,15.082160679919584,40.422642695297206,12.583533787101159,14.165686948129277,12.526844986831874,15.099656964064849,21.283965766111656,12.922145133564333,40.422642317178926,40.422642317178926,14.586841111059032,20.750737034103302,12.601972164517836,12.601972164517836,13.113863249956626,14.14360270571202,14.191277498517561,40.422642174243244,13.79987435964846,19.176259618644973,12.321307396997014],\"type\":\"scatter\",\"xaxis\":\"x\",\"yaxis\":\"y\"},{\"marker\":{\"color\":[0,1,2,3,4,5,6,7,8,9,10,11,12,13,14,15,16,17,18,19,20,21,22,23,24,25,26,27,28,29,30,31,32,33,34,35,36,37,38,39,40,41,42,43,44,45,46,47,48,49],\"colorbar\":{\"title\":{\"text\":\"#Trials\"},\"x\":1.0,\"xpad\":40},\"colorscale\":[[0.0,\"rgb(247,251,255)\"],[0.125,\"rgb(222,235,247)\"],[0.25,\"rgb(198,219,239)\"],[0.375,\"rgb(158,202,225)\"],[0.5,\"rgb(107,174,214)\"],[0.625,\"rgb(66,146,198)\"],[0.75,\"rgb(33,113,181)\"],[0.875,\"rgb(8,81,156)\"],[1.0,\"rgb(8,48,107)\"]],\"line\":{\"color\":\"Grey\",\"width\":0.5},\"showscale\":false},\"mode\":\"markers\",\"showlegend\":false,\"x\":[0.5,0.4,0.3,0.4,0.8,0.9,0.5,0.8,0.9,0.9,0.6,0.6,1.0,0.6,0.8,0.8,0.8,0.7,0.8,0.8,0.7,0.6,1.0,1.0,1.0,0.3,1.0,0.8,0.8,0.5,1.0,0.6,0.4,0.6,0.6,0.6,0.6,0.6,0.6,0.3,0.4,0.6,0.6,0.6,0.6,0.5,0.6,0.9,0.6,0.7],\"y\":[40.422642174243244,40.422642695297206,40.422642317178926,40.422642450478136,12.976027121452853,40.42264230569137,40.42264302348789,21.632795229807563,14.52015331820405,40.42264275729727,13.023379250058735,13.10472991912463,20.01440209954164,40.42264593641534,12.302439532218907,24.25861719820378,16.817914798118203,21.834252630837934,14.250474947515801,40.42264401957904,21.410920874542573,13.10472991912463,12.96353443378719,14.620507238825184,21.661089315526265,15.259825645646519,13.21409404897218,20.534843360618716,14.127684671359312,15.082160679919584,40.422642695297206,12.583533787101159,14.165686948129277,12.526844986831874,15.099656964064849,21.283965766111656,12.922145133564333,40.422642317178926,40.422642317178926,14.586841111059032,20.750737034103302,12.601972164517836,12.601972164517836,13.113863249956626,14.14360270571202,14.191277498517561,40.422642174243244,13.79987435964846,19.176259618644973,12.321307396997014],\"type\":\"scatter\",\"xaxis\":\"x2\",\"yaxis\":\"y2\"},{\"marker\":{\"color\":[0,1,2,3,4,5,6,7,8,9,10,11,12,13,14,15,16,17,18,19,20,21,22,23,24,25,26,27,28,29,30,31,32,33,34,35,36,37,38,39,40,41,42,43,44,45,46,47,48,49],\"colorbar\":{\"title\":{\"text\":\"#Trials\"},\"x\":1.0,\"xpad\":40},\"colorscale\":[[0.0,\"rgb(247,251,255)\"],[0.125,\"rgb(222,235,247)\"],[0.25,\"rgb(198,219,239)\"],[0.375,\"rgb(158,202,225)\"],[0.5,\"rgb(107,174,214)\"],[0.625,\"rgb(66,146,198)\"],[0.75,\"rgb(33,113,181)\"],[0.875,\"rgb(8,81,156)\"],[1.0,\"rgb(8,48,107)\"]],\"line\":{\"color\":\"Grey\",\"width\":0.5},\"showscale\":false},\"mode\":\"markers\",\"showlegend\":false,\"x\":[2.9642557807439482,0.014965922662259346,0.6914296418463952,0.0013769818836999155,0.07458762684821876,0.005819104649994918,0.022474339594011815,8.380526849686387,0.006630558856092312,0.07458120961926222,0.4829662656609358,0.3598956527996676,0.2558310275048836,0.09816477586509217,1.31712687361966,1.8589259150665831,0.05871844578209169,1.691818737067726,7.73347008546487,0.20217631128107966,0.031116679654910842,0.6292888188261382,0.8413135968232328,1.0077223222199694,3.7083214461031173,0.17826580667260797,1.2295333378179312,2.9970775075415355,0.15252390396551774,4.546046550053231,0.04706673416531834,0.46476499456097414,0.3031814613120523,0.8404188853006873,0.8736204466588994,1.8528649840656595,0.5041773619081779,0.5047713698110095,0.1335037097276087,0.4307113037739535,5.530841054652775,1.0800390989718782,2.201392599408144,2.405725918556444,1.1087291821279748,2.491006580105017,1.3418958159960621,0.0014862087285557736,8.456930787871904,0.7504844199070764],\"y\":[40.422642174243244,40.422642695297206,40.422642317178926,40.422642450478136,12.976027121452853,40.42264230569137,40.42264302348789,21.632795229807563,14.52015331820405,40.42264275729727,13.023379250058735,13.10472991912463,20.01440209954164,40.42264593641534,12.302439532218907,24.25861719820378,16.817914798118203,21.834252630837934,14.250474947515801,40.42264401957904,21.410920874542573,13.10472991912463,12.96353443378719,14.620507238825184,21.661089315526265,15.259825645646519,13.21409404897218,20.534843360618716,14.127684671359312,15.082160679919584,40.422642695297206,12.583533787101159,14.165686948129277,12.526844986831874,15.099656964064849,21.283965766111656,12.922145133564333,40.422642317178926,40.422642317178926,14.586841111059032,20.750737034103302,12.601972164517836,12.601972164517836,13.113863249956626,14.14360270571202,14.191277498517561,40.422642174243244,13.79987435964846,19.176259618644973,12.321307396997014],\"type\":\"scatter\",\"xaxis\":\"x3\",\"yaxis\":\"y3\"},{\"marker\":{\"color\":[0,1,2,3,4,5,6,7,8,9,10,11,12,13,14,15,16,17,18,19,20,21,22,23,24,25,26,27,28,29,30,31,32,33,34,35,36,37,38,39,40,41,42,43,44,45,46,47,48,49],\"colorbar\":{\"title\":{\"text\":\"#Trials\"},\"x\":1.0,\"xpad\":40},\"colorscale\":[[0.0,\"rgb(247,251,255)\"],[0.125,\"rgb(222,235,247)\"],[0.25,\"rgb(198,219,239)\"],[0.375,\"rgb(158,202,225)\"],[0.5,\"rgb(107,174,214)\"],[0.625,\"rgb(66,146,198)\"],[0.75,\"rgb(33,113,181)\"],[0.875,\"rgb(8,81,156)\"],[1.0,\"rgb(8,48,107)\"]],\"line\":{\"color\":\"Grey\",\"width\":0.5},\"showscale\":false},\"mode\":\"markers\",\"showlegend\":false,\"x\":[0.009,0.012,0.02,0.012,0.012,0.018,0.016,0.012,0.02,0.009,0.008,0.008,0.014,0.008,0.01,0.01,0.01,0.01,0.018,0.014,0.016,0.008,0.012,0.012,0.012,0.01,0.012,0.012,0.01,0.009,0.012,0.008,0.008,0.02,0.02,0.02,0.02,0.02,0.02,0.02,0.018,0.02,0.02,0.02,0.02,0.016,0.009,0.02,0.008,0.014],\"y\":[40.422642174243244,40.422642695297206,40.422642317178926,40.422642450478136,12.976027121452853,40.42264230569137,40.42264302348789,21.632795229807563,14.52015331820405,40.42264275729727,13.023379250058735,13.10472991912463,20.01440209954164,40.42264593641534,12.302439532218907,24.25861719820378,16.817914798118203,21.834252630837934,14.250474947515801,40.42264401957904,21.410920874542573,13.10472991912463,12.96353443378719,14.620507238825184,21.661089315526265,15.259825645646519,13.21409404897218,20.534843360618716,14.127684671359312,15.082160679919584,40.422642695297206,12.583533787101159,14.165686948129277,12.526844986831874,15.099656964064849,21.283965766111656,12.922145133564333,40.422642317178926,40.422642317178926,14.586841111059032,20.750737034103302,12.601972164517836,12.601972164517836,13.113863249956626,14.14360270571202,14.191277498517561,40.422642174243244,13.79987435964846,19.176259618644973,12.321307396997014],\"type\":\"scatter\",\"xaxis\":\"x4\",\"yaxis\":\"y4\"},{\"marker\":{\"color\":[0,1,2,3,4,5,6,7,8,9,10,11,12,13,14,15,16,17,18,19,20,21,22,23,24,25,26,27,28,29,30,31,32,33,34,35,36,37,38,39,40,41,42,43,44,45,46,47,48,49],\"colorbar\":{\"title\":{\"text\":\"#Trials\"},\"x\":1.0,\"xpad\":40},\"colorscale\":[[0.0,\"rgb(247,251,255)\"],[0.125,\"rgb(222,235,247)\"],[0.25,\"rgb(198,219,239)\"],[0.375,\"rgb(158,202,225)\"],[0.5,\"rgb(107,174,214)\"],[0.625,\"rgb(66,146,198)\"],[0.75,\"rgb(33,113,181)\"],[0.875,\"rgb(8,81,156)\"],[1.0,\"rgb(8,48,107)\"]],\"line\":{\"color\":\"Grey\",\"width\":0.5},\"showscale\":false},\"mode\":\"markers\",\"showlegend\":false,\"x\":[13,15,11,9,20,15,7,13,7,17,20,20,20,20,5,5,5,17,5,9,11,20,20,5,20,20,5,20,7,13,9,20,20,15,15,15,15,15,15,15,11,15,15,15,15,13,17,15,7,15],\"y\":[40.422642174243244,40.422642695297206,40.422642317178926,40.422642450478136,12.976027121452853,40.42264230569137,40.42264302348789,21.632795229807563,14.52015331820405,40.42264275729727,13.023379250058735,13.10472991912463,20.01440209954164,40.42264593641534,12.302439532218907,24.25861719820378,16.817914798118203,21.834252630837934,14.250474947515801,40.42264401957904,21.410920874542573,13.10472991912463,12.96353443378719,14.620507238825184,21.661089315526265,15.259825645646519,13.21409404897218,20.534843360618716,14.127684671359312,15.082160679919584,40.422642695297206,12.583533787101159,14.165686948129277,12.526844986831874,15.099656964064849,21.283965766111656,12.922145133564333,40.422642317178926,40.422642317178926,14.586841111059032,20.750737034103302,12.601972164517836,12.601972164517836,13.113863249956626,14.14360270571202,14.191277498517561,40.422642174243244,13.79987435964846,19.176259618644973,12.321307396997014],\"type\":\"scatter\",\"xaxis\":\"x5\",\"yaxis\":\"y5\"},{\"marker\":{\"color\":[0,1,2,3,4,5,6,7,8,9,10,11,12,13,14,15,16,17,18,19,20,21,22,23,24,25,26,27,28,29,30,31,32,33,34,35,36,37,38,39,40,41,42,43,44,45,46,47,48,49],\"colorbar\":{\"title\":{\"text\":\"#Trials\"},\"x\":1.0,\"xpad\":40},\"colorscale\":[[0.0,\"rgb(247,251,255)\"],[0.125,\"rgb(222,235,247)\"],[0.25,\"rgb(198,219,239)\"],[0.375,\"rgb(158,202,225)\"],[0.5,\"rgb(107,174,214)\"],[0.625,\"rgb(66,146,198)\"],[0.75,\"rgb(33,113,181)\"],[0.875,\"rgb(8,81,156)\"],[1.0,\"rgb(8,48,107)\"]],\"line\":{\"color\":\"Grey\",\"width\":0.5},\"showscale\":false},\"mode\":\"markers\",\"showlegend\":false,\"x\":[232,278,263,81,11,231,176,115,37,202,11,2,61,122,2,75,40,117,27,154,60,2,1,33,97,52,18,83,23,51,148,7,16,3,40,73,5,292,244,27,95,1,1,19,49,15,197,34,67,1],\"y\":[40.422642174243244,40.422642695297206,40.422642317178926,40.422642450478136,12.976027121452853,40.42264230569137,40.42264302348789,21.632795229807563,14.52015331820405,40.42264275729727,13.023379250058735,13.10472991912463,20.01440209954164,40.42264593641534,12.302439532218907,24.25861719820378,16.817914798118203,21.834252630837934,14.250474947515801,40.42264401957904,21.410920874542573,13.10472991912463,12.96353443378719,14.620507238825184,21.661089315526265,15.259825645646519,13.21409404897218,20.534843360618716,14.127684671359312,15.082160679919584,40.422642695297206,12.583533787101159,14.165686948129277,12.526844986831874,15.099656964064849,21.283965766111656,12.922145133564333,40.422642317178926,40.422642317178926,14.586841111059032,20.750737034103302,12.601972164517836,12.601972164517836,13.113863249956626,14.14360270571202,14.191277498517561,40.422642174243244,13.79987435964846,19.176259618644973,12.321307396997014],\"type\":\"scatter\",\"xaxis\":\"x6\",\"yaxis\":\"y6\"},{\"marker\":{\"color\":[0,1,2,3,4,5,6,7,8,9,10,11,12,13,14,15,16,17,18,19,20,21,22,23,24,25,26,27,28,29,30,31,32,33,34,35,36,37,38,39,40,41,42,43,44,45,46,47,48,49],\"colorbar\":{\"title\":{\"text\":\"#Trials\"},\"x\":1.0,\"xpad\":40},\"colorscale\":[[0.0,\"rgb(247,251,255)\"],[0.125,\"rgb(222,235,247)\"],[0.25,\"rgb(198,219,239)\"],[0.375,\"rgb(158,202,225)\"],[0.5,\"rgb(107,174,214)\"],[0.625,\"rgb(66,146,198)\"],[0.75,\"rgb(33,113,181)\"],[0.875,\"rgb(8,81,156)\"],[1.0,\"rgb(8,48,107)\"]],\"line\":{\"color\":\"Grey\",\"width\":0.5},\"showscale\":false},\"mode\":\"markers\",\"showlegend\":false,\"x\":[48,48,2020,48,24,48,2020,24,24,2020,24,24,24,24,24,24,24,24,24,2020,24,24,24,24,24,24,24,24,48,2020,48,24,24,24,24,48,24,2020,24,48,24,24,24,24,24,24,2020,24,24,24],\"y\":[40.422642174243244,40.422642695297206,40.422642317178926,40.422642450478136,12.976027121452853,40.42264230569137,40.42264302348789,21.632795229807563,14.52015331820405,40.42264275729727,13.023379250058735,13.10472991912463,20.01440209954164,40.42264593641534,12.302439532218907,24.25861719820378,16.817914798118203,21.834252630837934,14.250474947515801,40.42264401957904,21.410920874542573,13.10472991912463,12.96353443378719,14.620507238825184,21.661089315526265,15.259825645646519,13.21409404897218,20.534843360618716,14.127684671359312,15.082160679919584,40.422642695297206,12.583533787101159,14.165686948129277,12.526844986831874,15.099656964064849,21.283965766111656,12.922145133564333,40.422642317178926,40.422642317178926,14.586841111059032,20.750737034103302,12.601972164517836,12.601972164517836,13.113863249956626,14.14360270571202,14.191277498517561,40.422642174243244,13.79987435964846,19.176259618644973,12.321307396997014],\"type\":\"scatter\",\"xaxis\":\"x7\",\"yaxis\":\"y7\"},{\"marker\":{\"color\":[0,1,2,3,4,5,6,7,8,9,10,11,12,13,14,15,16,17,18,19,20,21,22,23,24,25,26,27,28,29,30,31,32,33,34,35,36,37,38,39,40,41,42,43,44,45,46,47,48,49],\"colorbar\":{\"title\":{\"text\":\"#Trials\"},\"x\":1.0,\"xpad\":40},\"colorscale\":[[0.0,\"rgb(247,251,255)\"],[0.125,\"rgb(222,235,247)\"],[0.25,\"rgb(198,219,239)\"],[0.375,\"rgb(158,202,225)\"],[0.5,\"rgb(107,174,214)\"],[0.625,\"rgb(66,146,198)\"],[0.75,\"rgb(33,113,181)\"],[0.875,\"rgb(8,81,156)\"],[1.0,\"rgb(8,48,107)\"]],\"line\":{\"color\":\"Grey\",\"width\":0.5},\"showscale\":false},\"mode\":\"markers\",\"showlegend\":false,\"x\":[1.0,0.5,1.0,0.4,0.5,0.8,0.5,0.8,0.6,0.7,0.5,0.5,0.5,0.5,0.4,0.4,0.4,0.7,0.6,0.4,0.4,0.5,0.5,0.5,0.6,1.0,0.8,0.7,0.4,1.0,0.5,0.5,0.5,0.5,0.5,0.5,1.0,1.0,1.0,1.0,0.8,1.0,1.0,1.0,1.0,0.4,1.0,0.7,0.6,0.4],\"y\":[40.422642174243244,40.422642695297206,40.422642317178926,40.422642450478136,12.976027121452853,40.42264230569137,40.42264302348789,21.632795229807563,14.52015331820405,40.42264275729727,13.023379250058735,13.10472991912463,20.01440209954164,40.42264593641534,12.302439532218907,24.25861719820378,16.817914798118203,21.834252630837934,14.250474947515801,40.42264401957904,21.410920874542573,13.10472991912463,12.96353443378719,14.620507238825184,21.661089315526265,15.259825645646519,13.21409404897218,20.534843360618716,14.127684671359312,15.082160679919584,40.422642695297206,12.583533787101159,14.165686948129277,12.526844986831874,15.099656964064849,21.283965766111656,12.922145133564333,40.422642317178926,40.422642317178926,14.586841111059032,20.750737034103302,12.601972164517836,12.601972164517836,13.113863249956626,14.14360270571202,14.191277498517561,40.422642174243244,13.79987435964846,19.176259618644973,12.321307396997014],\"type\":\"scatter\",\"xaxis\":\"x8\",\"yaxis\":\"y8\"}],                        {\"template\":{\"data\":{\"bar\":[{\"error_x\":{\"color\":\"#2a3f5f\"},\"error_y\":{\"color\":\"#2a3f5f\"},\"marker\":{\"line\":{\"color\":\"#E5ECF6\",\"width\":0.5},\"pattern\":{\"fillmode\":\"overlay\",\"size\":10,\"solidity\":0.2}},\"type\":\"bar\"}],\"barpolar\":[{\"marker\":{\"line\":{\"color\":\"#E5ECF6\",\"width\":0.5},\"pattern\":{\"fillmode\":\"overlay\",\"size\":10,\"solidity\":0.2}},\"type\":\"barpolar\"}],\"carpet\":[{\"aaxis\":{\"endlinecolor\":\"#2a3f5f\",\"gridcolor\":\"white\",\"linecolor\":\"white\",\"minorgridcolor\":\"white\",\"startlinecolor\":\"#2a3f5f\"},\"baxis\":{\"endlinecolor\":\"#2a3f5f\",\"gridcolor\":\"white\",\"linecolor\":\"white\",\"minorgridcolor\":\"white\",\"startlinecolor\":\"#2a3f5f\"},\"type\":\"carpet\"}],\"choropleth\":[{\"colorbar\":{\"outlinewidth\":0,\"ticks\":\"\"},\"type\":\"choropleth\"}],\"contour\":[{\"colorbar\":{\"outlinewidth\":0,\"ticks\":\"\"},\"colorscale\":[[0.0,\"#0d0887\"],[0.1111111111111111,\"#46039f\"],[0.2222222222222222,\"#7201a8\"],[0.3333333333333333,\"#9c179e\"],[0.4444444444444444,\"#bd3786\"],[0.5555555555555556,\"#d8576b\"],[0.6666666666666666,\"#ed7953\"],[0.7777777777777778,\"#fb9f3a\"],[0.8888888888888888,\"#fdca26\"],[1.0,\"#f0f921\"]],\"type\":\"contour\"}],\"contourcarpet\":[{\"colorbar\":{\"outlinewidth\":0,\"ticks\":\"\"},\"type\":\"contourcarpet\"}],\"heatmap\":[{\"colorbar\":{\"outlinewidth\":0,\"ticks\":\"\"},\"colorscale\":[[0.0,\"#0d0887\"],[0.1111111111111111,\"#46039f\"],[0.2222222222222222,\"#7201a8\"],[0.3333333333333333,\"#9c179e\"],[0.4444444444444444,\"#bd3786\"],[0.5555555555555556,\"#d8576b\"],[0.6666666666666666,\"#ed7953\"],[0.7777777777777778,\"#fb9f3a\"],[0.8888888888888888,\"#fdca26\"],[1.0,\"#f0f921\"]],\"type\":\"heatmap\"}],\"heatmapgl\":[{\"colorbar\":{\"outlinewidth\":0,\"ticks\":\"\"},\"colorscale\":[[0.0,\"#0d0887\"],[0.1111111111111111,\"#46039f\"],[0.2222222222222222,\"#7201a8\"],[0.3333333333333333,\"#9c179e\"],[0.4444444444444444,\"#bd3786\"],[0.5555555555555556,\"#d8576b\"],[0.6666666666666666,\"#ed7953\"],[0.7777777777777778,\"#fb9f3a\"],[0.8888888888888888,\"#fdca26\"],[1.0,\"#f0f921\"]],\"type\":\"heatmapgl\"}],\"histogram\":[{\"marker\":{\"pattern\":{\"fillmode\":\"overlay\",\"size\":10,\"solidity\":0.2}},\"type\":\"histogram\"}],\"histogram2d\":[{\"colorbar\":{\"outlinewidth\":0,\"ticks\":\"\"},\"colorscale\":[[0.0,\"#0d0887\"],[0.1111111111111111,\"#46039f\"],[0.2222222222222222,\"#7201a8\"],[0.3333333333333333,\"#9c179e\"],[0.4444444444444444,\"#bd3786\"],[0.5555555555555556,\"#d8576b\"],[0.6666666666666666,\"#ed7953\"],[0.7777777777777778,\"#fb9f3a\"],[0.8888888888888888,\"#fdca26\"],[1.0,\"#f0f921\"]],\"type\":\"histogram2d\"}],\"histogram2dcontour\":[{\"colorbar\":{\"outlinewidth\":0,\"ticks\":\"\"},\"colorscale\":[[0.0,\"#0d0887\"],[0.1111111111111111,\"#46039f\"],[0.2222222222222222,\"#7201a8\"],[0.3333333333333333,\"#9c179e\"],[0.4444444444444444,\"#bd3786\"],[0.5555555555555556,\"#d8576b\"],[0.6666666666666666,\"#ed7953\"],[0.7777777777777778,\"#fb9f3a\"],[0.8888888888888888,\"#fdca26\"],[1.0,\"#f0f921\"]],\"type\":\"histogram2dcontour\"}],\"mesh3d\":[{\"colorbar\":{\"outlinewidth\":0,\"ticks\":\"\"},\"type\":\"mesh3d\"}],\"parcoords\":[{\"line\":{\"colorbar\":{\"outlinewidth\":0,\"ticks\":\"\"}},\"type\":\"parcoords\"}],\"pie\":[{\"automargin\":true,\"type\":\"pie\"}],\"scatter\":[{\"marker\":{\"colorbar\":{\"outlinewidth\":0,\"ticks\":\"\"}},\"type\":\"scatter\"}],\"scatter3d\":[{\"line\":{\"colorbar\":{\"outlinewidth\":0,\"ticks\":\"\"}},\"marker\":{\"colorbar\":{\"outlinewidth\":0,\"ticks\":\"\"}},\"type\":\"scatter3d\"}],\"scattercarpet\":[{\"marker\":{\"colorbar\":{\"outlinewidth\":0,\"ticks\":\"\"}},\"type\":\"scattercarpet\"}],\"scattergeo\":[{\"marker\":{\"colorbar\":{\"outlinewidth\":0,\"ticks\":\"\"}},\"type\":\"scattergeo\"}],\"scattergl\":[{\"marker\":{\"colorbar\":{\"outlinewidth\":0,\"ticks\":\"\"}},\"type\":\"scattergl\"}],\"scattermapbox\":[{\"marker\":{\"colorbar\":{\"outlinewidth\":0,\"ticks\":\"\"}},\"type\":\"scattermapbox\"}],\"scatterpolar\":[{\"marker\":{\"colorbar\":{\"outlinewidth\":0,\"ticks\":\"\"}},\"type\":\"scatterpolar\"}],\"scatterpolargl\":[{\"marker\":{\"colorbar\":{\"outlinewidth\":0,\"ticks\":\"\"}},\"type\":\"scatterpolargl\"}],\"scatterternary\":[{\"marker\":{\"colorbar\":{\"outlinewidth\":0,\"ticks\":\"\"}},\"type\":\"scatterternary\"}],\"surface\":[{\"colorbar\":{\"outlinewidth\":0,\"ticks\":\"\"},\"colorscale\":[[0.0,\"#0d0887\"],[0.1111111111111111,\"#46039f\"],[0.2222222222222222,\"#7201a8\"],[0.3333333333333333,\"#9c179e\"],[0.4444444444444444,\"#bd3786\"],[0.5555555555555556,\"#d8576b\"],[0.6666666666666666,\"#ed7953\"],[0.7777777777777778,\"#fb9f3a\"],[0.8888888888888888,\"#fdca26\"],[1.0,\"#f0f921\"]],\"type\":\"surface\"}],\"table\":[{\"cells\":{\"fill\":{\"color\":\"#EBF0F8\"},\"line\":{\"color\":\"white\"}},\"header\":{\"fill\":{\"color\":\"#C8D4E3\"},\"line\":{\"color\":\"white\"}},\"type\":\"table\"}]},\"layout\":{\"annotationdefaults\":{\"arrowcolor\":\"#2a3f5f\",\"arrowhead\":0,\"arrowwidth\":1},\"autotypenumbers\":\"strict\",\"coloraxis\":{\"colorbar\":{\"outlinewidth\":0,\"ticks\":\"\"}},\"colorscale\":{\"diverging\":[[0,\"#8e0152\"],[0.1,\"#c51b7d\"],[0.2,\"#de77ae\"],[0.3,\"#f1b6da\"],[0.4,\"#fde0ef\"],[0.5,\"#f7f7f7\"],[0.6,\"#e6f5d0\"],[0.7,\"#b8e186\"],[0.8,\"#7fbc41\"],[0.9,\"#4d9221\"],[1,\"#276419\"]],\"sequential\":[[0.0,\"#0d0887\"],[0.1111111111111111,\"#46039f\"],[0.2222222222222222,\"#7201a8\"],[0.3333333333333333,\"#9c179e\"],[0.4444444444444444,\"#bd3786\"],[0.5555555555555556,\"#d8576b\"],[0.6666666666666666,\"#ed7953\"],[0.7777777777777778,\"#fb9f3a\"],[0.8888888888888888,\"#fdca26\"],[1.0,\"#f0f921\"]],\"sequentialminus\":[[0.0,\"#0d0887\"],[0.1111111111111111,\"#46039f\"],[0.2222222222222222,\"#7201a8\"],[0.3333333333333333,\"#9c179e\"],[0.4444444444444444,\"#bd3786\"],[0.5555555555555556,\"#d8576b\"],[0.6666666666666666,\"#ed7953\"],[0.7777777777777778,\"#fb9f3a\"],[0.8888888888888888,\"#fdca26\"],[1.0,\"#f0f921\"]]},\"colorway\":[\"#636efa\",\"#EF553B\",\"#00cc96\",\"#ab63fa\",\"#FFA15A\",\"#19d3f3\",\"#FF6692\",\"#B6E880\",\"#FF97FF\",\"#FECB52\"],\"font\":{\"color\":\"#2a3f5f\"},\"geo\":{\"bgcolor\":\"white\",\"lakecolor\":\"white\",\"landcolor\":\"#E5ECF6\",\"showlakes\":true,\"showland\":true,\"subunitcolor\":\"white\"},\"hoverlabel\":{\"align\":\"left\"},\"hovermode\":\"closest\",\"mapbox\":{\"style\":\"light\"},\"paper_bgcolor\":\"white\",\"plot_bgcolor\":\"#E5ECF6\",\"polar\":{\"angularaxis\":{\"gridcolor\":\"white\",\"linecolor\":\"white\",\"ticks\":\"\"},\"bgcolor\":\"#E5ECF6\",\"radialaxis\":{\"gridcolor\":\"white\",\"linecolor\":\"white\",\"ticks\":\"\"}},\"scene\":{\"xaxis\":{\"backgroundcolor\":\"#E5ECF6\",\"gridcolor\":\"white\",\"gridwidth\":2,\"linecolor\":\"white\",\"showbackground\":true,\"ticks\":\"\",\"zerolinecolor\":\"white\"},\"yaxis\":{\"backgroundcolor\":\"#E5ECF6\",\"gridcolor\":\"white\",\"gridwidth\":2,\"linecolor\":\"white\",\"showbackground\":true,\"ticks\":\"\",\"zerolinecolor\":\"white\"},\"zaxis\":{\"backgroundcolor\":\"#E5ECF6\",\"gridcolor\":\"white\",\"gridwidth\":2,\"linecolor\":\"white\",\"showbackground\":true,\"ticks\":\"\",\"zerolinecolor\":\"white\"}},\"shapedefaults\":{\"line\":{\"color\":\"#2a3f5f\"}},\"ternary\":{\"aaxis\":{\"gridcolor\":\"white\",\"linecolor\":\"white\",\"ticks\":\"\"},\"baxis\":{\"gridcolor\":\"white\",\"linecolor\":\"white\",\"ticks\":\"\"},\"bgcolor\":\"#E5ECF6\",\"caxis\":{\"gridcolor\":\"white\",\"linecolor\":\"white\",\"ticks\":\"\"}},\"title\":{\"x\":0.05},\"xaxis\":{\"automargin\":true,\"gridcolor\":\"white\",\"linecolor\":\"white\",\"ticks\":\"\",\"title\":{\"standoff\":15},\"zerolinecolor\":\"white\",\"zerolinewidth\":2},\"yaxis\":{\"automargin\":true,\"gridcolor\":\"white\",\"linecolor\":\"white\",\"ticks\":\"\",\"title\":{\"standoff\":15},\"zerolinecolor\":\"white\",\"zerolinewidth\":2}}},\"xaxis\":{\"anchor\":\"y\",\"domain\":[0.0,0.103125],\"title\":{\"text\":\"alpha\"},\"type\":\"log\"},\"yaxis\":{\"anchor\":\"x\",\"domain\":[0.0,1.0],\"title\":{\"text\":\"Objective Value\"}},\"xaxis2\":{\"anchor\":\"y2\",\"domain\":[0.128125,0.23124999999999998],\"title\":{\"text\":\"colsample_bytree\"}},\"yaxis2\":{\"anchor\":\"x2\",\"domain\":[0.0,1.0],\"matches\":\"y\",\"showticklabels\":false},\"xaxis3\":{\"anchor\":\"y3\",\"domain\":[0.25625,0.359375],\"title\":{\"text\":\"lambda\"},\"type\":\"log\"},\"yaxis3\":{\"anchor\":\"x3\",\"domain\":[0.0,1.0],\"matches\":\"y\",\"showticklabels\":false},\"xaxis4\":{\"anchor\":\"y4\",\"domain\":[0.38437499999999997,0.48749999999999993],\"title\":{\"text\":\"learning_rate\"}},\"yaxis4\":{\"anchor\":\"x4\",\"domain\":[0.0,1.0],\"matches\":\"y\",\"showticklabels\":false},\"xaxis5\":{\"anchor\":\"y5\",\"domain\":[0.5125,0.615625],\"title\":{\"text\":\"max_depth\"}},\"yaxis5\":{\"anchor\":\"x5\",\"domain\":[0.0,1.0],\"matches\":\"y\",\"showticklabels\":false},\"xaxis6\":{\"anchor\":\"y6\",\"domain\":[0.640625,0.74375],\"title\":{\"text\":\"min_child_weight\"}},\"yaxis6\":{\"anchor\":\"x6\",\"domain\":[0.0,1.0],\"matches\":\"y\",\"showticklabels\":false},\"xaxis7\":{\"anchor\":\"y7\",\"domain\":[0.76875,0.8718750000000001],\"title\":{\"text\":\"random_state\"}},\"yaxis7\":{\"anchor\":\"x7\",\"domain\":[0.0,1.0],\"matches\":\"y\",\"showticklabels\":false},\"xaxis8\":{\"anchor\":\"y8\",\"domain\":[0.8968750000000001,1.0],\"title\":{\"text\":\"subsample\"}},\"yaxis8\":{\"anchor\":\"x8\",\"domain\":[0.0,1.0],\"matches\":\"y\",\"showticklabels\":false},\"title\":{\"text\":\"Slice Plot\"},\"width\":2400},                        {\"responsive\": true}                    ).then(function(){\n",
              "                            \n",
              "var gd = document.getElementById('64838cc8-8315-45d3-bb37-1f38b003d42c');\n",
              "var x = new MutationObserver(function (mutations, observer) {{\n",
              "        var display = window.getComputedStyle(gd).display;\n",
              "        if (!display || display === 'none') {{\n",
              "            console.log([gd, 'removed!']);\n",
              "            Plotly.purge(gd);\n",
              "            observer.disconnect();\n",
              "        }}\n",
              "}});\n",
              "\n",
              "// Listen for the removal of the full notebook cells\n",
              "var notebookContainer = gd.closest('#notebook-container');\n",
              "if (notebookContainer) {{\n",
              "    x.observe(notebookContainer, {childList: true});\n",
              "}}\n",
              "\n",
              "// Listen for the clearing of the current output cell\n",
              "var outputEl = gd.closest('.output');\n",
              "if (outputEl) {{\n",
              "    x.observe(outputEl, {childList: true});\n",
              "}}\n",
              "\n",
              "                        })                };                            </script>        </div>\n",
              "</body>\n",
              "</html>"
            ]
          },
          "metadata": {}
        }
      ]
    },
    {
      "cell_type": "code",
      "source": [
        "optuna.visualization.plot_contour(study, params=['alpha',\n",
        "                            #'max_depth',\n",
        "                            'lambda',\n",
        "                            'subsample',\n",
        "                            'learning_rate',\n",
        "                            'subsample'])"
      ],
      "metadata": {
        "colab": {
          "base_uri": "https://localhost:8080/",
          "height": 542
        },
        "id": "KaKT89QMh9ub",
        "outputId": "872f846f-872c-40b5-c261-25e0b1fda557"
      },
      "execution_count": 68,
      "outputs": [
        {
          "output_type": "display_data",
          "data": {
            "text/html": [
              "<html>\n",
              "<head><meta charset=\"utf-8\" /></head>\n",
              "<body>\n",
              "    <div>            <script src=\"https://cdnjs.cloudflare.com/ajax/libs/mathjax/2.7.5/MathJax.js?config=TeX-AMS-MML_SVG\"></script><script type=\"text/javascript\">if (window.MathJax) {MathJax.Hub.Config({SVG: {font: \"STIX-Web\"}});}</script>                <script type=\"text/javascript\">window.PlotlyConfig = {MathJaxConfig: 'local'};</script>\n",
              "        <script src=\"https://cdn.plot.ly/plotly-2.8.3.min.js\"></script>                <div id=\"eca7185c-ccaa-4eab-b0a7-cb7afbd34e4a\" class=\"plotly-graph-div\" style=\"height:525px; width:100%;\"></div>            <script type=\"text/javascript\">                                    window.PLOTLYENV=window.PLOTLYENV || {};                                    if (document.getElementById(\"eca7185c-ccaa-4eab-b0a7-cb7afbd34e4a\")) {                    Plotly.newPlot(                        \"eca7185c-ccaa-4eab-b0a7-cb7afbd34e4a\",                        [{\"type\":\"scatter\",\"xaxis\":\"x\",\"yaxis\":\"y\"},{\"colorbar\":{\"title\":{\"text\":\"Objective Value\"}},\"colorscale\":[[0,\"rgb(5,10,172)\"],[0.35,\"rgb(40,60,190)\"],[0.5,\"rgb(70,100,245)\"],[0.6,\"rgb(90,120,245)\"],[0.7,\"rgb(106,137,247)\"],[1,\"rgb(220,220,220)\"]],\"connectgaps\":true,\"contours\":{\"coloring\":\"heatmap\"},\"hoverinfo\":\"none\",\"line\":{\"smoothing\":1.3},\"reversescale\":true,\"showscale\":true,\"x\":[0.0007053214555077238,0.0011115696623222415,0.001174078859964391,0.0021333397373242387,0.004181171855125556,0.008143482393630956,0.009454450785717845,0.018718326166563836,0.039035759052868296,0.048051916543446815,0.08016751349416755,0.11179462765189561,0.1122085358372445,0.19498881441192714,0.22106915405824007,0.22446304261490457,0.2805420260407594,0.4035307324317401,0.421676060389288,0.586486169176992,0.7456535609035468,0.9501035856882435,1.0070947821407699,1.170594080375287,1.4324678647698283,1.484787722147571,1.5914802139565878,1.7275602718515308,2.131696513483698,2.418544350325745,2.553341984340309,3.0603147368710273,3.1278670325716296,3.7701027222323975,3.8023624643868366,3.8701518903648644,3.9732673980549658,4.843419172184714,5.046716569331233,5.7507039935739686,5.889921458978879,6.393293925047153,6.696577199513192,7.292486618260863,7.518693151712953,7.684271104350172,8.385224845487395,9.50362677695563,9.614411585049716,9.796090374565276,9.929525341882028,15.64869329453578],\"y\":[0.000890254133892455,0.0013769818836999155,0.0014862087285557736,0.005819104649994918,0.006630558856092312,0.014965922662259346,0.022474339594011815,0.031116679654910842,0.04706673416531834,0.05871844578209169,0.07458120961926222,0.07458762684821876,0.09816477586509217,0.1335037097276087,0.15252390396551774,0.17826580667260797,0.20217631128107966,0.2558310275048836,0.3031814613120523,0.3598956527996676,0.4307113037739535,0.46476499456097414,0.4829662656609358,0.5041773619081779,0.5047713698110095,0.6292888188261382,0.6914296418463952,0.7504844199070764,0.8404188853006873,0.8413135968232328,0.8736204466588994,1.0077223222199694,1.0800390989718782,1.1087291821279748,1.2295333378179312,1.31712687361966,1.3418958159960621,1.691818737067726,1.8528649840656595,1.8589259150665831,2.201392599408144,2.405725918556444,2.491006580105017,2.9642557807439482,2.9970775075415355,3.7083214461031173,4.546046550053231,5.530841054652775,7.73347008546487,8.380526849686387,8.456930787871904,13.080580076262146],\"z\":[[null,null,null,null,null,null,null,null,null,null,null,null,null,null,null,null,null,null,null,null,null,null,null,null,null,null,null,null,null,null,null,null,null,null,null,null,null,null,null,null,null,null,null,null,null,null,null,null,null,null,null,null],[null,40.422642450478136,null,null,null,null,null,null,null,null,null,null,null,null,null,null,null,null,null,null,null,null,null,null,null,null,null,null,null,null,null,null,null,null,null,null,null,null,null,null,null,null,null,null,null,null,null,null,null,null,null,null],[null,null,null,null,null,null,null,null,null,null,null,null,null,null,null,null,null,null,null,null,null,null,null,null,null,null,null,null,null,null,null,null,13.79987435964846,null,null,null,null,null,null,null,null,null,null,null,null,null,null,null,null,null,null,null],[null,null,40.42264230569137,null,null,null,null,null,null,null,null,null,null,null,null,null,null,null,null,null,null,null,null,null,null,null,null,null,null,null,null,null,null,null,null,null,null,null,null,null,null,null,null,null,null,null,null,null,null,null,null,null],[null,null,null,null,null,null,14.52015331820405,null,null,null,null,null,null,null,null,null,null,null,null,null,null,null,null,null,null,null,null,null,null,null,null,null,null,null,null,null,null,null,null,null,null,null,null,null,null,null,null,null,null,null,null,null],[null,null,null,null,null,null,null,null,null,40.422642695297206,null,null,null,null,null,null,null,null,null,null,null,null,null,null,null,null,null,null,null,null,null,null,null,null,null,null,null,null,null,null,null,null,null,null,null,null,null,null,null,null,null,null],[null,null,null,null,null,null,null,null,null,null,null,40.42264302348789,null,null,null,null,null,null,null,null,null,null,null,null,null,null,null,null,null,null,null,null,null,null,null,null,null,null,null,null,null,null,null,null,null,null,null,null,null,null,null,null],[null,null,null,null,null,null,null,null,null,null,21.410920874542573,null,null,null,null,null,null,null,null,null,null,null,null,null,null,null,null,null,null,null,null,null,null,null,null,null,null,null,null,null,null,null,null,null,null,null,null,null,null,null,null,null],[null,null,null,null,null,null,null,null,null,null,null,null,null,null,null,null,null,null,null,null,null,null,null,null,null,null,null,null,40.422642695297206,null,null,null,null,null,null,null,null,null,null,null,null,null,null,null,null,null,null,null,null,null,null,null],[null,null,null,null,null,null,null,null,null,null,null,null,null,null,null,null,null,null,16.817914798118203,null,null,null,null,null,null,null,null,null,null,null,null,null,null,null,null,null,null,null,null,null,null,null,null,null,null,null,null,null,null,null,null,null],[null,null,null,null,null,null,null,null,null,null,null,null,null,null,null,null,null,null,null,null,null,null,null,40.42264275729727,null,null,null,null,null,null,null,null,null,null,null,null,null,null,null,null,null,null,null,null,null,null,null,null,null,null,null,null],[null,null,null,null,null,null,null,null,null,null,null,null,null,null,null,null,null,null,null,null,null,null,null,null,null,null,null,null,null,null,null,null,null,null,null,12.976027121452853,null,null,null,null,null,null,null,null,null,null,null,null,null,null,null,null],[null,null,null,null,null,null,null,null,null,null,null,null,null,null,null,null,null,null,null,null,null,null,null,null,null,null,40.42264593641534,null,null,null,null,null,null,null,null,null,null,null,null,null,null,null,null,null,null,null,null,null,null,null,null,null],[null,null,null,null,null,null,null,null,null,null,null,null,null,40.422642317178926,null,null,null,null,null,null,null,null,null,null,null,null,null,null,null,null,null,null,null,null,null,null,null,null,null,null,null,null,null,null,null,null,null,null,null,null,null,null],[null,null,null,null,null,null,null,null,null,null,null,null,null,null,null,null,null,null,null,14.127684671359312,null,null,null,null,null,null,null,null,null,null,null,null,null,null,null,null,null,null,null,null,null,null,null,null,null,null,null,null,null,null,null,null],[null,null,null,null,null,null,null,null,null,null,null,null,null,null,null,null,null,null,null,null,null,null,null,null,null,null,null,null,null,15.259825645646519,null,null,null,null,null,null,null,null,null,null,null,null,null,null,null,null,null,null,null,null,null,null],[null,null,null,null,null,null,null,null,null,null,null,null,null,null,null,null,null,40.42264401957904,null,null,null,null,null,null,null,null,null,null,null,null,null,null,null,null,null,null,null,null,null,null,null,null,null,null,null,null,null,null,null,null,null,null],[null,null,null,null,null,null,null,null,null,null,null,null,null,null,null,null,null,null,null,null,null,20.01440209954164,null,null,null,null,null,null,null,null,null,null,null,null,null,null,null,null,null,null,null,null,null,null,null,null,null,null,null,null,null,null],[null,null,null,null,null,null,null,null,null,null,null,null,null,null,null,null,null,null,null,null,null,null,null,null,null,null,null,null,null,null,null,null,null,null,null,null,null,null,14.165686948129277,null,null,null,null,null,null,null,null,null,null,null,null,null],[null,null,null,null,null,null,null,null,null,null,null,null,null,null,null,null,null,null,null,null,null,null,null,null,null,null,null,null,null,null,null,null,null,null,null,null,null,null,null,null,null,null,null,13.10472991912463,null,null,null,null,null,null,null,null],[null,null,null,null,null,null,null,null,null,null,null,null,null,null,null,null,null,null,null,null,null,null,null,null,null,null,null,14.586841111059032,null,null,null,null,null,null,null,null,null,null,null,null,null,null,null,null,null,null,null,null,null,null,null,null],[null,null,null,null,null,null,null,null,null,null,null,null,null,null,null,null,null,null,null,null,null,null,null,null,null,null,null,null,null,null,null,null,null,null,null,null,null,null,null,null,null,null,null,null,null,null,null,12.583533787101159,null,null,null,null],[null,null,null,null,null,null,null,null,null,null,null,null,null,null,null,null,null,null,null,null,null,null,null,null,null,null,null,null,null,null,null,null,null,null,null,null,null,null,null,null,null,null,null,null,null,null,null,null,13.023379250058735,null,null,null],[null,null,null,null,null,null,null,null,null,null,null,null,null,null,null,null,null,null,null,null,null,null,null,null,null,12.922145133564333,null,null,null,null,null,null,null,null,null,null,null,null,null,null,null,null,null,null,null,null,null,null,null,null,null,null],[null,null,null,null,null,null,null,null,null,null,null,null,null,null,null,null,null,null,null,null,null,null,null,null,40.422642317178926,null,null,null,null,null,null,null,null,null,null,null,null,null,null,null,null,null,null,null,null,null,null,null,null,null,null,null],[null,null,null,null,null,null,null,null,null,null,null,null,null,null,null,null,null,null,null,null,null,null,null,null,null,null,null,null,null,null,null,null,null,null,null,null,13.10472991912463,null,null,null,null,null,null,null,null,null,null,null,null,null,null,null],[null,null,null,null,null,null,null,null,null,null,null,null,null,null,null,null,null,null,null,null,null,null,null,null,null,null,null,null,null,null,null,null,null,null,null,null,null,null,null,null,null,null,null,null,40.422642317178926,null,null,null,null,null,null,null],[null,null,null,null,null,null,null,null,null,null,null,null,null,null,null,null,null,null,null,null,null,null,12.321307396997014,null,null,null,null,null,null,null,null,null,null,null,null,null,null,null,null,null,null,null,null,null,null,null,null,null,null,null,null,null],[null,null,null,null,null,null,null,null,null,null,null,null,null,null,null,null,null,null,null,null,null,null,null,null,null,null,null,null,null,null,null,null,null,null,null,null,null,null,null,null,null,null,null,null,null,null,12.526844986831874,null,null,null,null,null],[null,null,null,null,null,null,null,null,null,null,null,null,null,null,null,null,null,null,null,null,null,null,null,null,null,null,null,null,null,null,null,null,null,null,null,null,null,null,null,null,null,null,null,null,null,null,null,null,null,12.96353443378719,null,null],[null,null,null,null,null,null,null,null,null,null,null,null,null,null,null,null,null,null,null,null,null,null,null,null,null,null,null,null,null,null,null,null,null,null,null,null,null,null,null,null,null,null,null,null,null,null,null,null,null,null,15.099656964064849,null],[null,null,null,null,null,null,null,null,null,null,null,null,null,null,null,null,null,null,null,null,null,null,null,null,null,null,null,null,null,null,null,14.620507238825184,null,null,null,null,null,null,null,null,null,null,null,null,null,null,null,null,null,null,null,null],[null,null,null,null,null,null,null,null,null,null,null,null,null,null,null,null,null,null,null,null,null,null,null,null,null,null,null,null,null,null,null,null,null,null,null,null,null,null,null,null,null,null,12.601972164517836,null,null,null,null,null,null,null,null,null],[null,null,null,null,null,null,null,null,null,null,null,null,null,null,null,null,null,null,null,null,null,null,null,null,null,null,null,null,null,null,null,null,null,14.14360270571202,null,null,null,null,null,null,null,null,null,null,null,null,null,null,null,null,null,null],[null,null,null,null,null,null,null,null,null,null,null,null,null,null,null,null,null,null,null,null,null,null,null,null,null,null,null,null,null,null,null,null,null,null,null,null,null,13.21409404897218,null,null,null,null,null,null,null,null,null,null,null,null,null,null],[null,null,null,null,null,null,null,null,null,null,null,null,null,null,null,null,12.302439532218907,null,null,null,null,null,null,null,null,null,null,null,null,null,null,null,null,null,null,null,null,null,null,null,null,null,null,null,null,null,null,null,null,null,null,null],[null,null,null,null,null,null,null,null,null,null,null,null,null,null,null,null,null,null,null,null,null,null,null,null,null,null,null,null,null,null,null,null,null,null,null,null,null,null,null,null,40.422642174243244,null,null,null,null,null,null,null,null,null,null,null],[null,null,null,null,null,null,null,null,21.834252630837934,null,null,null,null,null,null,null,null,null,null,null,null,null,null,null,null,null,null,null,null,null,null,null,null,null,null,null,null,null,null,null,null,null,null,null,null,null,null,null,null,null,null,null],[null,null,null,null,null,null,null,null,null,null,null,null,null,null,null,null,null,null,null,null,null,null,null,null,null,null,null,null,null,null,null,null,null,null,null,null,null,null,null,21.283965766111656,null,null,null,null,null,null,null,null,null,null,null,null],[null,null,null,null,null,null,null,null,null,null,null,null,null,null,null,24.25861719820378,null,null,null,null,null,null,null,null,null,null,null,null,null,null,null,null,null,null,null,null,null,null,null,null,null,null,null,null,null,null,null,null,null,null,null,null],[null,null,null,null,null,null,null,null,null,null,null,null,null,null,null,null,null,null,null,null,null,null,null,null,null,null,null,null,null,null,null,null,null,null,12.601972164517836,null,null,null,null,null,null,null,null,null,null,null,null,null,null,null,null,null],[null,null,null,13.113863249956626,null,null,null,null,null,null,null,null,null,null,null,null,null,null,null,null,null,null,null,null,null,null,null,null,null,null,null,null,null,null,null,null,null,null,null,null,null,null,null,null,null,null,null,null,null,null,null,null],[null,null,null,null,null,null,null,null,null,null,null,null,null,null,null,null,null,null,null,null,null,null,null,null,null,null,null,null,null,null,null,null,null,null,null,null,null,null,null,null,null,14.191277498517561,null,null,null,null,null,null,null,null,null,null],[null,null,null,null,40.422642174243244,null,null,null,null,null,null,null,null,null,null,null,null,null,null,null,null,null,null,null,null,null,null,null,null,null,null,null,null,null,null,null,null,null,null,null,null,null,null,null,null,null,null,null,null,null,null,null],[null,null,null,null,null,null,null,null,null,null,null,null,null,null,20.534843360618716,null,null,null,null,null,null,null,null,null,null,null,null,null,null,null,null,null,null,null,null,null,null,null,null,null,null,null,null,null,null,null,null,null,null,null,null,null],[null,null,null,null,null,null,null,null,null,null,null,null,null,null,null,null,null,null,null,null,21.661089315526265,null,null,null,null,null,null,null,null,null,null,null,null,null,null,null,null,null,null,null,null,null,null,null,null,null,null,null,null,null,null,null],[null,null,null,null,null,null,null,15.082160679919584,null,null,null,null,null,null,null,null,null,null,null,null,null,null,null,null,null,null,null,null,null,null,null,null,null,null,null,null,null,null,null,null,null,null,null,null,null,null,null,null,null,null,null,null],[null,null,null,null,null,null,null,null,null,null,null,null,20.750737034103302,null,null,null,null,null,null,null,null,null,null,null,null,null,null,null,null,null,null,null,null,null,null,null,null,null,null,null,null,null,null,null,null,null,null,null,null,null,null,null],[null,null,null,null,null,null,null,null,null,null,null,null,null,null,null,null,null,null,null,null,null,null,null,null,null,null,null,null,null,null,14.250474947515801,null,null,null,null,null,null,null,null,null,null,null,null,null,null,null,null,null,null,null,null,null],[null,null,null,null,null,21.632795229807563,null,null,null,null,null,null,null,null,null,null,null,null,null,null,null,null,null,null,null,null,null,null,null,null,null,null,null,null,null,null,null,null,null,null,null,null,null,null,null,null,null,null,null,null,null,null],[null,null,null,null,null,null,null,null,null,null,null,null,null,null,null,null,null,null,null,null,null,null,null,null,null,null,null,null,null,null,null,null,null,null,null,null,null,null,null,null,null,null,null,null,null,19.176259618644973,null,null,null,null,null,null],[null,null,null,null,null,null,null,null,null,null,null,null,null,null,null,null,null,null,null,null,null,null,null,null,null,null,null,null,null,null,null,null,null,null,null,null,null,null,null,null,null,null,null,null,null,null,null,null,null,null,null,null]],\"type\":\"contour\",\"xaxis\":\"x5\",\"yaxis\":\"y5\"},{\"marker\":{\"color\":\"black\",\"line\":{\"color\":\"Grey\",\"width\":0.5}},\"mode\":\"markers\",\"showlegend\":false,\"x\":[0.004181171855125556,0.048051916543446815,7.518693151712953,0.0011115696623222415,3.8701518903648644,0.001174078859964391,0.11179462765189561,0.008143482393630956,0.009454450785717845,1.170594080375287,9.614411585049716,7.292486618260863,0.9501035856882435,1.5914802139565878,0.2805420260407594,0.22446304261490457,0.421676060389288,0.039035759052868296,2.553341984340309,0.4035307324317401,0.08016751349416755,3.9732673980549658,9.796090374565276,3.0603147368710273,0.7456535609035468,2.418544350325745,4.843419172184714,0.22106915405824007,0.586486169176992,0.018718326166563836,2.131696513483698,9.50362677695563,5.046716569331233,8.385224845487395,9.929525341882028,5.7507039935739686,1.484787722147571,1.4324678647698283,0.19498881441192714,1.7275602718515308,0.1122085358372445,6.696577199513192,3.8023624643868366,0.0021333397373242387,3.7701027222323975,6.393293925047153,5.889921458978879,3.1278670325716296,7.684271104350172,1.0070947821407699],\"y\":[2.9642557807439482,0.014965922662259346,0.6914296418463952,0.0013769818836999155,0.07458762684821876,0.005819104649994918,0.022474339594011815,8.380526849686387,0.006630558856092312,0.07458120961926222,0.4829662656609358,0.3598956527996676,0.2558310275048836,0.09816477586509217,1.31712687361966,1.8589259150665831,0.05871844578209169,1.691818737067726,7.73347008546487,0.20217631128107966,0.031116679654910842,0.6292888188261382,0.8413135968232328,1.0077223222199694,3.7083214461031173,0.17826580667260797,1.2295333378179312,2.9970775075415355,0.15252390396551774,4.546046550053231,0.04706673416531834,0.46476499456097414,0.3031814613120523,0.8404188853006873,0.8736204466588994,1.8528649840656595,0.5041773619081779,0.5047713698110095,0.1335037097276087,0.4307113037739535,5.530841054652775,1.0800390989718782,2.201392599408144,2.405725918556444,1.1087291821279748,2.491006580105017,1.3418958159960621,0.0014862087285557736,8.456930787871904,0.7504844199070764],\"type\":\"scatter\",\"xaxis\":\"x5\",\"yaxis\":\"y5\"},{\"colorbar\":{\"title\":{\"text\":\"Objective Value\"}},\"colorscale\":[[0,\"rgb(5,10,172)\"],[0.35,\"rgb(40,60,190)\"],[0.5,\"rgb(70,100,245)\"],[0.6,\"rgb(90,120,245)\"],[0.7,\"rgb(106,137,247)\"],[1,\"rgb(220,220,220)\"]],\"connectgaps\":true,\"contours\":{\"coloring\":\"heatmap\"},\"hoverinfo\":\"none\",\"line\":{\"smoothing\":1.3},\"reversescale\":true,\"showscale\":false,\"x\":[0.0007053214555077238,0.0011115696623222415,0.001174078859964391,0.0021333397373242387,0.004181171855125556,0.008143482393630956,0.009454450785717845,0.018718326166563836,0.039035759052868296,0.048051916543446815,0.08016751349416755,0.11179462765189561,0.1122085358372445,0.19498881441192714,0.22106915405824007,0.22446304261490457,0.2805420260407594,0.4035307324317401,0.421676060389288,0.586486169176992,0.7456535609035468,0.9501035856882435,1.0070947821407699,1.170594080375287,1.4324678647698283,1.484787722147571,1.5914802139565878,1.7275602718515308,2.131696513483698,2.418544350325745,2.553341984340309,3.0603147368710273,3.1278670325716296,3.7701027222323975,3.8023624643868366,3.8701518903648644,3.9732673980549658,4.843419172184714,5.046716569331233,5.7507039935739686,5.889921458978879,6.393293925047153,6.696577199513192,7.292486618260863,7.518693151712953,7.684271104350172,8.385224845487395,9.50362677695563,9.614411585049716,9.796090374565276,9.929525341882028,15.64869329453578],\"y\":[0.0074,0.008,0.009,0.01,0.012,0.014,0.016,0.018,0.02,0.0206],\"z\":[[null,null,null,null,null,null,null,null,null,null,null,null,null,null,null,null,null,null,null,null,null,null,null,null,null,null,null,null,null,null,null,null,null,null,null,null,null,null,null,null,null,null,null,null,null,null,null,null,null,null,null,null],[null,null,null,null,null,null,null,null,null,null,null,null,null,null,null,null,null,null,null,null,null,null,null,null,null,null,40.42264593641534,null,null,null,null,null,null,null,null,null,13.10472991912463,null,14.165686948129277,null,null,null,null,13.10472991912463,null,19.176259618644973,null,12.583533787101159,13.023379250058735,null,null,null],[null,null,null,null,40.422642174243244,null,null,15.082160679919584,null,null,null,null,null,null,null,null,null,null,null,null,null,null,null,40.42264275729727,null,null,null,null,null,null,null,null,null,null,null,null,null,null,null,null,40.422642174243244,null,null,null,null,null,null,null,null,null,null,null],[null,null,null,null,null,null,null,null,21.834252630837934,null,null,null,null,null,null,24.25861719820378,12.302439532218907,null,16.817914798118203,14.127684671359312,null,null,null,null,null,null,null,null,null,15.259825645646519,null,null,null,null,null,null,null,null,null,null,null,null,null,null,null,null,null,null,null,null,null,null],[null,40.422642450478136,null,null,null,21.632795229807563,null,null,null,40.422642695297206,null,null,null,null,20.534843360618716,null,null,null,null,null,21.661089315526265,null,null,null,null,null,null,null,40.422642695297206,null,null,14.620507238825184,null,null,null,12.976027121452853,null,13.21409404897218,null,null,null,null,null,null,null,null,null,null,null,12.96353443378719,null,null],[null,null,null,null,null,null,null,null,null,null,null,null,null,null,null,null,null,40.42264401957904,null,null,null,20.01440209954164,12.321307396997014,null,null,null,null,null,null,null,null,null,null,null,null,null,null,null,null,null,null,null,null,null,null,null,null,null,null,null,null,null],[null,null,null,null,null,null,null,null,null,null,21.410920874542573,40.42264302348789,null,null,null,null,null,null,null,null,null,null,null,null,null,null,null,null,null,null,null,null,null,null,null,null,null,null,null,null,null,14.191277498517561,null,null,null,null,null,null,null,null,null,null],[null,null,40.42264230569137,null,null,null,null,null,null,null,null,null,20.750737034103302,null,null,null,null,null,null,null,null,null,null,null,null,null,null,null,null,null,14.250474947515801,null,null,null,null,null,null,null,null,null,null,null,null,null,null,null,null,null,null,null,null,null],[null,null,null,13.113863249956626,null,null,14.52015331820405,null,null,null,null,null,null,40.422642317178926,null,null,null,null,null,null,null,null,null,null,40.422642317178926,12.922145133564333,null,14.586841111059032,null,null,null,null,13.79987435964846,14.14360270571202,12.601972164517836,null,null,null,null,21.283965766111656,null,null,12.601972164517836,null,40.422642317178926,null,12.526844986831874,null,null,null,15.099656964064849,null],[null,null,null,null,null,null,null,null,null,null,null,null,null,null,null,null,null,null,null,null,null,null,null,null,null,null,null,null,null,null,null,null,null,null,null,null,null,null,null,null,null,null,null,null,null,null,null,null,null,null,null,null]],\"type\":\"contour\",\"xaxis\":\"x9\",\"yaxis\":\"y9\"},{\"marker\":{\"color\":\"black\",\"line\":{\"color\":\"Grey\",\"width\":0.5}},\"mode\":\"markers\",\"showlegend\":false,\"x\":[0.004181171855125556,0.048051916543446815,7.518693151712953,0.0011115696623222415,3.8701518903648644,0.001174078859964391,0.11179462765189561,0.008143482393630956,0.009454450785717845,1.170594080375287,9.614411585049716,7.292486618260863,0.9501035856882435,1.5914802139565878,0.2805420260407594,0.22446304261490457,0.421676060389288,0.039035759052868296,2.553341984340309,0.4035307324317401,0.08016751349416755,3.9732673980549658,9.796090374565276,3.0603147368710273,0.7456535609035468,2.418544350325745,4.843419172184714,0.22106915405824007,0.586486169176992,0.018718326166563836,2.131696513483698,9.50362677695563,5.046716569331233,8.385224845487395,9.929525341882028,5.7507039935739686,1.484787722147571,1.4324678647698283,0.19498881441192714,1.7275602718515308,0.1122085358372445,6.696577199513192,3.8023624643868366,0.0021333397373242387,3.7701027222323975,6.393293925047153,5.889921458978879,3.1278670325716296,7.684271104350172,1.0070947821407699],\"y\":[0.009,0.012,0.02,0.012,0.012,0.018,0.016,0.012,0.02,0.009,0.008,0.008,0.014,0.008,0.01,0.01,0.01,0.01,0.018,0.014,0.016,0.008,0.012,0.012,0.012,0.01,0.012,0.012,0.01,0.009,0.012,0.008,0.008,0.02,0.02,0.02,0.02,0.02,0.02,0.02,0.018,0.02,0.02,0.02,0.02,0.016,0.009,0.02,0.008,0.014],\"type\":\"scatter\",\"xaxis\":\"x9\",\"yaxis\":\"y9\"},{\"colorbar\":{\"title\":{\"text\":\"Objective Value\"}},\"colorscale\":[[0,\"rgb(5,10,172)\"],[0.35,\"rgb(40,60,190)\"],[0.5,\"rgb(70,100,245)\"],[0.6,\"rgb(90,120,245)\"],[0.7,\"rgb(106,137,247)\"],[1,\"rgb(220,220,220)\"]],\"connectgaps\":true,\"contours\":{\"coloring\":\"heatmap\"},\"hoverinfo\":\"none\",\"line\":{\"smoothing\":1.3},\"reversescale\":true,\"showscale\":false,\"x\":[0.0007053214555077238,0.0011115696623222415,0.001174078859964391,0.0021333397373242387,0.004181171855125556,0.008143482393630956,0.009454450785717845,0.018718326166563836,0.039035759052868296,0.048051916543446815,0.08016751349416755,0.11179462765189561,0.1122085358372445,0.19498881441192714,0.22106915405824007,0.22446304261490457,0.2805420260407594,0.4035307324317401,0.421676060389288,0.586486169176992,0.7456535609035468,0.9501035856882435,1.0070947821407699,1.170594080375287,1.4324678647698283,1.484787722147571,1.5914802139565878,1.7275602718515308,2.131696513483698,2.418544350325745,2.553341984340309,3.0603147368710273,3.1278670325716296,3.7701027222323975,3.8023624643868366,3.8701518903648644,3.9732673980549658,4.843419172184714,5.046716569331233,5.7507039935739686,5.889921458978879,6.393293925047153,6.696577199513192,7.292486618260863,7.518693151712953,7.684271104350172,8.385224845487395,9.50362677695563,9.614411585049716,9.796090374565276,9.929525341882028,15.64869329453578],\"y\":[0.37,0.4,0.5,0.6,0.7,0.8,1.0,1.03],\"z\":[[null,null,null,null,null,null,null,null,null,null,null,null,null,null,null,null,null,null,null,null,null,null,null,null,null,null,null,null,null,null,null,null,null,null,null,null,null,null,null,null,null,null,null,null,null,null,null,null,null,null,null,null],[null,40.422642450478136,null,null,null,null,null,null,null,null,21.410920874542573,null,null,null,null,24.25861719820378,12.302439532218907,40.42264401957904,16.817914798118203,14.127684671359312,null,null,12.321307396997014,null,null,null,null,null,null,null,null,null,null,null,null,null,null,null,null,null,null,14.191277498517561,null,null,null,null,null,null,null,null,null,null],[null,null,null,null,null,null,null,null,null,40.422642695297206,null,40.42264302348789,null,null,null,null,null,null,null,null,null,20.01440209954164,null,null,null,null,40.42264593641534,null,40.422642695297206,null,null,14.620507238825184,null,null,null,12.976027121452853,13.10472991912463,null,14.165686948129277,21.283965766111656,null,null,null,13.10472991912463,null,null,12.526844986831874,12.583533787101159,13.023379250058735,12.96353443378719,15.099656964064849,null],[null,null,null,null,null,null,14.52015331820405,null,null,null,null,null,null,null,null,null,null,null,null,null,21.661089315526265,null,null,null,null,null,null,null,null,null,14.250474947515801,null,null,null,null,null,null,null,null,null,null,null,null,null,null,19.176259618644973,null,null,null,null,null,null],[null,null,null,null,null,null,null,null,21.834252630837934,null,null,null,null,null,20.534843360618716,null,null,null,null,null,null,null,null,40.42264275729727,null,null,null,null,null,null,null,null,13.79987435964846,null,null,null,null,null,null,null,null,null,null,null,null,null,null,null,null,null,null,null],[null,null,40.42264230569137,null,null,21.632795229807563,null,null,null,null,null,null,20.750737034103302,null,null,null,null,null,null,null,null,null,null,null,null,null,null,null,null,null,null,null,null,null,null,null,null,13.21409404897218,null,null,null,null,null,null,null,null,null,null,null,null,null,null],[null,null,null,13.113863249956626,40.422642174243244,null,null,15.082160679919584,null,null,null,null,null,40.422642317178926,null,null,null,null,null,null,null,null,null,null,40.422642317178926,12.922145133564333,null,14.586841111059032,null,15.259825645646519,null,null,null,14.14360270571202,12.601972164517836,null,null,null,null,null,40.422642174243244,null,12.601972164517836,null,40.422642317178926,null,null,null,null,null,null,null],[null,null,null,null,null,null,null,null,null,null,null,null,null,null,null,null,null,null,null,null,null,null,null,null,null,null,null,null,null,null,null,null,null,null,null,null,null,null,null,null,null,null,null,null,null,null,null,null,null,null,null,null]],\"type\":\"contour\",\"xaxis\":\"x13\",\"yaxis\":\"y13\"},{\"marker\":{\"color\":\"black\",\"line\":{\"color\":\"Grey\",\"width\":0.5}},\"mode\":\"markers\",\"showlegend\":false,\"x\":[0.004181171855125556,0.048051916543446815,7.518693151712953,0.0011115696623222415,3.8701518903648644,0.001174078859964391,0.11179462765189561,0.008143482393630956,0.009454450785717845,1.170594080375287,9.614411585049716,7.292486618260863,0.9501035856882435,1.5914802139565878,0.2805420260407594,0.22446304261490457,0.421676060389288,0.039035759052868296,2.553341984340309,0.4035307324317401,0.08016751349416755,3.9732673980549658,9.796090374565276,3.0603147368710273,0.7456535609035468,2.418544350325745,4.843419172184714,0.22106915405824007,0.586486169176992,0.018718326166563836,2.131696513483698,9.50362677695563,5.046716569331233,8.385224845487395,9.929525341882028,5.7507039935739686,1.484787722147571,1.4324678647698283,0.19498881441192714,1.7275602718515308,0.1122085358372445,6.696577199513192,3.8023624643868366,0.0021333397373242387,3.7701027222323975,6.393293925047153,5.889921458978879,3.1278670325716296,7.684271104350172,1.0070947821407699],\"y\":[1.0,0.5,1.0,0.4,0.5,0.8,0.5,0.8,0.6,0.7,0.5,0.5,0.5,0.5,0.4,0.4,0.4,0.7,0.6,0.4,0.4,0.5,0.5,0.5,0.6,1.0,0.8,0.7,0.4,1.0,0.5,0.5,0.5,0.5,0.5,0.5,1.0,1.0,1.0,1.0,0.8,1.0,1.0,1.0,1.0,0.4,1.0,0.7,0.6,0.4],\"type\":\"scatter\",\"xaxis\":\"x13\",\"yaxis\":\"y13\"},{\"colorbar\":{\"title\":{\"text\":\"Objective Value\"}},\"colorscale\":[[0,\"rgb(5,10,172)\"],[0.35,\"rgb(40,60,190)\"],[0.5,\"rgb(70,100,245)\"],[0.6,\"rgb(90,120,245)\"],[0.7,\"rgb(106,137,247)\"],[1,\"rgb(220,220,220)\"]],\"connectgaps\":true,\"contours\":{\"coloring\":\"heatmap\"},\"hoverinfo\":\"none\",\"line\":{\"smoothing\":1.3},\"reversescale\":true,\"showscale\":false,\"x\":[0.000890254133892455,0.0013769818836999155,0.0014862087285557736,0.005819104649994918,0.006630558856092312,0.014965922662259346,0.022474339594011815,0.031116679654910842,0.04706673416531834,0.05871844578209169,0.07458120961926222,0.07458762684821876,0.09816477586509217,0.1335037097276087,0.15252390396551774,0.17826580667260797,0.20217631128107966,0.2558310275048836,0.3031814613120523,0.3598956527996676,0.4307113037739535,0.46476499456097414,0.4829662656609358,0.5041773619081779,0.5047713698110095,0.6292888188261382,0.6914296418463952,0.7504844199070764,0.8404188853006873,0.8413135968232328,0.8736204466588994,1.0077223222199694,1.0800390989718782,1.1087291821279748,1.2295333378179312,1.31712687361966,1.3418958159960621,1.691818737067726,1.8528649840656595,1.8589259150665831,2.201392599408144,2.405725918556444,2.491006580105017,2.9642557807439482,2.9970775075415355,3.7083214461031173,4.546046550053231,5.530841054652775,7.73347008546487,8.380526849686387,8.456930787871904,13.080580076262146],\"y\":[0.0007053214555077238,0.0011115696623222415,0.001174078859964391,0.0021333397373242387,0.004181171855125556,0.008143482393630956,0.009454450785717845,0.018718326166563836,0.039035759052868296,0.048051916543446815,0.08016751349416755,0.11179462765189561,0.1122085358372445,0.19498881441192714,0.22106915405824007,0.22446304261490457,0.2805420260407594,0.4035307324317401,0.421676060389288,0.586486169176992,0.7456535609035468,0.9501035856882435,1.0070947821407699,1.170594080375287,1.4324678647698283,1.484787722147571,1.5914802139565878,1.7275602718515308,2.131696513483698,2.418544350325745,2.553341984340309,3.0603147368710273,3.1278670325716296,3.7701027222323975,3.8023624643868366,3.8701518903648644,3.9732673980549658,4.843419172184714,5.046716569331233,5.7507039935739686,5.889921458978879,6.393293925047153,6.696577199513192,7.292486618260863,7.518693151712953,7.684271104350172,8.385224845487395,9.50362677695563,9.614411585049716,9.796090374565276,9.929525341882028,15.64869329453578],\"z\":[[null,null,null,null,null,null,null,null,null,null,null,null,null,null,null,null,null,null,null,null,null,null,null,null,null,null,null,null,null,null,null,null,null,null,null,null,null,null,null,null,null,null,null,null,null,null,null,null,null,null,null,null],[null,40.422642450478136,null,null,null,null,null,null,null,null,null,null,null,null,null,null,null,null,null,null,null,null,null,null,null,null,null,null,null,null,null,null,null,null,null,null,null,null,null,null,null,null,null,null,null,null,null,null,null,null,null,null],[null,null,null,40.42264230569137,null,null,null,null,null,null,null,null,null,null,null,null,null,null,null,null,null,null,null,null,null,null,null,null,null,null,null,null,null,null,null,null,null,null,null,null,null,null,null,null,null,null,null,null,null,null,null,null],[null,null,null,null,null,null,null,null,null,null,null,null,null,null,null,null,null,null,null,null,null,null,null,null,null,null,null,null,null,null,null,null,null,null,null,null,null,null,null,null,null,13.113863249956626,null,null,null,null,null,null,null,null,null,null],[null,null,null,null,null,null,null,null,null,null,null,null,null,null,null,null,null,null,null,null,null,null,null,null,null,null,null,null,null,null,null,null,null,null,null,null,null,null,null,null,null,null,null,40.422642174243244,null,null,null,null,null,null,null,null],[null,null,null,null,null,null,null,null,null,null,null,null,null,null,null,null,null,null,null,null,null,null,null,null,null,null,null,null,null,null,null,null,null,null,null,null,null,null,null,null,null,null,null,null,null,null,null,null,null,21.632795229807563,null,null],[null,null,null,null,14.52015331820405,null,null,null,null,null,null,null,null,null,null,null,null,null,null,null,null,null,null,null,null,null,null,null,null,null,null,null,null,null,null,null,null,null,null,null,null,null,null,null,null,null,null,null,null,null,null,null],[null,null,null,null,null,null,null,null,null,null,null,null,null,null,null,null,null,null,null,null,null,null,null,null,null,null,null,null,null,null,null,null,null,null,null,null,null,null,null,null,null,null,null,null,null,null,15.082160679919584,null,null,null,null,null],[null,null,null,null,null,null,null,null,null,null,null,null,null,null,null,null,null,null,null,null,null,null,null,null,null,null,null,null,null,null,null,null,null,null,null,null,null,21.834252630837934,null,null,null,null,null,null,null,null,null,null,null,null,null,null],[null,null,null,null,null,40.422642695297206,null,null,null,null,null,null,null,null,null,null,null,null,null,null,null,null,null,null,null,null,null,null,null,null,null,null,null,null,null,null,null,null,null,null,null,null,null,null,null,null,null,null,null,null,null,null],[null,null,null,null,null,null,null,21.410920874542573,null,null,null,null,null,null,null,null,null,null,null,null,null,null,null,null,null,null,null,null,null,null,null,null,null,null,null,null,null,null,null,null,null,null,null,null,null,null,null,null,null,null,null,null],[null,null,null,null,null,null,40.42264302348789,null,null,null,null,null,null,null,null,null,null,null,null,null,null,null,null,null,null,null,null,null,null,null,null,null,null,null,null,null,null,null,null,null,null,null,null,null,null,null,null,null,null,null,null,null],[null,null,null,null,null,null,null,null,null,null,null,null,null,null,null,null,null,null,null,null,null,null,null,null,null,null,null,null,null,null,null,null,null,null,null,null,null,null,null,null,null,null,null,null,null,null,null,20.750737034103302,null,null,null,null],[null,null,null,null,null,null,null,null,null,null,null,null,null,40.422642317178926,null,null,null,null,null,null,null,null,null,null,null,null,null,null,null,null,null,null,null,null,null,null,null,null,null,null,null,null,null,null,null,null,null,null,null,null,null,null],[null,null,null,null,null,null,null,null,null,null,null,null,null,null,null,null,null,null,null,null,null,null,null,null,null,null,null,null,null,null,null,null,null,null,null,null,null,null,null,null,null,null,null,null,20.534843360618716,null,null,null,null,null,null,null],[null,null,null,null,null,null,null,null,null,null,null,null,null,null,null,null,null,null,null,null,null,null,null,null,null,null,null,null,null,null,null,null,null,null,null,null,null,null,null,24.25861719820378,null,null,null,null,null,null,null,null,null,null,null,null],[null,null,null,null,null,null,null,null,null,null,null,null,null,null,null,null,null,null,null,null,null,null,null,null,null,null,null,null,null,null,null,null,null,null,null,12.302439532218907,null,null,null,null,null,null,null,null,null,null,null,null,null,null,null,null],[null,null,null,null,null,null,null,null,null,null,null,null,null,null,null,null,40.42264401957904,null,null,null,null,null,null,null,null,null,null,null,null,null,null,null,null,null,null,null,null,null,null,null,null,null,null,null,null,null,null,null,null,null,null,null],[null,null,null,null,null,null,null,null,null,16.817914798118203,null,null,null,null,null,null,null,null,null,null,null,null,null,null,null,null,null,null,null,null,null,null,null,null,null,null,null,null,null,null,null,null,null,null,null,null,null,null,null,null,null,null],[null,null,null,null,null,null,null,null,null,null,null,null,null,null,14.127684671359312,null,null,null,null,null,null,null,null,null,null,null,null,null,null,null,null,null,null,null,null,null,null,null,null,null,null,null,null,null,null,null,null,null,null,null,null,null],[null,null,null,null,null,null,null,null,null,null,null,null,null,null,null,null,null,null,null,null,null,null,null,null,null,null,null,null,null,null,null,null,null,null,null,null,null,null,null,null,null,null,null,null,null,21.661089315526265,null,null,null,null,null,null],[null,null,null,null,null,null,null,null,null,null,null,null,null,null,null,null,null,20.01440209954164,null,null,null,null,null,null,null,null,null,null,null,null,null,null,null,null,null,null,null,null,null,null,null,null,null,null,null,null,null,null,null,null,null,null],[null,null,null,null,null,null,null,null,null,null,null,null,null,null,null,null,null,null,null,null,null,null,null,null,null,null,null,12.321307396997014,null,null,null,null,null,null,null,null,null,null,null,null,null,null,null,null,null,null,null,null,null,null,null,null],[null,null,null,null,null,null,null,null,null,null,40.42264275729727,null,null,null,null,null,null,null,null,null,null,null,null,null,null,null,null,null,null,null,null,null,null,null,null,null,null,null,null,null,null,null,null,null,null,null,null,null,null,null,null,null],[null,null,null,null,null,null,null,null,null,null,null,null,null,null,null,null,null,null,null,null,null,null,null,null,40.422642317178926,null,null,null,null,null,null,null,null,null,null,null,null,null,null,null,null,null,null,null,null,null,null,null,null,null,null,null],[null,null,null,null,null,null,null,null,null,null,null,null,null,null,null,null,null,null,null,null,null,null,null,12.922145133564333,null,null,null,null,null,null,null,null,null,null,null,null,null,null,null,null,null,null,null,null,null,null,null,null,null,null,null,null],[null,null,null,null,null,null,null,null,null,null,null,null,40.42264593641534,null,null,null,null,null,null,null,null,null,null,null,null,null,null,null,null,null,null,null,null,null,null,null,null,null,null,null,null,null,null,null,null,null,null,null,null,null,null,null],[null,null,null,null,null,null,null,null,null,null,null,null,null,null,null,null,null,null,null,null,14.586841111059032,null,null,null,null,null,null,null,null,null,null,null,null,null,null,null,null,null,null,null,null,null,null,null,null,null,null,null,null,null,null,null],[null,null,null,null,null,null,null,null,40.422642695297206,null,null,null,null,null,null,null,null,null,null,null,null,null,null,null,null,null,null,null,null,null,null,null,null,null,null,null,null,null,null,null,null,null,null,null,null,null,null,null,null,null,null,null],[null,null,null,null,null,null,null,null,null,null,null,null,null,null,null,15.259825645646519,null,null,null,null,null,null,null,null,null,null,null,null,null,null,null,null,null,null,null,null,null,null,null,null,null,null,null,null,null,null,null,null,null,null,null,null],[null,null,null,null,null,null,null,null,null,null,null,null,null,null,null,null,null,null,null,null,null,null,null,null,null,null,null,null,null,null,null,null,null,null,null,null,null,null,null,null,null,null,null,null,null,null,null,null,14.250474947515801,null,null,null],[null,null,null,null,null,null,null,null,null,null,null,null,null,null,null,null,null,null,null,null,null,null,null,null,null,null,null,null,null,null,null,14.620507238825184,null,null,null,null,null,null,null,null,null,null,null,null,null,null,null,null,null,null,null,null],[null,null,13.79987435964846,null,null,null,null,null,null,null,null,null,null,null,null,null,null,null,null,null,null,null,null,null,null,null,null,null,null,null,null,null,null,null,null,null,null,null,null,null,null,null,null,null,null,null,null,null,null,null,null,null],[null,null,null,null,null,null,null,null,null,null,null,null,null,null,null,null,null,null,null,null,null,null,null,null,null,null,null,null,null,null,null,null,null,14.14360270571202,null,null,null,null,null,null,null,null,null,null,null,null,null,null,null,null,null,null],[null,null,null,null,null,null,null,null,null,null,null,null,null,null,null,null,null,null,null,null,null,null,null,null,null,null,null,null,null,null,null,null,null,null,null,null,null,null,null,null,12.601972164517836,null,null,null,null,null,null,null,null,null,null,null],[null,null,null,null,null,null,null,null,null,null,null,12.976027121452853,null,null,null,null,null,null,null,null,null,null,null,null,null,null,null,null,null,null,null,null,null,null,null,null,null,null,null,null,null,null,null,null,null,null,null,null,null,null,null,null],[null,null,null,null,null,null,null,null,null,null,null,null,null,null,null,null,null,null,null,null,null,null,null,null,null,13.10472991912463,null,null,null,null,null,null,null,null,null,null,null,null,null,null,null,null,null,null,null,null,null,null,null,null,null,null],[null,null,null,null,null,null,null,null,null,null,null,null,null,null,null,null,null,null,null,null,null,null,null,null,null,null,null,null,null,null,null,null,null,null,13.21409404897218,null,null,null,null,null,null,null,null,null,null,null,null,null,null,null,null,null],[null,null,null,null,null,null,null,null,null,null,null,null,null,null,null,null,null,null,14.165686948129277,null,null,null,null,null,null,null,null,null,null,null,null,null,null,null,null,null,null,null,null,null,null,null,null,null,null,null,null,null,null,null,null,null],[null,null,null,null,null,null,null,null,null,null,null,null,null,null,null,null,null,null,null,null,null,null,null,null,null,null,null,null,null,null,null,null,null,null,null,null,null,null,21.283965766111656,null,null,null,null,null,null,null,null,null,null,null,null,null],[null,null,null,null,null,null,null,null,null,null,null,null,null,null,null,null,null,null,null,null,null,null,null,null,null,null,null,null,null,null,null,null,null,null,null,null,40.422642174243244,null,null,null,null,null,null,null,null,null,null,null,null,null,null,null],[null,null,null,null,null,null,null,null,null,null,null,null,null,null,null,null,null,null,null,null,null,null,null,null,null,null,null,null,null,null,null,null,null,null,null,null,null,null,null,null,null,null,14.191277498517561,null,null,null,null,null,null,null,null,null],[null,null,null,null,null,null,null,null,null,null,null,null,null,null,null,null,null,null,null,null,null,null,null,null,null,null,null,null,null,null,null,null,12.601972164517836,null,null,null,null,null,null,null,null,null,null,null,null,null,null,null,null,null,null,null],[null,null,null,null,null,null,null,null,null,null,null,null,null,null,null,null,null,null,null,13.10472991912463,null,null,null,null,null,null,null,null,null,null,null,null,null,null,null,null,null,null,null,null,null,null,null,null,null,null,null,null,null,null,null,null],[null,null,null,null,null,null,null,null,null,null,null,null,null,null,null,null,null,null,null,null,null,null,null,null,null,null,40.422642317178926,null,null,null,null,null,null,null,null,null,null,null,null,null,null,null,null,null,null,null,null,null,null,null,null,null],[null,null,null,null,null,null,null,null,null,null,null,null,null,null,null,null,null,null,null,null,null,null,null,null,null,null,null,null,null,null,null,null,null,null,null,null,null,null,null,null,null,null,null,null,null,null,null,null,null,null,19.176259618644973,null],[null,null,null,null,null,null,null,null,null,null,null,null,null,null,null,null,null,null,null,null,null,null,null,null,null,null,null,null,12.526844986831874,null,null,null,null,null,null,null,null,null,null,null,null,null,null,null,null,null,null,null,null,null,null,null],[null,null,null,null,null,null,null,null,null,null,null,null,null,null,null,null,null,null,null,null,null,12.583533787101159,null,null,null,null,null,null,null,null,null,null,null,null,null,null,null,null,null,null,null,null,null,null,null,null,null,null,null,null,null,null],[null,null,null,null,null,null,null,null,null,null,null,null,null,null,null,null,null,null,null,null,null,null,13.023379250058735,null,null,null,null,null,null,null,null,null,null,null,null,null,null,null,null,null,null,null,null,null,null,null,null,null,null,null,null,null],[null,null,null,null,null,null,null,null,null,null,null,null,null,null,null,null,null,null,null,null,null,null,null,null,null,null,null,null,null,12.96353443378719,null,null,null,null,null,null,null,null,null,null,null,null,null,null,null,null,null,null,null,null,null,null],[null,null,null,null,null,null,null,null,null,null,null,null,null,null,null,null,null,null,null,null,null,null,null,null,null,null,null,null,null,null,15.099656964064849,null,null,null,null,null,null,null,null,null,null,null,null,null,null,null,null,null,null,null,null,null],[null,null,null,null,null,null,null,null,null,null,null,null,null,null,null,null,null,null,null,null,null,null,null,null,null,null,null,null,null,null,null,null,null,null,null,null,null,null,null,null,null,null,null,null,null,null,null,null,null,null,null,null]],\"type\":\"contour\",\"xaxis\":\"x2\",\"yaxis\":\"y2\"},{\"marker\":{\"color\":\"black\",\"line\":{\"color\":\"Grey\",\"width\":0.5}},\"mode\":\"markers\",\"showlegend\":false,\"x\":[2.9642557807439482,0.014965922662259346,0.6914296418463952,0.0013769818836999155,0.07458762684821876,0.005819104649994918,0.022474339594011815,8.380526849686387,0.006630558856092312,0.07458120961926222,0.4829662656609358,0.3598956527996676,0.2558310275048836,0.09816477586509217,1.31712687361966,1.8589259150665831,0.05871844578209169,1.691818737067726,7.73347008546487,0.20217631128107966,0.031116679654910842,0.6292888188261382,0.8413135968232328,1.0077223222199694,3.7083214461031173,0.17826580667260797,1.2295333378179312,2.9970775075415355,0.15252390396551774,4.546046550053231,0.04706673416531834,0.46476499456097414,0.3031814613120523,0.8404188853006873,0.8736204466588994,1.8528649840656595,0.5041773619081779,0.5047713698110095,0.1335037097276087,0.4307113037739535,5.530841054652775,1.0800390989718782,2.201392599408144,2.405725918556444,1.1087291821279748,2.491006580105017,1.3418958159960621,0.0014862087285557736,8.456930787871904,0.7504844199070764],\"y\":[0.004181171855125556,0.048051916543446815,7.518693151712953,0.0011115696623222415,3.8701518903648644,0.001174078859964391,0.11179462765189561,0.008143482393630956,0.009454450785717845,1.170594080375287,9.614411585049716,7.292486618260863,0.9501035856882435,1.5914802139565878,0.2805420260407594,0.22446304261490457,0.421676060389288,0.039035759052868296,2.553341984340309,0.4035307324317401,0.08016751349416755,3.9732673980549658,9.796090374565276,3.0603147368710273,0.7456535609035468,2.418544350325745,4.843419172184714,0.22106915405824007,0.586486169176992,0.018718326166563836,2.131696513483698,9.50362677695563,5.046716569331233,8.385224845487395,9.929525341882028,5.7507039935739686,1.484787722147571,1.4324678647698283,0.19498881441192714,1.7275602718515308,0.1122085358372445,6.696577199513192,3.8023624643868366,0.0021333397373242387,3.7701027222323975,6.393293925047153,5.889921458978879,3.1278670325716296,7.684271104350172,1.0070947821407699],\"type\":\"scatter\",\"xaxis\":\"x2\",\"yaxis\":\"y2\"},{\"type\":\"scatter\",\"xaxis\":\"x6\",\"yaxis\":\"y6\"},{\"colorbar\":{\"title\":{\"text\":\"Objective Value\"}},\"colorscale\":[[0,\"rgb(5,10,172)\"],[0.35,\"rgb(40,60,190)\"],[0.5,\"rgb(70,100,245)\"],[0.6,\"rgb(90,120,245)\"],[0.7,\"rgb(106,137,247)\"],[1,\"rgb(220,220,220)\"]],\"connectgaps\":true,\"contours\":{\"coloring\":\"heatmap\"},\"hoverinfo\":\"none\",\"line\":{\"smoothing\":1.3},\"reversescale\":true,\"showscale\":false,\"x\":[0.000890254133892455,0.0013769818836999155,0.0014862087285557736,0.005819104649994918,0.006630558856092312,0.014965922662259346,0.022474339594011815,0.031116679654910842,0.04706673416531834,0.05871844578209169,0.07458120961926222,0.07458762684821876,0.09816477586509217,0.1335037097276087,0.15252390396551774,0.17826580667260797,0.20217631128107966,0.2558310275048836,0.3031814613120523,0.3598956527996676,0.4307113037739535,0.46476499456097414,0.4829662656609358,0.5041773619081779,0.5047713698110095,0.6292888188261382,0.6914296418463952,0.7504844199070764,0.8404188853006873,0.8413135968232328,0.8736204466588994,1.0077223222199694,1.0800390989718782,1.1087291821279748,1.2295333378179312,1.31712687361966,1.3418958159960621,1.691818737067726,1.8528649840656595,1.8589259150665831,2.201392599408144,2.405725918556444,2.491006580105017,2.9642557807439482,2.9970775075415355,3.7083214461031173,4.546046550053231,5.530841054652775,7.73347008546487,8.380526849686387,8.456930787871904,13.080580076262146],\"y\":[0.0074,0.008,0.009,0.01,0.012,0.014,0.016,0.018,0.02,0.0206],\"z\":[[null,null,null,null,null,null,null,null,null,null,null,null,null,null,null,null,null,null,null,null,null,null,null,null,null,null,null,null,null,null,null,null,null,null,null,null,null,null,null,null,null,null,null,null,null,null,null,null,null,null,null,null],[null,null,null,null,null,null,null,null,null,null,null,null,40.42264593641534,null,null,null,null,null,14.165686948129277,13.10472991912463,null,12.583533787101159,13.023379250058735,null,null,13.10472991912463,null,null,null,null,null,null,null,null,null,null,null,null,null,null,null,null,null,null,null,null,null,null,null,null,19.176259618644973,null],[null,null,null,null,null,null,null,null,null,null,40.42264275729727,null,null,null,null,null,null,null,null,null,null,null,null,null,null,null,null,null,null,null,null,null,null,null,null,null,40.422642174243244,null,null,null,null,null,null,40.422642174243244,null,null,15.082160679919584,null,null,null,null,null],[null,null,null,null,null,null,null,null,null,16.817914798118203,null,null,null,null,14.127684671359312,15.259825645646519,null,null,null,null,null,null,null,null,null,null,null,null,null,null,null,null,null,null,null,12.302439532218907,null,21.834252630837934,null,24.25861719820378,null,null,null,null,null,null,null,null,null,null,null,null],[null,40.422642450478136,null,null,null,40.422642695297206,null,null,40.422642695297206,null,null,12.976027121452853,null,null,null,null,null,null,null,null,null,null,null,null,null,null,null,null,null,12.96353443378719,null,14.620507238825184,null,null,13.21409404897218,null,null,null,null,null,null,null,null,null,20.534843360618716,21.661089315526265,null,null,null,21.632795229807563,null,null],[null,null,null,null,null,null,null,null,null,null,null,null,null,null,null,null,40.42264401957904,20.01440209954164,null,null,null,null,null,null,null,null,null,12.321307396997014,null,null,null,null,null,null,null,null,null,null,null,null,null,null,null,null,null,null,null,null,null,null,null,null],[null,null,null,null,null,null,40.42264302348789,21.410920874542573,null,null,null,null,null,null,null,null,null,null,null,null,null,null,null,null,null,null,null,null,null,null,null,null,null,null,null,null,null,null,null,null,null,null,14.191277498517561,null,null,null,null,null,null,null,null,null],[null,null,null,40.42264230569137,null,null,null,null,null,null,null,null,null,null,null,null,null,null,null,null,null,null,null,null,null,null,null,null,null,null,null,null,null,null,null,null,null,null,null,null,null,null,null,null,null,null,null,20.750737034103302,14.250474947515801,null,null,null],[null,null,13.79987435964846,null,14.52015331820405,null,null,null,null,null,null,null,null,40.422642317178926,null,null,null,null,null,null,14.586841111059032,null,null,12.922145133564333,40.422642317178926,null,40.422642317178926,null,12.526844986831874,null,15.099656964064849,null,12.601972164517836,14.14360270571202,null,null,null,null,21.283965766111656,null,12.601972164517836,13.113863249956626,null,null,null,null,null,null,null,null,null,null],[null,null,null,null,null,null,null,null,null,null,null,null,null,null,null,null,null,null,null,null,null,null,null,null,null,null,null,null,null,null,null,null,null,null,null,null,null,null,null,null,null,null,null,null,null,null,null,null,null,null,null,null]],\"type\":\"contour\",\"xaxis\":\"x10\",\"yaxis\":\"y10\"},{\"marker\":{\"color\":\"black\",\"line\":{\"color\":\"Grey\",\"width\":0.5}},\"mode\":\"markers\",\"showlegend\":false,\"x\":[2.9642557807439482,0.014965922662259346,0.6914296418463952,0.0013769818836999155,0.07458762684821876,0.005819104649994918,0.022474339594011815,8.380526849686387,0.006630558856092312,0.07458120961926222,0.4829662656609358,0.3598956527996676,0.2558310275048836,0.09816477586509217,1.31712687361966,1.8589259150665831,0.05871844578209169,1.691818737067726,7.73347008546487,0.20217631128107966,0.031116679654910842,0.6292888188261382,0.8413135968232328,1.0077223222199694,3.7083214461031173,0.17826580667260797,1.2295333378179312,2.9970775075415355,0.15252390396551774,4.546046550053231,0.04706673416531834,0.46476499456097414,0.3031814613120523,0.8404188853006873,0.8736204466588994,1.8528649840656595,0.5041773619081779,0.5047713698110095,0.1335037097276087,0.4307113037739535,5.530841054652775,1.0800390989718782,2.201392599408144,2.405725918556444,1.1087291821279748,2.491006580105017,1.3418958159960621,0.0014862087285557736,8.456930787871904,0.7504844199070764],\"y\":[0.009,0.012,0.02,0.012,0.012,0.018,0.016,0.012,0.02,0.009,0.008,0.008,0.014,0.008,0.01,0.01,0.01,0.01,0.018,0.014,0.016,0.008,0.012,0.012,0.012,0.01,0.012,0.012,0.01,0.009,0.012,0.008,0.008,0.02,0.02,0.02,0.02,0.02,0.02,0.02,0.018,0.02,0.02,0.02,0.02,0.016,0.009,0.02,0.008,0.014],\"type\":\"scatter\",\"xaxis\":\"x10\",\"yaxis\":\"y10\"},{\"colorbar\":{\"title\":{\"text\":\"Objective Value\"}},\"colorscale\":[[0,\"rgb(5,10,172)\"],[0.35,\"rgb(40,60,190)\"],[0.5,\"rgb(70,100,245)\"],[0.6,\"rgb(90,120,245)\"],[0.7,\"rgb(106,137,247)\"],[1,\"rgb(220,220,220)\"]],\"connectgaps\":true,\"contours\":{\"coloring\":\"heatmap\"},\"hoverinfo\":\"none\",\"line\":{\"smoothing\":1.3},\"reversescale\":true,\"showscale\":false,\"x\":[0.000890254133892455,0.0013769818836999155,0.0014862087285557736,0.005819104649994918,0.006630558856092312,0.014965922662259346,0.022474339594011815,0.031116679654910842,0.04706673416531834,0.05871844578209169,0.07458120961926222,0.07458762684821876,0.09816477586509217,0.1335037097276087,0.15252390396551774,0.17826580667260797,0.20217631128107966,0.2558310275048836,0.3031814613120523,0.3598956527996676,0.4307113037739535,0.46476499456097414,0.4829662656609358,0.5041773619081779,0.5047713698110095,0.6292888188261382,0.6914296418463952,0.7504844199070764,0.8404188853006873,0.8413135968232328,0.8736204466588994,1.0077223222199694,1.0800390989718782,1.1087291821279748,1.2295333378179312,1.31712687361966,1.3418958159960621,1.691818737067726,1.8528649840656595,1.8589259150665831,2.201392599408144,2.405725918556444,2.491006580105017,2.9642557807439482,2.9970775075415355,3.7083214461031173,4.546046550053231,5.530841054652775,7.73347008546487,8.380526849686387,8.456930787871904,13.080580076262146],\"y\":[0.37,0.4,0.5,0.6,0.7,0.8,1.0,1.03],\"z\":[[null,null,null,null,null,null,null,null,null,null,null,null,null,null,null,null,null,null,null,null,null,null,null,null,null,null,null,null,null,null,null,null,null,null,null,null,null,null,null,null,null,null,null,null,null,null,null,null,null,null,null,null],[null,40.422642450478136,null,null,null,null,null,21.410920874542573,null,16.817914798118203,null,null,null,null,14.127684671359312,null,40.42264401957904,null,null,null,null,null,null,null,null,null,null,12.321307396997014,null,null,null,null,null,null,null,12.302439532218907,null,null,null,24.25861719820378,null,null,14.191277498517561,null,null,null,null,null,null,null,null,null],[null,null,null,null,null,40.422642695297206,40.42264302348789,null,40.422642695297206,null,null,12.976027121452853,40.42264593641534,null,null,null,null,20.01440209954164,14.165686948129277,13.10472991912463,null,12.583533787101159,13.023379250058735,null,null,13.10472991912463,null,null,12.526844986831874,12.96353443378719,15.099656964064849,14.620507238825184,null,null,null,null,null,null,21.283965766111656,null,null,null,null,null,null,null,null,null,null,null,null,null],[null,null,null,null,14.52015331820405,null,null,null,null,null,null,null,null,null,null,null,null,null,null,null,null,null,null,null,null,null,null,null,null,null,null,null,null,null,null,null,null,null,null,null,null,null,null,null,null,21.661089315526265,null,null,14.250474947515801,null,19.176259618644973,null],[null,null,13.79987435964846,null,null,null,null,null,null,null,40.42264275729727,null,null,null,null,null,null,null,null,null,null,null,null,null,null,null,null,null,null,null,null,null,null,null,null,null,null,21.834252630837934,null,null,null,null,null,null,20.534843360618716,null,null,null,null,null,null,null],[null,null,null,40.42264230569137,null,null,null,null,null,null,null,null,null,null,null,null,null,null,null,null,null,null,null,null,null,null,null,null,null,null,null,null,null,null,13.21409404897218,null,null,null,null,null,null,null,null,null,null,null,null,20.750737034103302,null,21.632795229807563,null,null],[null,null,null,null,null,null,null,null,null,null,null,null,null,40.422642317178926,null,15.259825645646519,null,null,null,null,14.586841111059032,null,null,12.922145133564333,40.422642317178926,null,40.422642317178926,null,null,null,null,null,12.601972164517836,14.14360270571202,null,null,40.422642174243244,null,null,null,12.601972164517836,13.113863249956626,null,40.422642174243244,null,null,15.082160679919584,null,null,null,null,null],[null,null,null,null,null,null,null,null,null,null,null,null,null,null,null,null,null,null,null,null,null,null,null,null,null,null,null,null,null,null,null,null,null,null,null,null,null,null,null,null,null,null,null,null,null,null,null,null,null,null,null,null]],\"type\":\"contour\",\"xaxis\":\"x14\",\"yaxis\":\"y14\"},{\"marker\":{\"color\":\"black\",\"line\":{\"color\":\"Grey\",\"width\":0.5}},\"mode\":\"markers\",\"showlegend\":false,\"x\":[2.9642557807439482,0.014965922662259346,0.6914296418463952,0.0013769818836999155,0.07458762684821876,0.005819104649994918,0.022474339594011815,8.380526849686387,0.006630558856092312,0.07458120961926222,0.4829662656609358,0.3598956527996676,0.2558310275048836,0.09816477586509217,1.31712687361966,1.8589259150665831,0.05871844578209169,1.691818737067726,7.73347008546487,0.20217631128107966,0.031116679654910842,0.6292888188261382,0.8413135968232328,1.0077223222199694,3.7083214461031173,0.17826580667260797,1.2295333378179312,2.9970775075415355,0.15252390396551774,4.546046550053231,0.04706673416531834,0.46476499456097414,0.3031814613120523,0.8404188853006873,0.8736204466588994,1.8528649840656595,0.5041773619081779,0.5047713698110095,0.1335037097276087,0.4307113037739535,5.530841054652775,1.0800390989718782,2.201392599408144,2.405725918556444,1.1087291821279748,2.491006580105017,1.3418958159960621,0.0014862087285557736,8.456930787871904,0.7504844199070764],\"y\":[1.0,0.5,1.0,0.4,0.5,0.8,0.5,0.8,0.6,0.7,0.5,0.5,0.5,0.5,0.4,0.4,0.4,0.7,0.6,0.4,0.4,0.5,0.5,0.5,0.6,1.0,0.8,0.7,0.4,1.0,0.5,0.5,0.5,0.5,0.5,0.5,1.0,1.0,1.0,1.0,0.8,1.0,1.0,1.0,1.0,0.4,1.0,0.7,0.6,0.4],\"type\":\"scatter\",\"xaxis\":\"x14\",\"yaxis\":\"y14\"},{\"colorbar\":{\"title\":{\"text\":\"Objective Value\"}},\"colorscale\":[[0,\"rgb(5,10,172)\"],[0.35,\"rgb(40,60,190)\"],[0.5,\"rgb(70,100,245)\"],[0.6,\"rgb(90,120,245)\"],[0.7,\"rgb(106,137,247)\"],[1,\"rgb(220,220,220)\"]],\"connectgaps\":true,\"contours\":{\"coloring\":\"heatmap\"},\"hoverinfo\":\"none\",\"line\":{\"smoothing\":1.3},\"reversescale\":true,\"showscale\":false,\"x\":[0.0074,0.008,0.009,0.01,0.012,0.014,0.016,0.018,0.02,0.0206],\"y\":[0.0007053214555077238,0.0011115696623222415,0.001174078859964391,0.0021333397373242387,0.004181171855125556,0.008143482393630956,0.009454450785717845,0.018718326166563836,0.039035759052868296,0.048051916543446815,0.08016751349416755,0.11179462765189561,0.1122085358372445,0.19498881441192714,0.22106915405824007,0.22446304261490457,0.2805420260407594,0.4035307324317401,0.421676060389288,0.586486169176992,0.7456535609035468,0.9501035856882435,1.0070947821407699,1.170594080375287,1.4324678647698283,1.484787722147571,1.5914802139565878,1.7275602718515308,2.131696513483698,2.418544350325745,2.553341984340309,3.0603147368710273,3.1278670325716296,3.7701027222323975,3.8023624643868366,3.8701518903648644,3.9732673980549658,4.843419172184714,5.046716569331233,5.7507039935739686,5.889921458978879,6.393293925047153,6.696577199513192,7.292486618260863,7.518693151712953,7.684271104350172,8.385224845487395,9.50362677695563,9.614411585049716,9.796090374565276,9.929525341882028,15.64869329453578],\"z\":[[null,null,null,null,null,null,null,null,null,null],[null,null,null,null,40.422642450478136,null,null,null,null,null],[null,null,null,null,null,null,null,40.42264230569137,null,null],[null,null,null,null,null,null,null,null,13.113863249956626,null],[null,null,40.422642174243244,null,null,null,null,null,null,null],[null,null,null,null,21.632795229807563,null,null,null,null,null],[null,null,null,null,null,null,null,null,14.52015331820405,null],[null,null,15.082160679919584,null,null,null,null,null,null,null],[null,null,null,21.834252630837934,null,null,null,null,null,null],[null,null,null,null,40.422642695297206,null,null,null,null,null],[null,null,null,null,null,null,21.410920874542573,null,null,null],[null,null,null,null,null,null,40.42264302348789,null,null,null],[null,null,null,null,null,null,null,20.750737034103302,null,null],[null,null,null,null,null,null,null,null,40.422642317178926,null],[null,null,null,null,20.534843360618716,null,null,null,null,null],[null,null,null,24.25861719820378,null,null,null,null,null,null],[null,null,null,12.302439532218907,null,null,null,null,null,null],[null,null,null,null,null,40.42264401957904,null,null,null,null],[null,null,null,16.817914798118203,null,null,null,null,null,null],[null,null,null,14.127684671359312,null,null,null,null,null,null],[null,null,null,null,21.661089315526265,null,null,null,null,null],[null,null,null,null,null,20.01440209954164,null,null,null,null],[null,null,null,null,null,12.321307396997014,null,null,null,null],[null,null,40.42264275729727,null,null,null,null,null,null,null],[null,null,null,null,null,null,null,null,40.422642317178926,null],[null,null,null,null,null,null,null,null,12.922145133564333,null],[null,40.42264593641534,null,null,null,null,null,null,null,null],[null,null,null,null,null,null,null,null,14.586841111059032,null],[null,null,null,null,40.422642695297206,null,null,null,null,null],[null,null,null,15.259825645646519,null,null,null,null,null,null],[null,null,null,null,null,null,null,14.250474947515801,null,null],[null,null,null,null,14.620507238825184,null,null,null,null,null],[null,null,null,null,null,null,null,null,13.79987435964846,null],[null,null,null,null,null,null,null,null,14.14360270571202,null],[null,null,null,null,null,null,null,null,12.601972164517836,null],[null,null,null,null,12.976027121452853,null,null,null,null,null],[null,13.10472991912463,null,null,null,null,null,null,null,null],[null,null,null,null,13.21409404897218,null,null,null,null,null],[null,14.165686948129277,null,null,null,null,null,null,null,null],[null,null,null,null,null,null,null,null,21.283965766111656,null],[null,null,40.422642174243244,null,null,null,null,null,null,null],[null,null,null,null,null,null,14.191277498517561,null,null,null],[null,null,null,null,null,null,null,null,12.601972164517836,null],[null,13.10472991912463,null,null,null,null,null,null,null,null],[null,null,null,null,null,null,null,null,40.422642317178926,null],[null,19.176259618644973,null,null,null,null,null,null,null,null],[null,null,null,null,null,null,null,null,12.526844986831874,null],[null,12.583533787101159,null,null,null,null,null,null,null,null],[null,13.023379250058735,null,null,null,null,null,null,null,null],[null,null,null,null,12.96353443378719,null,null,null,null,null],[null,null,null,null,null,null,null,null,15.099656964064849,null],[null,null,null,null,null,null,null,null,null,null]],\"type\":\"contour\",\"xaxis\":\"x3\",\"yaxis\":\"y3\"},{\"marker\":{\"color\":\"black\",\"line\":{\"color\":\"Grey\",\"width\":0.5}},\"mode\":\"markers\",\"showlegend\":false,\"x\":[0.009,0.012,0.02,0.012,0.012,0.018,0.016,0.012,0.02,0.009,0.008,0.008,0.014,0.008,0.01,0.01,0.01,0.01,0.018,0.014,0.016,0.008,0.012,0.012,0.012,0.01,0.012,0.012,0.01,0.009,0.012,0.008,0.008,0.02,0.02,0.02,0.02,0.02,0.02,0.02,0.018,0.02,0.02,0.02,0.02,0.016,0.009,0.02,0.008,0.014],\"y\":[0.004181171855125556,0.048051916543446815,7.518693151712953,0.0011115696623222415,3.8701518903648644,0.001174078859964391,0.11179462765189561,0.008143482393630956,0.009454450785717845,1.170594080375287,9.614411585049716,7.292486618260863,0.9501035856882435,1.5914802139565878,0.2805420260407594,0.22446304261490457,0.421676060389288,0.039035759052868296,2.553341984340309,0.4035307324317401,0.08016751349416755,3.9732673980549658,9.796090374565276,3.0603147368710273,0.7456535609035468,2.418544350325745,4.843419172184714,0.22106915405824007,0.586486169176992,0.018718326166563836,2.131696513483698,9.50362677695563,5.046716569331233,8.385224845487395,9.929525341882028,5.7507039935739686,1.484787722147571,1.4324678647698283,0.19498881441192714,1.7275602718515308,0.1122085358372445,6.696577199513192,3.8023624643868366,0.0021333397373242387,3.7701027222323975,6.393293925047153,5.889921458978879,3.1278670325716296,7.684271104350172,1.0070947821407699],\"type\":\"scatter\",\"xaxis\":\"x3\",\"yaxis\":\"y3\"},{\"colorbar\":{\"title\":{\"text\":\"Objective Value\"}},\"colorscale\":[[0,\"rgb(5,10,172)\"],[0.35,\"rgb(40,60,190)\"],[0.5,\"rgb(70,100,245)\"],[0.6,\"rgb(90,120,245)\"],[0.7,\"rgb(106,137,247)\"],[1,\"rgb(220,220,220)\"]],\"connectgaps\":true,\"contours\":{\"coloring\":\"heatmap\"},\"hoverinfo\":\"none\",\"line\":{\"smoothing\":1.3},\"reversescale\":true,\"showscale\":false,\"x\":[0.0074,0.008,0.009,0.01,0.012,0.014,0.016,0.018,0.02,0.0206],\"y\":[0.000890254133892455,0.0013769818836999155,0.0014862087285557736,0.005819104649994918,0.006630558856092312,0.014965922662259346,0.022474339594011815,0.031116679654910842,0.04706673416531834,0.05871844578209169,0.07458120961926222,0.07458762684821876,0.09816477586509217,0.1335037097276087,0.15252390396551774,0.17826580667260797,0.20217631128107966,0.2558310275048836,0.3031814613120523,0.3598956527996676,0.4307113037739535,0.46476499456097414,0.4829662656609358,0.5041773619081779,0.5047713698110095,0.6292888188261382,0.6914296418463952,0.7504844199070764,0.8404188853006873,0.8413135968232328,0.8736204466588994,1.0077223222199694,1.0800390989718782,1.1087291821279748,1.2295333378179312,1.31712687361966,1.3418958159960621,1.691818737067726,1.8528649840656595,1.8589259150665831,2.201392599408144,2.405725918556444,2.491006580105017,2.9642557807439482,2.9970775075415355,3.7083214461031173,4.546046550053231,5.530841054652775,7.73347008546487,8.380526849686387,8.456930787871904,13.080580076262146],\"z\":[[null,null,null,null,null,null,null,null,null,null],[null,null,null,null,40.422642450478136,null,null,null,null,null],[null,null,null,null,null,null,null,null,13.79987435964846,null],[null,null,null,null,null,null,null,40.42264230569137,null,null],[null,null,null,null,null,null,null,null,14.52015331820405,null],[null,null,null,null,40.422642695297206,null,null,null,null,null],[null,null,null,null,null,null,40.42264302348789,null,null,null],[null,null,null,null,null,null,21.410920874542573,null,null,null],[null,null,null,null,40.422642695297206,null,null,null,null,null],[null,null,null,16.817914798118203,null,null,null,null,null,null],[null,null,40.42264275729727,null,null,null,null,null,null,null],[null,null,null,null,12.976027121452853,null,null,null,null,null],[null,40.42264593641534,null,null,null,null,null,null,null,null],[null,null,null,null,null,null,null,null,40.422642317178926,null],[null,null,null,14.127684671359312,null,null,null,null,null,null],[null,null,null,15.259825645646519,null,null,null,null,null,null],[null,null,null,null,null,40.42264401957904,null,null,null,null],[null,null,null,null,null,20.01440209954164,null,null,null,null],[null,14.165686948129277,null,null,null,null,null,null,null,null],[null,13.10472991912463,null,null,null,null,null,null,null,null],[null,null,null,null,null,null,null,null,14.586841111059032,null],[null,12.583533787101159,null,null,null,null,null,null,null,null],[null,13.023379250058735,null,null,null,null,null,null,null,null],[null,null,null,null,null,null,null,null,12.922145133564333,null],[null,null,null,null,null,null,null,null,40.422642317178926,null],[null,13.10472991912463,null,null,null,null,null,null,null,null],[null,null,null,null,null,null,null,null,40.422642317178926,null],[null,null,null,null,null,12.321307396997014,null,null,null,null],[null,null,null,null,null,null,null,null,12.526844986831874,null],[null,null,null,null,12.96353443378719,null,null,null,null,null],[null,null,null,null,null,null,null,null,15.099656964064849,null],[null,null,null,null,14.620507238825184,null,null,null,null,null],[null,null,null,null,null,null,null,null,12.601972164517836,null],[null,null,null,null,null,null,null,null,14.14360270571202,null],[null,null,null,null,13.21409404897218,null,null,null,null,null],[null,null,null,12.302439532218907,null,null,null,null,null,null],[null,null,40.422642174243244,null,null,null,null,null,null,null],[null,null,null,21.834252630837934,null,null,null,null,null,null],[null,null,null,null,null,null,null,null,21.283965766111656,null],[null,null,null,24.25861719820378,null,null,null,null,null,null],[null,null,null,null,null,null,null,null,12.601972164517836,null],[null,null,null,null,null,null,null,null,13.113863249956626,null],[null,null,null,null,null,null,14.191277498517561,null,null,null],[null,null,40.422642174243244,null,null,null,null,null,null,null],[null,null,null,null,20.534843360618716,null,null,null,null,null],[null,null,null,null,21.661089315526265,null,null,null,null,null],[null,null,15.082160679919584,null,null,null,null,null,null,null],[null,null,null,null,null,null,null,20.750737034103302,null,null],[null,null,null,null,null,null,null,14.250474947515801,null,null],[null,null,null,null,21.632795229807563,null,null,null,null,null],[null,19.176259618644973,null,null,null,null,null,null,null,null],[null,null,null,null,null,null,null,null,null,null]],\"type\":\"contour\",\"xaxis\":\"x7\",\"yaxis\":\"y7\"},{\"marker\":{\"color\":\"black\",\"line\":{\"color\":\"Grey\",\"width\":0.5}},\"mode\":\"markers\",\"showlegend\":false,\"x\":[0.009,0.012,0.02,0.012,0.012,0.018,0.016,0.012,0.02,0.009,0.008,0.008,0.014,0.008,0.01,0.01,0.01,0.01,0.018,0.014,0.016,0.008,0.012,0.012,0.012,0.01,0.012,0.012,0.01,0.009,0.012,0.008,0.008,0.02,0.02,0.02,0.02,0.02,0.02,0.02,0.018,0.02,0.02,0.02,0.02,0.016,0.009,0.02,0.008,0.014],\"y\":[2.9642557807439482,0.014965922662259346,0.6914296418463952,0.0013769818836999155,0.07458762684821876,0.005819104649994918,0.022474339594011815,8.380526849686387,0.006630558856092312,0.07458120961926222,0.4829662656609358,0.3598956527996676,0.2558310275048836,0.09816477586509217,1.31712687361966,1.8589259150665831,0.05871844578209169,1.691818737067726,7.73347008546487,0.20217631128107966,0.031116679654910842,0.6292888188261382,0.8413135968232328,1.0077223222199694,3.7083214461031173,0.17826580667260797,1.2295333378179312,2.9970775075415355,0.15252390396551774,4.546046550053231,0.04706673416531834,0.46476499456097414,0.3031814613120523,0.8404188853006873,0.8736204466588994,1.8528649840656595,0.5041773619081779,0.5047713698110095,0.1335037097276087,0.4307113037739535,5.530841054652775,1.0800390989718782,2.201392599408144,2.405725918556444,1.1087291821279748,2.491006580105017,1.3418958159960621,0.0014862087285557736,8.456930787871904,0.7504844199070764],\"type\":\"scatter\",\"xaxis\":\"x7\",\"yaxis\":\"y7\"},{\"type\":\"scatter\",\"xaxis\":\"x11\",\"yaxis\":\"y11\"},{\"colorbar\":{\"title\":{\"text\":\"Objective Value\"}},\"colorscale\":[[0,\"rgb(5,10,172)\"],[0.35,\"rgb(40,60,190)\"],[0.5,\"rgb(70,100,245)\"],[0.6,\"rgb(90,120,245)\"],[0.7,\"rgb(106,137,247)\"],[1,\"rgb(220,220,220)\"]],\"connectgaps\":true,\"contours\":{\"coloring\":\"heatmap\"},\"hoverinfo\":\"none\",\"line\":{\"smoothing\":1.3},\"reversescale\":true,\"showscale\":false,\"x\":[0.0074,0.008,0.009,0.01,0.012,0.014,0.016,0.018,0.02,0.0206],\"y\":[0.37,0.4,0.5,0.6,0.7,0.8,1.0,1.03],\"z\":[[null,null,null,null,null,null,null,null,null,null],[null,null,null,14.127684671359312,40.422642450478136,12.321307396997014,14.191277498517561,null,null,null],[null,14.165686948129277,null,null,40.422642695297206,20.01440209954164,40.42264302348789,null,21.283965766111656,null],[null,19.176259618644973,null,null,21.661089315526265,null,null,14.250474947515801,14.52015331820405,null],[null,null,40.42264275729727,21.834252630837934,20.534843360618716,null,null,null,13.79987435964846,null],[null,null,null,null,13.21409404897218,null,null,20.750737034103302,null,null],[null,null,40.422642174243244,15.259825645646519,null,null,null,null,14.14360270571202,null],[null,null,null,null,null,null,null,null,null,null]],\"type\":\"contour\",\"xaxis\":\"x15\",\"yaxis\":\"y15\"},{\"marker\":{\"color\":\"black\",\"line\":{\"color\":\"Grey\",\"width\":0.5}},\"mode\":\"markers\",\"showlegend\":false,\"x\":[0.009,0.012,0.02,0.012,0.012,0.018,0.016,0.012,0.02,0.009,0.008,0.008,0.014,0.008,0.01,0.01,0.01,0.01,0.018,0.014,0.016,0.008,0.012,0.012,0.012,0.01,0.012,0.012,0.01,0.009,0.012,0.008,0.008,0.02,0.02,0.02,0.02,0.02,0.02,0.02,0.018,0.02,0.02,0.02,0.02,0.016,0.009,0.02,0.008,0.014],\"y\":[1.0,0.5,1.0,0.4,0.5,0.8,0.5,0.8,0.6,0.7,0.5,0.5,0.5,0.5,0.4,0.4,0.4,0.7,0.6,0.4,0.4,0.5,0.5,0.5,0.6,1.0,0.8,0.7,0.4,1.0,0.5,0.5,0.5,0.5,0.5,0.5,1.0,1.0,1.0,1.0,0.8,1.0,1.0,1.0,1.0,0.4,1.0,0.7,0.6,0.4],\"type\":\"scatter\",\"xaxis\":\"x15\",\"yaxis\":\"y15\"},{\"colorbar\":{\"title\":{\"text\":\"Objective Value\"}},\"colorscale\":[[0,\"rgb(5,10,172)\"],[0.35,\"rgb(40,60,190)\"],[0.5,\"rgb(70,100,245)\"],[0.6,\"rgb(90,120,245)\"],[0.7,\"rgb(106,137,247)\"],[1,\"rgb(220,220,220)\"]],\"connectgaps\":true,\"contours\":{\"coloring\":\"heatmap\"},\"hoverinfo\":\"none\",\"line\":{\"smoothing\":1.3},\"reversescale\":true,\"showscale\":false,\"x\":[0.37,0.4,0.5,0.6,0.7,0.8,1.0,1.03],\"y\":[0.0007053214555077238,0.0011115696623222415,0.001174078859964391,0.0021333397373242387,0.004181171855125556,0.008143482393630956,0.009454450785717845,0.018718326166563836,0.039035759052868296,0.048051916543446815,0.08016751349416755,0.11179462765189561,0.1122085358372445,0.19498881441192714,0.22106915405824007,0.22446304261490457,0.2805420260407594,0.4035307324317401,0.421676060389288,0.586486169176992,0.7456535609035468,0.9501035856882435,1.0070947821407699,1.170594080375287,1.4324678647698283,1.484787722147571,1.5914802139565878,1.7275602718515308,2.131696513483698,2.418544350325745,2.553341984340309,3.0603147368710273,3.1278670325716296,3.7701027222323975,3.8023624643868366,3.8701518903648644,3.9732673980549658,4.843419172184714,5.046716569331233,5.7507039935739686,5.889921458978879,6.393293925047153,6.696577199513192,7.292486618260863,7.518693151712953,7.684271104350172,8.385224845487395,9.50362677695563,9.614411585049716,9.796090374565276,9.929525341882028,15.64869329453578],\"z\":[[null,null,null,null,null,null,null,null],[null,40.422642450478136,null,null,null,null,null,null],[null,null,null,null,null,40.42264230569137,null,null],[null,null,null,null,null,null,13.113863249956626,null],[null,null,null,null,null,null,40.422642174243244,null],[null,null,null,null,null,21.632795229807563,null,null],[null,null,null,14.52015331820405,null,null,null,null],[null,null,null,null,null,null,15.082160679919584,null],[null,null,null,null,21.834252630837934,null,null,null],[null,null,40.422642695297206,null,null,null,null,null],[null,21.410920874542573,null,null,null,null,null,null],[null,null,40.42264302348789,null,null,null,null,null],[null,null,null,null,null,20.750737034103302,null,null],[null,null,null,null,null,null,40.422642317178926,null],[null,null,null,null,20.534843360618716,null,null,null],[null,24.25861719820378,null,null,null,null,null,null],[null,12.302439532218907,null,null,null,null,null,null],[null,40.42264401957904,null,null,null,null,null,null],[null,16.817914798118203,null,null,null,null,null,null],[null,14.127684671359312,null,null,null,null,null,null],[null,null,null,21.661089315526265,null,null,null,null],[null,null,20.01440209954164,null,null,null,null,null],[null,12.321307396997014,null,null,null,null,null,null],[null,null,null,null,40.42264275729727,null,null,null],[null,null,null,null,null,null,40.422642317178926,null],[null,null,null,null,null,null,12.922145133564333,null],[null,null,40.42264593641534,null,null,null,null,null],[null,null,null,null,null,null,14.586841111059032,null],[null,null,40.422642695297206,null,null,null,null,null],[null,null,null,null,null,null,15.259825645646519,null],[null,null,null,14.250474947515801,null,null,null,null],[null,null,14.620507238825184,null,null,null,null,null],[null,null,null,null,13.79987435964846,null,null,null],[null,null,null,null,null,null,14.14360270571202,null],[null,null,null,null,null,null,12.601972164517836,null],[null,null,12.976027121452853,null,null,null,null,null],[null,null,13.10472991912463,null,null,null,null,null],[null,null,null,null,null,13.21409404897218,null,null],[null,null,14.165686948129277,null,null,null,null,null],[null,null,21.283965766111656,null,null,null,null,null],[null,null,null,null,null,null,40.422642174243244,null],[null,14.191277498517561,null,null,null,null,null,null],[null,null,null,null,null,null,12.601972164517836,null],[null,null,13.10472991912463,null,null,null,null,null],[null,null,null,null,null,null,40.422642317178926,null],[null,null,null,19.176259618644973,null,null,null,null],[null,null,12.526844986831874,null,null,null,null,null],[null,null,12.583533787101159,null,null,null,null,null],[null,null,13.023379250058735,null,null,null,null,null],[null,null,12.96353443378719,null,null,null,null,null],[null,null,15.099656964064849,null,null,null,null,null],[null,null,null,null,null,null,null,null]],\"type\":\"contour\",\"xaxis\":\"x4\",\"yaxis\":\"y4\"},{\"marker\":{\"color\":\"black\",\"line\":{\"color\":\"Grey\",\"width\":0.5}},\"mode\":\"markers\",\"showlegend\":false,\"x\":[1.0,0.5,1.0,0.4,0.5,0.8,0.5,0.8,0.6,0.7,0.5,0.5,0.5,0.5,0.4,0.4,0.4,0.7,0.6,0.4,0.4,0.5,0.5,0.5,0.6,1.0,0.8,0.7,0.4,1.0,0.5,0.5,0.5,0.5,0.5,0.5,1.0,1.0,1.0,1.0,0.8,1.0,1.0,1.0,1.0,0.4,1.0,0.7,0.6,0.4],\"y\":[0.004181171855125556,0.048051916543446815,7.518693151712953,0.0011115696623222415,3.8701518903648644,0.001174078859964391,0.11179462765189561,0.008143482393630956,0.009454450785717845,1.170594080375287,9.614411585049716,7.292486618260863,0.9501035856882435,1.5914802139565878,0.2805420260407594,0.22446304261490457,0.421676060389288,0.039035759052868296,2.553341984340309,0.4035307324317401,0.08016751349416755,3.9732673980549658,9.796090374565276,3.0603147368710273,0.7456535609035468,2.418544350325745,4.843419172184714,0.22106915405824007,0.586486169176992,0.018718326166563836,2.131696513483698,9.50362677695563,5.046716569331233,8.385224845487395,9.929525341882028,5.7507039935739686,1.484787722147571,1.4324678647698283,0.19498881441192714,1.7275602718515308,0.1122085358372445,6.696577199513192,3.8023624643868366,0.0021333397373242387,3.7701027222323975,6.393293925047153,5.889921458978879,3.1278670325716296,7.684271104350172,1.0070947821407699],\"type\":\"scatter\",\"xaxis\":\"x4\",\"yaxis\":\"y4\"},{\"colorbar\":{\"title\":{\"text\":\"Objective Value\"}},\"colorscale\":[[0,\"rgb(5,10,172)\"],[0.35,\"rgb(40,60,190)\"],[0.5,\"rgb(70,100,245)\"],[0.6,\"rgb(90,120,245)\"],[0.7,\"rgb(106,137,247)\"],[1,\"rgb(220,220,220)\"]],\"connectgaps\":true,\"contours\":{\"coloring\":\"heatmap\"},\"hoverinfo\":\"none\",\"line\":{\"smoothing\":1.3},\"reversescale\":true,\"showscale\":false,\"x\":[0.37,0.4,0.5,0.6,0.7,0.8,1.0,1.03],\"y\":[0.000890254133892455,0.0013769818836999155,0.0014862087285557736,0.005819104649994918,0.006630558856092312,0.014965922662259346,0.022474339594011815,0.031116679654910842,0.04706673416531834,0.05871844578209169,0.07458120961926222,0.07458762684821876,0.09816477586509217,0.1335037097276087,0.15252390396551774,0.17826580667260797,0.20217631128107966,0.2558310275048836,0.3031814613120523,0.3598956527996676,0.4307113037739535,0.46476499456097414,0.4829662656609358,0.5041773619081779,0.5047713698110095,0.6292888188261382,0.6914296418463952,0.7504844199070764,0.8404188853006873,0.8413135968232328,0.8736204466588994,1.0077223222199694,1.0800390989718782,1.1087291821279748,1.2295333378179312,1.31712687361966,1.3418958159960621,1.691818737067726,1.8528649840656595,1.8589259150665831,2.201392599408144,2.405725918556444,2.491006580105017,2.9642557807439482,2.9970775075415355,3.7083214461031173,4.546046550053231,5.530841054652775,7.73347008546487,8.380526849686387,8.456930787871904,13.080580076262146],\"z\":[[null,null,null,null,null,null,null,null],[null,40.422642450478136,null,null,null,null,null,null],[null,null,null,null,13.79987435964846,null,null,null],[null,null,null,null,null,40.42264230569137,null,null],[null,null,null,14.52015331820405,null,null,null,null],[null,null,40.422642695297206,null,null,null,null,null],[null,null,40.42264302348789,null,null,null,null,null],[null,21.410920874542573,null,null,null,null,null,null],[null,null,40.422642695297206,null,null,null,null,null],[null,16.817914798118203,null,null,null,null,null,null],[null,null,null,null,40.42264275729727,null,null,null],[null,null,12.976027121452853,null,null,null,null,null],[null,null,40.42264593641534,null,null,null,null,null],[null,null,null,null,null,null,40.422642317178926,null],[null,14.127684671359312,null,null,null,null,null,null],[null,null,null,null,null,null,15.259825645646519,null],[null,40.42264401957904,null,null,null,null,null,null],[null,null,20.01440209954164,null,null,null,null,null],[null,null,14.165686948129277,null,null,null,null,null],[null,null,13.10472991912463,null,null,null,null,null],[null,null,null,null,null,null,14.586841111059032,null],[null,null,12.583533787101159,null,null,null,null,null],[null,null,13.023379250058735,null,null,null,null,null],[null,null,null,null,null,null,12.922145133564333,null],[null,null,null,null,null,null,40.422642317178926,null],[null,null,13.10472991912463,null,null,null,null,null],[null,null,null,null,null,null,40.422642317178926,null],[null,12.321307396997014,null,null,null,null,null,null],[null,null,12.526844986831874,null,null,null,null,null],[null,null,12.96353443378719,null,null,null,null,null],[null,null,15.099656964064849,null,null,null,null,null],[null,null,14.620507238825184,null,null,null,null,null],[null,null,null,null,null,null,12.601972164517836,null],[null,null,null,null,null,null,14.14360270571202,null],[null,null,null,null,null,13.21409404897218,null,null],[null,12.302439532218907,null,null,null,null,null,null],[null,null,null,null,null,null,40.422642174243244,null],[null,null,null,null,21.834252630837934,null,null,null],[null,null,21.283965766111656,null,null,null,null,null],[null,24.25861719820378,null,null,null,null,null,null],[null,null,null,null,null,null,12.601972164517836,null],[null,null,null,null,null,null,13.113863249956626,null],[null,14.191277498517561,null,null,null,null,null,null],[null,null,null,null,null,null,40.422642174243244,null],[null,null,null,null,20.534843360618716,null,null,null],[null,null,null,21.661089315526265,null,null,null,null],[null,null,null,null,null,null,15.082160679919584,null],[null,null,null,null,null,20.750737034103302,null,null],[null,null,null,14.250474947515801,null,null,null,null],[null,null,null,null,null,21.632795229807563,null,null],[null,null,null,19.176259618644973,null,null,null,null],[null,null,null,null,null,null,null,null]],\"type\":\"contour\",\"xaxis\":\"x8\",\"yaxis\":\"y8\"},{\"marker\":{\"color\":\"black\",\"line\":{\"color\":\"Grey\",\"width\":0.5}},\"mode\":\"markers\",\"showlegend\":false,\"x\":[1.0,0.5,1.0,0.4,0.5,0.8,0.5,0.8,0.6,0.7,0.5,0.5,0.5,0.5,0.4,0.4,0.4,0.7,0.6,0.4,0.4,0.5,0.5,0.5,0.6,1.0,0.8,0.7,0.4,1.0,0.5,0.5,0.5,0.5,0.5,0.5,1.0,1.0,1.0,1.0,0.8,1.0,1.0,1.0,1.0,0.4,1.0,0.7,0.6,0.4],\"y\":[2.9642557807439482,0.014965922662259346,0.6914296418463952,0.0013769818836999155,0.07458762684821876,0.005819104649994918,0.022474339594011815,8.380526849686387,0.006630558856092312,0.07458120961926222,0.4829662656609358,0.3598956527996676,0.2558310275048836,0.09816477586509217,1.31712687361966,1.8589259150665831,0.05871844578209169,1.691818737067726,7.73347008546487,0.20217631128107966,0.031116679654910842,0.6292888188261382,0.8413135968232328,1.0077223222199694,3.7083214461031173,0.17826580667260797,1.2295333378179312,2.9970775075415355,0.15252390396551774,4.546046550053231,0.04706673416531834,0.46476499456097414,0.3031814613120523,0.8404188853006873,0.8736204466588994,1.8528649840656595,0.5041773619081779,0.5047713698110095,0.1335037097276087,0.4307113037739535,5.530841054652775,1.0800390989718782,2.201392599408144,2.405725918556444,1.1087291821279748,2.491006580105017,1.3418958159960621,0.0014862087285557736,8.456930787871904,0.7504844199070764],\"type\":\"scatter\",\"xaxis\":\"x8\",\"yaxis\":\"y8\"},{\"colorbar\":{\"title\":{\"text\":\"Objective Value\"}},\"colorscale\":[[0,\"rgb(5,10,172)\"],[0.35,\"rgb(40,60,190)\"],[0.5,\"rgb(70,100,245)\"],[0.6,\"rgb(90,120,245)\"],[0.7,\"rgb(106,137,247)\"],[1,\"rgb(220,220,220)\"]],\"connectgaps\":true,\"contours\":{\"coloring\":\"heatmap\"},\"hoverinfo\":\"none\",\"line\":{\"smoothing\":1.3},\"reversescale\":true,\"showscale\":false,\"x\":[0.37,0.4,0.5,0.6,0.7,0.8,1.0,1.03],\"y\":[0.0074,0.008,0.009,0.01,0.012,0.014,0.016,0.018,0.02,0.0206],\"z\":[[null,null,null,null,null,null,null,null],[null,null,14.165686948129277,19.176259618644973,null,null,null,null],[null,null,null,null,40.42264275729727,null,40.422642174243244,null],[null,14.127684671359312,null,null,21.834252630837934,null,15.259825645646519,null],[null,40.422642450478136,40.422642695297206,21.661089315526265,20.534843360618716,13.21409404897218,null,null],[null,12.321307396997014,20.01440209954164,null,null,null,null,null],[null,14.191277498517561,40.42264302348789,null,null,null,null,null],[null,null,null,14.250474947515801,null,20.750737034103302,null,null],[null,null,21.283965766111656,14.52015331820405,13.79987435964846,null,14.14360270571202,null],[null,null,null,null,null,null,null,null]],\"type\":\"contour\",\"xaxis\":\"x12\",\"yaxis\":\"y12\"},{\"marker\":{\"color\":\"black\",\"line\":{\"color\":\"Grey\",\"width\":0.5}},\"mode\":\"markers\",\"showlegend\":false,\"x\":[1.0,0.5,1.0,0.4,0.5,0.8,0.5,0.8,0.6,0.7,0.5,0.5,0.5,0.5,0.4,0.4,0.4,0.7,0.6,0.4,0.4,0.5,0.5,0.5,0.6,1.0,0.8,0.7,0.4,1.0,0.5,0.5,0.5,0.5,0.5,0.5,1.0,1.0,1.0,1.0,0.8,1.0,1.0,1.0,1.0,0.4,1.0,0.7,0.6,0.4],\"y\":[0.009,0.012,0.02,0.012,0.012,0.018,0.016,0.012,0.02,0.009,0.008,0.008,0.014,0.008,0.01,0.01,0.01,0.01,0.018,0.014,0.016,0.008,0.012,0.012,0.012,0.01,0.012,0.012,0.01,0.009,0.012,0.008,0.008,0.02,0.02,0.02,0.02,0.02,0.02,0.02,0.018,0.02,0.02,0.02,0.02,0.016,0.009,0.02,0.008,0.014],\"type\":\"scatter\",\"xaxis\":\"x12\",\"yaxis\":\"y12\"},{\"type\":\"scatter\",\"xaxis\":\"x16\",\"yaxis\":\"y16\"}],                        {\"template\":{\"data\":{\"bar\":[{\"error_x\":{\"color\":\"#2a3f5f\"},\"error_y\":{\"color\":\"#2a3f5f\"},\"marker\":{\"line\":{\"color\":\"#E5ECF6\",\"width\":0.5},\"pattern\":{\"fillmode\":\"overlay\",\"size\":10,\"solidity\":0.2}},\"type\":\"bar\"}],\"barpolar\":[{\"marker\":{\"line\":{\"color\":\"#E5ECF6\",\"width\":0.5},\"pattern\":{\"fillmode\":\"overlay\",\"size\":10,\"solidity\":0.2}},\"type\":\"barpolar\"}],\"carpet\":[{\"aaxis\":{\"endlinecolor\":\"#2a3f5f\",\"gridcolor\":\"white\",\"linecolor\":\"white\",\"minorgridcolor\":\"white\",\"startlinecolor\":\"#2a3f5f\"},\"baxis\":{\"endlinecolor\":\"#2a3f5f\",\"gridcolor\":\"white\",\"linecolor\":\"white\",\"minorgridcolor\":\"white\",\"startlinecolor\":\"#2a3f5f\"},\"type\":\"carpet\"}],\"choropleth\":[{\"colorbar\":{\"outlinewidth\":0,\"ticks\":\"\"},\"type\":\"choropleth\"}],\"contour\":[{\"colorbar\":{\"outlinewidth\":0,\"ticks\":\"\"},\"colorscale\":[[0.0,\"#0d0887\"],[0.1111111111111111,\"#46039f\"],[0.2222222222222222,\"#7201a8\"],[0.3333333333333333,\"#9c179e\"],[0.4444444444444444,\"#bd3786\"],[0.5555555555555556,\"#d8576b\"],[0.6666666666666666,\"#ed7953\"],[0.7777777777777778,\"#fb9f3a\"],[0.8888888888888888,\"#fdca26\"],[1.0,\"#f0f921\"]],\"type\":\"contour\"}],\"contourcarpet\":[{\"colorbar\":{\"outlinewidth\":0,\"ticks\":\"\"},\"type\":\"contourcarpet\"}],\"heatmap\":[{\"colorbar\":{\"outlinewidth\":0,\"ticks\":\"\"},\"colorscale\":[[0.0,\"#0d0887\"],[0.1111111111111111,\"#46039f\"],[0.2222222222222222,\"#7201a8\"],[0.3333333333333333,\"#9c179e\"],[0.4444444444444444,\"#bd3786\"],[0.5555555555555556,\"#d8576b\"],[0.6666666666666666,\"#ed7953\"],[0.7777777777777778,\"#fb9f3a\"],[0.8888888888888888,\"#fdca26\"],[1.0,\"#f0f921\"]],\"type\":\"heatmap\"}],\"heatmapgl\":[{\"colorbar\":{\"outlinewidth\":0,\"ticks\":\"\"},\"colorscale\":[[0.0,\"#0d0887\"],[0.1111111111111111,\"#46039f\"],[0.2222222222222222,\"#7201a8\"],[0.3333333333333333,\"#9c179e\"],[0.4444444444444444,\"#bd3786\"],[0.5555555555555556,\"#d8576b\"],[0.6666666666666666,\"#ed7953\"],[0.7777777777777778,\"#fb9f3a\"],[0.8888888888888888,\"#fdca26\"],[1.0,\"#f0f921\"]],\"type\":\"heatmapgl\"}],\"histogram\":[{\"marker\":{\"pattern\":{\"fillmode\":\"overlay\",\"size\":10,\"solidity\":0.2}},\"type\":\"histogram\"}],\"histogram2d\":[{\"colorbar\":{\"outlinewidth\":0,\"ticks\":\"\"},\"colorscale\":[[0.0,\"#0d0887\"],[0.1111111111111111,\"#46039f\"],[0.2222222222222222,\"#7201a8\"],[0.3333333333333333,\"#9c179e\"],[0.4444444444444444,\"#bd3786\"],[0.5555555555555556,\"#d8576b\"],[0.6666666666666666,\"#ed7953\"],[0.7777777777777778,\"#fb9f3a\"],[0.8888888888888888,\"#fdca26\"],[1.0,\"#f0f921\"]],\"type\":\"histogram2d\"}],\"histogram2dcontour\":[{\"colorbar\":{\"outlinewidth\":0,\"ticks\":\"\"},\"colorscale\":[[0.0,\"#0d0887\"],[0.1111111111111111,\"#46039f\"],[0.2222222222222222,\"#7201a8\"],[0.3333333333333333,\"#9c179e\"],[0.4444444444444444,\"#bd3786\"],[0.5555555555555556,\"#d8576b\"],[0.6666666666666666,\"#ed7953\"],[0.7777777777777778,\"#fb9f3a\"],[0.8888888888888888,\"#fdca26\"],[1.0,\"#f0f921\"]],\"type\":\"histogram2dcontour\"}],\"mesh3d\":[{\"colorbar\":{\"outlinewidth\":0,\"ticks\":\"\"},\"type\":\"mesh3d\"}],\"parcoords\":[{\"line\":{\"colorbar\":{\"outlinewidth\":0,\"ticks\":\"\"}},\"type\":\"parcoords\"}],\"pie\":[{\"automargin\":true,\"type\":\"pie\"}],\"scatter\":[{\"marker\":{\"colorbar\":{\"outlinewidth\":0,\"ticks\":\"\"}},\"type\":\"scatter\"}],\"scatter3d\":[{\"line\":{\"colorbar\":{\"outlinewidth\":0,\"ticks\":\"\"}},\"marker\":{\"colorbar\":{\"outlinewidth\":0,\"ticks\":\"\"}},\"type\":\"scatter3d\"}],\"scattercarpet\":[{\"marker\":{\"colorbar\":{\"outlinewidth\":0,\"ticks\":\"\"}},\"type\":\"scattercarpet\"}],\"scattergeo\":[{\"marker\":{\"colorbar\":{\"outlinewidth\":0,\"ticks\":\"\"}},\"type\":\"scattergeo\"}],\"scattergl\":[{\"marker\":{\"colorbar\":{\"outlinewidth\":0,\"ticks\":\"\"}},\"type\":\"scattergl\"}],\"scattermapbox\":[{\"marker\":{\"colorbar\":{\"outlinewidth\":0,\"ticks\":\"\"}},\"type\":\"scattermapbox\"}],\"scatterpolar\":[{\"marker\":{\"colorbar\":{\"outlinewidth\":0,\"ticks\":\"\"}},\"type\":\"scatterpolar\"}],\"scatterpolargl\":[{\"marker\":{\"colorbar\":{\"outlinewidth\":0,\"ticks\":\"\"}},\"type\":\"scatterpolargl\"}],\"scatterternary\":[{\"marker\":{\"colorbar\":{\"outlinewidth\":0,\"ticks\":\"\"}},\"type\":\"scatterternary\"}],\"surface\":[{\"colorbar\":{\"outlinewidth\":0,\"ticks\":\"\"},\"colorscale\":[[0.0,\"#0d0887\"],[0.1111111111111111,\"#46039f\"],[0.2222222222222222,\"#7201a8\"],[0.3333333333333333,\"#9c179e\"],[0.4444444444444444,\"#bd3786\"],[0.5555555555555556,\"#d8576b\"],[0.6666666666666666,\"#ed7953\"],[0.7777777777777778,\"#fb9f3a\"],[0.8888888888888888,\"#fdca26\"],[1.0,\"#f0f921\"]],\"type\":\"surface\"}],\"table\":[{\"cells\":{\"fill\":{\"color\":\"#EBF0F8\"},\"line\":{\"color\":\"white\"}},\"header\":{\"fill\":{\"color\":\"#C8D4E3\"},\"line\":{\"color\":\"white\"}},\"type\":\"table\"}]},\"layout\":{\"annotationdefaults\":{\"arrowcolor\":\"#2a3f5f\",\"arrowhead\":0,\"arrowwidth\":1},\"autotypenumbers\":\"strict\",\"coloraxis\":{\"colorbar\":{\"outlinewidth\":0,\"ticks\":\"\"}},\"colorscale\":{\"diverging\":[[0,\"#8e0152\"],[0.1,\"#c51b7d\"],[0.2,\"#de77ae\"],[0.3,\"#f1b6da\"],[0.4,\"#fde0ef\"],[0.5,\"#f7f7f7\"],[0.6,\"#e6f5d0\"],[0.7,\"#b8e186\"],[0.8,\"#7fbc41\"],[0.9,\"#4d9221\"],[1,\"#276419\"]],\"sequential\":[[0.0,\"#0d0887\"],[0.1111111111111111,\"#46039f\"],[0.2222222222222222,\"#7201a8\"],[0.3333333333333333,\"#9c179e\"],[0.4444444444444444,\"#bd3786\"],[0.5555555555555556,\"#d8576b\"],[0.6666666666666666,\"#ed7953\"],[0.7777777777777778,\"#fb9f3a\"],[0.8888888888888888,\"#fdca26\"],[1.0,\"#f0f921\"]],\"sequentialminus\":[[0.0,\"#0d0887\"],[0.1111111111111111,\"#46039f\"],[0.2222222222222222,\"#7201a8\"],[0.3333333333333333,\"#9c179e\"],[0.4444444444444444,\"#bd3786\"],[0.5555555555555556,\"#d8576b\"],[0.6666666666666666,\"#ed7953\"],[0.7777777777777778,\"#fb9f3a\"],[0.8888888888888888,\"#fdca26\"],[1.0,\"#f0f921\"]]},\"colorway\":[\"#636efa\",\"#EF553B\",\"#00cc96\",\"#ab63fa\",\"#FFA15A\",\"#19d3f3\",\"#FF6692\",\"#B6E880\",\"#FF97FF\",\"#FECB52\"],\"font\":{\"color\":\"#2a3f5f\"},\"geo\":{\"bgcolor\":\"white\",\"lakecolor\":\"white\",\"landcolor\":\"#E5ECF6\",\"showlakes\":true,\"showland\":true,\"subunitcolor\":\"white\"},\"hoverlabel\":{\"align\":\"left\"},\"hovermode\":\"closest\",\"mapbox\":{\"style\":\"light\"},\"paper_bgcolor\":\"white\",\"plot_bgcolor\":\"#E5ECF6\",\"polar\":{\"angularaxis\":{\"gridcolor\":\"white\",\"linecolor\":\"white\",\"ticks\":\"\"},\"bgcolor\":\"#E5ECF6\",\"radialaxis\":{\"gridcolor\":\"white\",\"linecolor\":\"white\",\"ticks\":\"\"}},\"scene\":{\"xaxis\":{\"backgroundcolor\":\"#E5ECF6\",\"gridcolor\":\"white\",\"gridwidth\":2,\"linecolor\":\"white\",\"showbackground\":true,\"ticks\":\"\",\"zerolinecolor\":\"white\"},\"yaxis\":{\"backgroundcolor\":\"#E5ECF6\",\"gridcolor\":\"white\",\"gridwidth\":2,\"linecolor\":\"white\",\"showbackground\":true,\"ticks\":\"\",\"zerolinecolor\":\"white\"},\"zaxis\":{\"backgroundcolor\":\"#E5ECF6\",\"gridcolor\":\"white\",\"gridwidth\":2,\"linecolor\":\"white\",\"showbackground\":true,\"ticks\":\"\",\"zerolinecolor\":\"white\"}},\"shapedefaults\":{\"line\":{\"color\":\"#2a3f5f\"}},\"ternary\":{\"aaxis\":{\"gridcolor\":\"white\",\"linecolor\":\"white\",\"ticks\":\"\"},\"baxis\":{\"gridcolor\":\"white\",\"linecolor\":\"white\",\"ticks\":\"\"},\"bgcolor\":\"#E5ECF6\",\"caxis\":{\"gridcolor\":\"white\",\"linecolor\":\"white\",\"ticks\":\"\"}},\"title\":{\"x\":0.05},\"xaxis\":{\"automargin\":true,\"gridcolor\":\"white\",\"linecolor\":\"white\",\"ticks\":\"\",\"title\":{\"standoff\":15},\"zerolinecolor\":\"white\",\"zerolinewidth\":2},\"yaxis\":{\"automargin\":true,\"gridcolor\":\"white\",\"linecolor\":\"white\",\"ticks\":\"\",\"title\":{\"standoff\":15},\"zerolinecolor\":\"white\",\"zerolinewidth\":2}}},\"xaxis\":{\"anchor\":\"y\",\"domain\":[0.0,0.2125],\"matches\":\"x13\",\"showticklabels\":false,\"range\":[-3.151612904944729,1.1944780787089493],\"type\":\"log\"},\"yaxis\":{\"anchor\":\"x\",\"domain\":[0.80625,1.0],\"range\":[-3.151612904944729,1.1944780787089493],\"type\":\"log\",\"title\":{\"text\":\"alpha\"}},\"xaxis2\":{\"anchor\":\"y2\",\"domain\":[0.2625,0.475],\"matches\":\"x14\",\"showticklabels\":false,\"range\":[-3.050486001003876,1.116627003799693],\"type\":\"log\"},\"yaxis2\":{\"anchor\":\"x2\",\"domain\":[0.80625,1.0],\"matches\":\"y\",\"showticklabels\":false,\"range\":[-3.151612904944729,1.1944780787089493],\"type\":\"log\"},\"xaxis3\":{\"anchor\":\"y3\",\"domain\":[0.525,0.7375],\"matches\":\"x15\",\"showticklabels\":false,\"range\":[0.0074,0.0206]},\"yaxis3\":{\"anchor\":\"x3\",\"domain\":[0.80625,1.0],\"matches\":\"y\",\"showticklabels\":false,\"range\":[-3.151612904944729,1.1944780787089493],\"type\":\"log\"},\"xaxis4\":{\"anchor\":\"y4\",\"domain\":[0.7875,1.0],\"matches\":\"x16\",\"showticklabels\":false,\"range\":[0.37,1.03]},\"yaxis4\":{\"anchor\":\"x4\",\"domain\":[0.80625,1.0],\"matches\":\"y\",\"showticklabels\":false,\"range\":[-3.151612904944729,1.1944780787089493],\"type\":\"log\"},\"xaxis5\":{\"anchor\":\"y5\",\"domain\":[0.0,0.2125],\"matches\":\"x13\",\"showticklabels\":false,\"range\":[-3.151612904944729,1.1944780787089493],\"type\":\"log\"},\"yaxis5\":{\"anchor\":\"x5\",\"domain\":[0.5375,0.73125],\"range\":[-3.050486001003876,1.116627003799693],\"type\":\"log\",\"title\":{\"text\":\"lambda\"}},\"xaxis6\":{\"anchor\":\"y6\",\"domain\":[0.2625,0.475],\"matches\":\"x14\",\"showticklabels\":false,\"range\":[-3.050486001003876,1.116627003799693],\"type\":\"log\"},\"yaxis6\":{\"anchor\":\"x6\",\"domain\":[0.5375,0.73125],\"matches\":\"y5\",\"showticklabels\":false,\"range\":[-3.050486001003876,1.116627003799693],\"type\":\"log\"},\"xaxis7\":{\"anchor\":\"y7\",\"domain\":[0.525,0.7375],\"matches\":\"x15\",\"showticklabels\":false,\"range\":[0.0074,0.0206]},\"yaxis7\":{\"anchor\":\"x7\",\"domain\":[0.5375,0.73125],\"matches\":\"y5\",\"showticklabels\":false,\"range\":[-3.050486001003876,1.116627003799693],\"type\":\"log\"},\"xaxis8\":{\"anchor\":\"y8\",\"domain\":[0.7875,1.0],\"matches\":\"x16\",\"showticklabels\":false,\"range\":[0.37,1.03]},\"yaxis8\":{\"anchor\":\"x8\",\"domain\":[0.5375,0.73125],\"matches\":\"y5\",\"showticklabels\":false,\"range\":[-3.050486001003876,1.116627003799693],\"type\":\"log\"},\"xaxis9\":{\"anchor\":\"y9\",\"domain\":[0.0,0.2125],\"matches\":\"x13\",\"showticklabels\":false,\"range\":[-3.151612904944729,1.1944780787089493],\"type\":\"log\"},\"yaxis9\":{\"anchor\":\"x9\",\"domain\":[0.26875,0.4625],\"range\":[0.0074,0.0206],\"title\":{\"text\":\"learning_rate\"}},\"xaxis10\":{\"anchor\":\"y10\",\"domain\":[0.2625,0.475],\"matches\":\"x14\",\"showticklabels\":false,\"range\":[-3.050486001003876,1.116627003799693],\"type\":\"log\"},\"yaxis10\":{\"anchor\":\"x10\",\"domain\":[0.26875,0.4625],\"matches\":\"y9\",\"showticklabels\":false,\"range\":[0.0074,0.0206]},\"xaxis11\":{\"anchor\":\"y11\",\"domain\":[0.525,0.7375],\"matches\":\"x15\",\"showticklabels\":false,\"range\":[0.0074,0.0206]},\"yaxis11\":{\"anchor\":\"x11\",\"domain\":[0.26875,0.4625],\"matches\":\"y9\",\"showticklabels\":false,\"range\":[0.0074,0.0206]},\"xaxis12\":{\"anchor\":\"y12\",\"domain\":[0.7875,1.0],\"matches\":\"x16\",\"showticklabels\":false,\"range\":[0.37,1.03]},\"yaxis12\":{\"anchor\":\"x12\",\"domain\":[0.26875,0.4625],\"matches\":\"y9\",\"showticklabels\":false,\"range\":[0.0074,0.0206]},\"xaxis13\":{\"anchor\":\"y13\",\"domain\":[0.0,0.2125],\"range\":[-3.151612904944729,1.1944780787089493],\"type\":\"log\",\"title\":{\"text\":\"alpha\"}},\"yaxis13\":{\"anchor\":\"x13\",\"domain\":[0.0,0.19375],\"range\":[0.37,1.03],\"title\":{\"text\":\"subsample\"}},\"xaxis14\":{\"anchor\":\"y14\",\"domain\":[0.2625,0.475],\"range\":[-3.050486001003876,1.116627003799693],\"type\":\"log\",\"title\":{\"text\":\"lambda\"}},\"yaxis14\":{\"anchor\":\"x14\",\"domain\":[0.0,0.19375],\"matches\":\"y13\",\"showticklabels\":false,\"range\":[0.37,1.03]},\"xaxis15\":{\"anchor\":\"y15\",\"domain\":[0.525,0.7375],\"range\":[0.0074,0.0206],\"title\":{\"text\":\"learning_rate\"}},\"yaxis15\":{\"anchor\":\"x15\",\"domain\":[0.0,0.19375],\"matches\":\"y13\",\"showticklabels\":false,\"range\":[0.37,1.03]},\"xaxis16\":{\"anchor\":\"y16\",\"domain\":[0.7875,1.0],\"range\":[0.37,1.03],\"title\":{\"text\":\"subsample\"}},\"yaxis16\":{\"anchor\":\"x16\",\"domain\":[0.0,0.19375],\"matches\":\"y13\",\"showticklabels\":false,\"range\":[0.37,1.03]},\"title\":{\"text\":\"Contour Plot\"}},                        {\"responsive\": true}                    ).then(function(){\n",
              "                            \n",
              "var gd = document.getElementById('eca7185c-ccaa-4eab-b0a7-cb7afbd34e4a');\n",
              "var x = new MutationObserver(function (mutations, observer) {{\n",
              "        var display = window.getComputedStyle(gd).display;\n",
              "        if (!display || display === 'none') {{\n",
              "            console.log([gd, 'removed!']);\n",
              "            Plotly.purge(gd);\n",
              "            observer.disconnect();\n",
              "        }}\n",
              "}});\n",
              "\n",
              "// Listen for the removal of the full notebook cells\n",
              "var notebookContainer = gd.closest('#notebook-container');\n",
              "if (notebookContainer) {{\n",
              "    x.observe(notebookContainer, {childList: true});\n",
              "}}\n",
              "\n",
              "// Listen for the clearing of the current output cell\n",
              "var outputEl = gd.closest('.output');\n",
              "if (outputEl) {{\n",
              "    x.observe(outputEl, {childList: true});\n",
              "}}\n",
              "\n",
              "                        })                };                            </script>        </div>\n",
              "</body>\n",
              "</html>"
            ]
          },
          "metadata": {}
        }
      ]
    },
    {
      "cell_type": "code",
      "source": [
        "optuna.visualization.plot_param_importances(study)"
      ],
      "metadata": {
        "colab": {
          "base_uri": "https://localhost:8080/",
          "height": 542
        },
        "id": "rfwwUidQiCT5",
        "outputId": "463348f2-cbb0-4535-bdb6-59cf98d091a8"
      },
      "execution_count": 69,
      "outputs": [
        {
          "output_type": "display_data",
          "data": {
            "text/html": [
              "<html>\n",
              "<head><meta charset=\"utf-8\" /></head>\n",
              "<body>\n",
              "    <div>            <script src=\"https://cdnjs.cloudflare.com/ajax/libs/mathjax/2.7.5/MathJax.js?config=TeX-AMS-MML_SVG\"></script><script type=\"text/javascript\">if (window.MathJax) {MathJax.Hub.Config({SVG: {font: \"STIX-Web\"}});}</script>                <script type=\"text/javascript\">window.PlotlyConfig = {MathJaxConfig: 'local'};</script>\n",
              "        <script src=\"https://cdn.plot.ly/plotly-2.8.3.min.js\"></script>                <div id=\"28531887-9be1-448c-b855-d38f65cb3cf2\" class=\"plotly-graph-div\" style=\"height:525px; width:100%;\"></div>            <script type=\"text/javascript\">                                    window.PLOTLYENV=window.PLOTLYENV || {};                                    if (document.getElementById(\"28531887-9be1-448c-b855-d38f65cb3cf2\")) {                    Plotly.newPlot(                        \"28531887-9be1-448c-b855-d38f65cb3cf2\",                        [{\"cliponaxis\":false,\"hovertemplate\":[\"alpha (LogUniformDistribution): 6.356664069795695e-05<extra></extra>\",\"colsample_bytree (CategoricalDistribution): 0.00021182223692377378<extra></extra>\",\"learning_rate (CategoricalDistribution): 0.00021468344530276243<extra></extra>\",\"subsample (CategoricalDistribution): 0.0004365048376885554<extra></extra>\",\"max_depth (CategoricalDistribution): 0.012959992831356897<extra></extra>\",\"random_state (CategoricalDistribution): 0.013062829780111388<extra></extra>\",\"lambda (LogUniformDistribution): 0.11527811849907094<extra></extra>\",\"min_child_weight (IntUniformDistribution): 0.8577724817288478<extra></extra>\"],\"marker\":{\"color\":\"rgb(66,146,198)\"},\"orientation\":\"h\",\"text\":[\"6.356664069795695e-05\",\"0.00021182223692377378\",\"0.00021468344530276243\",\"0.0004365048376885554\",\"0.012959992831356897\",\"0.013062829780111388\",\"0.11527811849907094\",\"0.8577724817288478\"],\"textposition\":\"outside\",\"texttemplate\":\"%{text:.2f}\",\"x\":[6.356664069795695e-05,0.00021182223692377378,0.00021468344530276243,0.0004365048376885554,0.012959992831356897,0.013062829780111388,0.11527811849907094,0.8577724817288478],\"y\":[\"alpha\",\"colsample_bytree\",\"learning_rate\",\"subsample\",\"max_depth\",\"random_state\",\"lambda\",\"min_child_weight\"],\"type\":\"bar\"}],                        {\"showlegend\":false,\"title\":{\"text\":\"Hyperparameter Importances\"},\"xaxis\":{\"title\":{\"text\":\"Importance for Objective Value\"}},\"yaxis\":{\"title\":{\"text\":\"Hyperparameter\"}},\"template\":{\"data\":{\"bar\":[{\"error_x\":{\"color\":\"#2a3f5f\"},\"error_y\":{\"color\":\"#2a3f5f\"},\"marker\":{\"line\":{\"color\":\"#E5ECF6\",\"width\":0.5},\"pattern\":{\"fillmode\":\"overlay\",\"size\":10,\"solidity\":0.2}},\"type\":\"bar\"}],\"barpolar\":[{\"marker\":{\"line\":{\"color\":\"#E5ECF6\",\"width\":0.5},\"pattern\":{\"fillmode\":\"overlay\",\"size\":10,\"solidity\":0.2}},\"type\":\"barpolar\"}],\"carpet\":[{\"aaxis\":{\"endlinecolor\":\"#2a3f5f\",\"gridcolor\":\"white\",\"linecolor\":\"white\",\"minorgridcolor\":\"white\",\"startlinecolor\":\"#2a3f5f\"},\"baxis\":{\"endlinecolor\":\"#2a3f5f\",\"gridcolor\":\"white\",\"linecolor\":\"white\",\"minorgridcolor\":\"white\",\"startlinecolor\":\"#2a3f5f\"},\"type\":\"carpet\"}],\"choropleth\":[{\"colorbar\":{\"outlinewidth\":0,\"ticks\":\"\"},\"type\":\"choropleth\"}],\"contour\":[{\"colorbar\":{\"outlinewidth\":0,\"ticks\":\"\"},\"colorscale\":[[0.0,\"#0d0887\"],[0.1111111111111111,\"#46039f\"],[0.2222222222222222,\"#7201a8\"],[0.3333333333333333,\"#9c179e\"],[0.4444444444444444,\"#bd3786\"],[0.5555555555555556,\"#d8576b\"],[0.6666666666666666,\"#ed7953\"],[0.7777777777777778,\"#fb9f3a\"],[0.8888888888888888,\"#fdca26\"],[1.0,\"#f0f921\"]],\"type\":\"contour\"}],\"contourcarpet\":[{\"colorbar\":{\"outlinewidth\":0,\"ticks\":\"\"},\"type\":\"contourcarpet\"}],\"heatmap\":[{\"colorbar\":{\"outlinewidth\":0,\"ticks\":\"\"},\"colorscale\":[[0.0,\"#0d0887\"],[0.1111111111111111,\"#46039f\"],[0.2222222222222222,\"#7201a8\"],[0.3333333333333333,\"#9c179e\"],[0.4444444444444444,\"#bd3786\"],[0.5555555555555556,\"#d8576b\"],[0.6666666666666666,\"#ed7953\"],[0.7777777777777778,\"#fb9f3a\"],[0.8888888888888888,\"#fdca26\"],[1.0,\"#f0f921\"]],\"type\":\"heatmap\"}],\"heatmapgl\":[{\"colorbar\":{\"outlinewidth\":0,\"ticks\":\"\"},\"colorscale\":[[0.0,\"#0d0887\"],[0.1111111111111111,\"#46039f\"],[0.2222222222222222,\"#7201a8\"],[0.3333333333333333,\"#9c179e\"],[0.4444444444444444,\"#bd3786\"],[0.5555555555555556,\"#d8576b\"],[0.6666666666666666,\"#ed7953\"],[0.7777777777777778,\"#fb9f3a\"],[0.8888888888888888,\"#fdca26\"],[1.0,\"#f0f921\"]],\"type\":\"heatmapgl\"}],\"histogram\":[{\"marker\":{\"pattern\":{\"fillmode\":\"overlay\",\"size\":10,\"solidity\":0.2}},\"type\":\"histogram\"}],\"histogram2d\":[{\"colorbar\":{\"outlinewidth\":0,\"ticks\":\"\"},\"colorscale\":[[0.0,\"#0d0887\"],[0.1111111111111111,\"#46039f\"],[0.2222222222222222,\"#7201a8\"],[0.3333333333333333,\"#9c179e\"],[0.4444444444444444,\"#bd3786\"],[0.5555555555555556,\"#d8576b\"],[0.6666666666666666,\"#ed7953\"],[0.7777777777777778,\"#fb9f3a\"],[0.8888888888888888,\"#fdca26\"],[1.0,\"#f0f921\"]],\"type\":\"histogram2d\"}],\"histogram2dcontour\":[{\"colorbar\":{\"outlinewidth\":0,\"ticks\":\"\"},\"colorscale\":[[0.0,\"#0d0887\"],[0.1111111111111111,\"#46039f\"],[0.2222222222222222,\"#7201a8\"],[0.3333333333333333,\"#9c179e\"],[0.4444444444444444,\"#bd3786\"],[0.5555555555555556,\"#d8576b\"],[0.6666666666666666,\"#ed7953\"],[0.7777777777777778,\"#fb9f3a\"],[0.8888888888888888,\"#fdca26\"],[1.0,\"#f0f921\"]],\"type\":\"histogram2dcontour\"}],\"mesh3d\":[{\"colorbar\":{\"outlinewidth\":0,\"ticks\":\"\"},\"type\":\"mesh3d\"}],\"parcoords\":[{\"line\":{\"colorbar\":{\"outlinewidth\":0,\"ticks\":\"\"}},\"type\":\"parcoords\"}],\"pie\":[{\"automargin\":true,\"type\":\"pie\"}],\"scatter\":[{\"marker\":{\"colorbar\":{\"outlinewidth\":0,\"ticks\":\"\"}},\"type\":\"scatter\"}],\"scatter3d\":[{\"line\":{\"colorbar\":{\"outlinewidth\":0,\"ticks\":\"\"}},\"marker\":{\"colorbar\":{\"outlinewidth\":0,\"ticks\":\"\"}},\"type\":\"scatter3d\"}],\"scattercarpet\":[{\"marker\":{\"colorbar\":{\"outlinewidth\":0,\"ticks\":\"\"}},\"type\":\"scattercarpet\"}],\"scattergeo\":[{\"marker\":{\"colorbar\":{\"outlinewidth\":0,\"ticks\":\"\"}},\"type\":\"scattergeo\"}],\"scattergl\":[{\"marker\":{\"colorbar\":{\"outlinewidth\":0,\"ticks\":\"\"}},\"type\":\"scattergl\"}],\"scattermapbox\":[{\"marker\":{\"colorbar\":{\"outlinewidth\":0,\"ticks\":\"\"}},\"type\":\"scattermapbox\"}],\"scatterpolar\":[{\"marker\":{\"colorbar\":{\"outlinewidth\":0,\"ticks\":\"\"}},\"type\":\"scatterpolar\"}],\"scatterpolargl\":[{\"marker\":{\"colorbar\":{\"outlinewidth\":0,\"ticks\":\"\"}},\"type\":\"scatterpolargl\"}],\"scatterternary\":[{\"marker\":{\"colorbar\":{\"outlinewidth\":0,\"ticks\":\"\"}},\"type\":\"scatterternary\"}],\"surface\":[{\"colorbar\":{\"outlinewidth\":0,\"ticks\":\"\"},\"colorscale\":[[0.0,\"#0d0887\"],[0.1111111111111111,\"#46039f\"],[0.2222222222222222,\"#7201a8\"],[0.3333333333333333,\"#9c179e\"],[0.4444444444444444,\"#bd3786\"],[0.5555555555555556,\"#d8576b\"],[0.6666666666666666,\"#ed7953\"],[0.7777777777777778,\"#fb9f3a\"],[0.8888888888888888,\"#fdca26\"],[1.0,\"#f0f921\"]],\"type\":\"surface\"}],\"table\":[{\"cells\":{\"fill\":{\"color\":\"#EBF0F8\"},\"line\":{\"color\":\"white\"}},\"header\":{\"fill\":{\"color\":\"#C8D4E3\"},\"line\":{\"color\":\"white\"}},\"type\":\"table\"}]},\"layout\":{\"annotationdefaults\":{\"arrowcolor\":\"#2a3f5f\",\"arrowhead\":0,\"arrowwidth\":1},\"autotypenumbers\":\"strict\",\"coloraxis\":{\"colorbar\":{\"outlinewidth\":0,\"ticks\":\"\"}},\"colorscale\":{\"diverging\":[[0,\"#8e0152\"],[0.1,\"#c51b7d\"],[0.2,\"#de77ae\"],[0.3,\"#f1b6da\"],[0.4,\"#fde0ef\"],[0.5,\"#f7f7f7\"],[0.6,\"#e6f5d0\"],[0.7,\"#b8e186\"],[0.8,\"#7fbc41\"],[0.9,\"#4d9221\"],[1,\"#276419\"]],\"sequential\":[[0.0,\"#0d0887\"],[0.1111111111111111,\"#46039f\"],[0.2222222222222222,\"#7201a8\"],[0.3333333333333333,\"#9c179e\"],[0.4444444444444444,\"#bd3786\"],[0.5555555555555556,\"#d8576b\"],[0.6666666666666666,\"#ed7953\"],[0.7777777777777778,\"#fb9f3a\"],[0.8888888888888888,\"#fdca26\"],[1.0,\"#f0f921\"]],\"sequentialminus\":[[0.0,\"#0d0887\"],[0.1111111111111111,\"#46039f\"],[0.2222222222222222,\"#7201a8\"],[0.3333333333333333,\"#9c179e\"],[0.4444444444444444,\"#bd3786\"],[0.5555555555555556,\"#d8576b\"],[0.6666666666666666,\"#ed7953\"],[0.7777777777777778,\"#fb9f3a\"],[0.8888888888888888,\"#fdca26\"],[1.0,\"#f0f921\"]]},\"colorway\":[\"#636efa\",\"#EF553B\",\"#00cc96\",\"#ab63fa\",\"#FFA15A\",\"#19d3f3\",\"#FF6692\",\"#B6E880\",\"#FF97FF\",\"#FECB52\"],\"font\":{\"color\":\"#2a3f5f\"},\"geo\":{\"bgcolor\":\"white\",\"lakecolor\":\"white\",\"landcolor\":\"#E5ECF6\",\"showlakes\":true,\"showland\":true,\"subunitcolor\":\"white\"},\"hoverlabel\":{\"align\":\"left\"},\"hovermode\":\"closest\",\"mapbox\":{\"style\":\"light\"},\"paper_bgcolor\":\"white\",\"plot_bgcolor\":\"#E5ECF6\",\"polar\":{\"angularaxis\":{\"gridcolor\":\"white\",\"linecolor\":\"white\",\"ticks\":\"\"},\"bgcolor\":\"#E5ECF6\",\"radialaxis\":{\"gridcolor\":\"white\",\"linecolor\":\"white\",\"ticks\":\"\"}},\"scene\":{\"xaxis\":{\"backgroundcolor\":\"#E5ECF6\",\"gridcolor\":\"white\",\"gridwidth\":2,\"linecolor\":\"white\",\"showbackground\":true,\"ticks\":\"\",\"zerolinecolor\":\"white\"},\"yaxis\":{\"backgroundcolor\":\"#E5ECF6\",\"gridcolor\":\"white\",\"gridwidth\":2,\"linecolor\":\"white\",\"showbackground\":true,\"ticks\":\"\",\"zerolinecolor\":\"white\"},\"zaxis\":{\"backgroundcolor\":\"#E5ECF6\",\"gridcolor\":\"white\",\"gridwidth\":2,\"linecolor\":\"white\",\"showbackground\":true,\"ticks\":\"\",\"zerolinecolor\":\"white\"}},\"shapedefaults\":{\"line\":{\"color\":\"#2a3f5f\"}},\"ternary\":{\"aaxis\":{\"gridcolor\":\"white\",\"linecolor\":\"white\",\"ticks\":\"\"},\"baxis\":{\"gridcolor\":\"white\",\"linecolor\":\"white\",\"ticks\":\"\"},\"bgcolor\":\"#E5ECF6\",\"caxis\":{\"gridcolor\":\"white\",\"linecolor\":\"white\",\"ticks\":\"\"}},\"title\":{\"x\":0.05},\"xaxis\":{\"automargin\":true,\"gridcolor\":\"white\",\"linecolor\":\"white\",\"ticks\":\"\",\"title\":{\"standoff\":15},\"zerolinecolor\":\"white\",\"zerolinewidth\":2},\"yaxis\":{\"automargin\":true,\"gridcolor\":\"white\",\"linecolor\":\"white\",\"ticks\":\"\",\"title\":{\"standoff\":15},\"zerolinecolor\":\"white\",\"zerolinewidth\":2}}}},                        {\"responsive\": true}                    ).then(function(){\n",
              "                            \n",
              "var gd = document.getElementById('28531887-9be1-448c-b855-d38f65cb3cf2');\n",
              "var x = new MutationObserver(function (mutations, observer) {{\n",
              "        var display = window.getComputedStyle(gd).display;\n",
              "        if (!display || display === 'none') {{\n",
              "            console.log([gd, 'removed!']);\n",
              "            Plotly.purge(gd);\n",
              "            observer.disconnect();\n",
              "        }}\n",
              "}});\n",
              "\n",
              "// Listen for the removal of the full notebook cells\n",
              "var notebookContainer = gd.closest('#notebook-container');\n",
              "if (notebookContainer) {{\n",
              "    x.observe(notebookContainer, {childList: true});\n",
              "}}\n",
              "\n",
              "// Listen for the clearing of the current output cell\n",
              "var outputEl = gd.closest('.output');\n",
              "if (outputEl) {{\n",
              "    x.observe(outputEl, {childList: true});\n",
              "}}\n",
              "\n",
              "                        })                };                            </script>        </div>\n",
              "</body>\n",
              "</html>"
            ]
          },
          "metadata": {}
        }
      ]
    },
    {
      "cell_type": "code",
      "source": [
        "optuna.visualization.plot_edf(study)"
      ],
      "metadata": {
        "colab": {
          "base_uri": "https://localhost:8080/",
          "height": 542
        },
        "id": "4J8dDawfiG6a",
        "outputId": "ce3b7f10-75da-4f90-f8ab-be1625e17880"
      },
      "execution_count": 70,
      "outputs": [
        {
          "output_type": "display_data",
          "data": {
            "text/html": [
              "<html>\n",
              "<head><meta charset=\"utf-8\" /></head>\n",
              "<body>\n",
              "    <div>            <script src=\"https://cdnjs.cloudflare.com/ajax/libs/mathjax/2.7.5/MathJax.js?config=TeX-AMS-MML_SVG\"></script><script type=\"text/javascript\">if (window.MathJax) {MathJax.Hub.Config({SVG: {font: \"STIX-Web\"}});}</script>                <script type=\"text/javascript\">window.PlotlyConfig = {MathJaxConfig: 'local'};</script>\n",
              "        <script src=\"https://cdn.plot.ly/plotly-2.8.3.min.js\"></script>                <div id=\"55213d47-8ed1-410e-ac5e-2e13943f81cc\" class=\"plotly-graph-div\" style=\"height:525px; width:100%;\"></div>            <script type=\"text/javascript\">                                    window.PLOTLYENV=window.PLOTLYENV || {};                                    if (document.getElementById(\"55213d47-8ed1-410e-ac5e-2e13943f81cc\")) {                    Plotly.newPlot(                        \"55213d47-8ed1-410e-ac5e-2e13943f81cc\",                        [{\"mode\":\"lines\",\"name\":\"no-name-0e8f36df-7f41-4fc9-96db-69d172c5b2de\",\"x\":[12.302439532218907,12.586482021150184,12.870524510081461,13.154566999012738,13.438609487944015,13.722651976875293,14.00669446580657,14.290736954737847,14.574779443669124,14.858821932600401,15.142864421531678,15.426906910462955,15.710949399394233,15.99499188832551,16.279034377256785,16.563076866188062,16.84711935511934,17.131161844050617,17.415204332981894,17.69924682191317,17.983289310844448,18.267331799775725,18.551374288707002,18.83541677763828,19.119459266569557,19.403501755500834,19.68754424443211,19.971586733363388,20.255629222294665,20.539671711225942,20.82371420015722,21.107756689088497,21.391799178019774,21.67584166695105,21.959884155882328,22.243926644813605,22.527969133744882,22.81201162267616,23.096054111607437,23.380096600538714,23.66413908946999,23.948181578401268,24.232224067332545,24.516266556263822,24.8003090451951,25.084351534126377,25.368394023057654,25.65243651198893,25.936479000920208,26.220521489851485,26.504563978782762,26.78860646771404,27.072648956645317,27.356691445576594,27.64073393450787,27.92477642343915,28.208818912370425,28.492861401301703,28.77690389023298,29.060946379164257,29.344988868095534,29.62903135702681,29.91307384595809,30.197116334889365,30.481158823820643,30.76520131275192,31.049243801683197,31.333286290614474,31.61732877954575,31.90137126847703,32.185413757408305,32.46945624633958,32.75349873527086,33.03754122420214,33.321583713133414,33.60562620206469,33.88966869099597,34.173711179927245,34.45775366885852,34.7417961577898,35.02583864672108,35.309881135652354,35.59392362458363,35.87796611351491,36.162008602446186,36.44605109137746,36.73009358030874,37.01413606924002,37.298178558171294,37.58222104710257,37.86626353603385,38.150306024965126,38.4343485138964,38.71839100282768,39.00243349175896,39.286475980690234,39.57051846962151,39.85456095855279,40.138603447484066,40.42264593641534],\"y\":[0.02,0.08,0.12,0.26,0.28,0.28,0.3,0.4,0.42,0.46,0.5,0.52,0.52,0.52,0.52,0.52,0.54,0.54,0.54,0.54,0.54,0.54,0.54,0.54,0.54,0.56,0.56,0.56,0.58,0.6,0.62,0.62,0.64,0.7,0.72,0.72,0.72,0.72,0.72,0.72,0.72,0.72,0.72,0.74,0.74,0.74,0.74,0.74,0.74,0.74,0.74,0.74,0.74,0.74,0.74,0.74,0.74,0.74,0.74,0.74,0.74,0.74,0.74,0.74,0.74,0.74,0.74,0.74,0.74,0.74,0.74,0.74,0.74,0.74,0.74,0.74,0.74,0.74,0.74,0.74,0.74,0.74,0.74,0.74,0.74,0.74,0.74,0.74,0.74,0.74,0.74,0.74,0.74,0.74,0.74,0.74,0.74,0.74,0.74,1.0],\"type\":\"scatter\"}],                        {\"title\":{\"text\":\"Empirical Distribution Function Plot\"},\"xaxis\":{\"title\":{\"text\":\"Objective Value\"}},\"yaxis\":{\"title\":{\"text\":\"Cumulative Probability\"},\"range\":[0,1]},\"template\":{\"data\":{\"bar\":[{\"error_x\":{\"color\":\"#2a3f5f\"},\"error_y\":{\"color\":\"#2a3f5f\"},\"marker\":{\"line\":{\"color\":\"#E5ECF6\",\"width\":0.5},\"pattern\":{\"fillmode\":\"overlay\",\"size\":10,\"solidity\":0.2}},\"type\":\"bar\"}],\"barpolar\":[{\"marker\":{\"line\":{\"color\":\"#E5ECF6\",\"width\":0.5},\"pattern\":{\"fillmode\":\"overlay\",\"size\":10,\"solidity\":0.2}},\"type\":\"barpolar\"}],\"carpet\":[{\"aaxis\":{\"endlinecolor\":\"#2a3f5f\",\"gridcolor\":\"white\",\"linecolor\":\"white\",\"minorgridcolor\":\"white\",\"startlinecolor\":\"#2a3f5f\"},\"baxis\":{\"endlinecolor\":\"#2a3f5f\",\"gridcolor\":\"white\",\"linecolor\":\"white\",\"minorgridcolor\":\"white\",\"startlinecolor\":\"#2a3f5f\"},\"type\":\"carpet\"}],\"choropleth\":[{\"colorbar\":{\"outlinewidth\":0,\"ticks\":\"\"},\"type\":\"choropleth\"}],\"contour\":[{\"colorbar\":{\"outlinewidth\":0,\"ticks\":\"\"},\"colorscale\":[[0.0,\"#0d0887\"],[0.1111111111111111,\"#46039f\"],[0.2222222222222222,\"#7201a8\"],[0.3333333333333333,\"#9c179e\"],[0.4444444444444444,\"#bd3786\"],[0.5555555555555556,\"#d8576b\"],[0.6666666666666666,\"#ed7953\"],[0.7777777777777778,\"#fb9f3a\"],[0.8888888888888888,\"#fdca26\"],[1.0,\"#f0f921\"]],\"type\":\"contour\"}],\"contourcarpet\":[{\"colorbar\":{\"outlinewidth\":0,\"ticks\":\"\"},\"type\":\"contourcarpet\"}],\"heatmap\":[{\"colorbar\":{\"outlinewidth\":0,\"ticks\":\"\"},\"colorscale\":[[0.0,\"#0d0887\"],[0.1111111111111111,\"#46039f\"],[0.2222222222222222,\"#7201a8\"],[0.3333333333333333,\"#9c179e\"],[0.4444444444444444,\"#bd3786\"],[0.5555555555555556,\"#d8576b\"],[0.6666666666666666,\"#ed7953\"],[0.7777777777777778,\"#fb9f3a\"],[0.8888888888888888,\"#fdca26\"],[1.0,\"#f0f921\"]],\"type\":\"heatmap\"}],\"heatmapgl\":[{\"colorbar\":{\"outlinewidth\":0,\"ticks\":\"\"},\"colorscale\":[[0.0,\"#0d0887\"],[0.1111111111111111,\"#46039f\"],[0.2222222222222222,\"#7201a8\"],[0.3333333333333333,\"#9c179e\"],[0.4444444444444444,\"#bd3786\"],[0.5555555555555556,\"#d8576b\"],[0.6666666666666666,\"#ed7953\"],[0.7777777777777778,\"#fb9f3a\"],[0.8888888888888888,\"#fdca26\"],[1.0,\"#f0f921\"]],\"type\":\"heatmapgl\"}],\"histogram\":[{\"marker\":{\"pattern\":{\"fillmode\":\"overlay\",\"size\":10,\"solidity\":0.2}},\"type\":\"histogram\"}],\"histogram2d\":[{\"colorbar\":{\"outlinewidth\":0,\"ticks\":\"\"},\"colorscale\":[[0.0,\"#0d0887\"],[0.1111111111111111,\"#46039f\"],[0.2222222222222222,\"#7201a8\"],[0.3333333333333333,\"#9c179e\"],[0.4444444444444444,\"#bd3786\"],[0.5555555555555556,\"#d8576b\"],[0.6666666666666666,\"#ed7953\"],[0.7777777777777778,\"#fb9f3a\"],[0.8888888888888888,\"#fdca26\"],[1.0,\"#f0f921\"]],\"type\":\"histogram2d\"}],\"histogram2dcontour\":[{\"colorbar\":{\"outlinewidth\":0,\"ticks\":\"\"},\"colorscale\":[[0.0,\"#0d0887\"],[0.1111111111111111,\"#46039f\"],[0.2222222222222222,\"#7201a8\"],[0.3333333333333333,\"#9c179e\"],[0.4444444444444444,\"#bd3786\"],[0.5555555555555556,\"#d8576b\"],[0.6666666666666666,\"#ed7953\"],[0.7777777777777778,\"#fb9f3a\"],[0.8888888888888888,\"#fdca26\"],[1.0,\"#f0f921\"]],\"type\":\"histogram2dcontour\"}],\"mesh3d\":[{\"colorbar\":{\"outlinewidth\":0,\"ticks\":\"\"},\"type\":\"mesh3d\"}],\"parcoords\":[{\"line\":{\"colorbar\":{\"outlinewidth\":0,\"ticks\":\"\"}},\"type\":\"parcoords\"}],\"pie\":[{\"automargin\":true,\"type\":\"pie\"}],\"scatter\":[{\"marker\":{\"colorbar\":{\"outlinewidth\":0,\"ticks\":\"\"}},\"type\":\"scatter\"}],\"scatter3d\":[{\"line\":{\"colorbar\":{\"outlinewidth\":0,\"ticks\":\"\"}},\"marker\":{\"colorbar\":{\"outlinewidth\":0,\"ticks\":\"\"}},\"type\":\"scatter3d\"}],\"scattercarpet\":[{\"marker\":{\"colorbar\":{\"outlinewidth\":0,\"ticks\":\"\"}},\"type\":\"scattercarpet\"}],\"scattergeo\":[{\"marker\":{\"colorbar\":{\"outlinewidth\":0,\"ticks\":\"\"}},\"type\":\"scattergeo\"}],\"scattergl\":[{\"marker\":{\"colorbar\":{\"outlinewidth\":0,\"ticks\":\"\"}},\"type\":\"scattergl\"}],\"scattermapbox\":[{\"marker\":{\"colorbar\":{\"outlinewidth\":0,\"ticks\":\"\"}},\"type\":\"scattermapbox\"}],\"scatterpolar\":[{\"marker\":{\"colorbar\":{\"outlinewidth\":0,\"ticks\":\"\"}},\"type\":\"scatterpolar\"}],\"scatterpolargl\":[{\"marker\":{\"colorbar\":{\"outlinewidth\":0,\"ticks\":\"\"}},\"type\":\"scatterpolargl\"}],\"scatterternary\":[{\"marker\":{\"colorbar\":{\"outlinewidth\":0,\"ticks\":\"\"}},\"type\":\"scatterternary\"}],\"surface\":[{\"colorbar\":{\"outlinewidth\":0,\"ticks\":\"\"},\"colorscale\":[[0.0,\"#0d0887\"],[0.1111111111111111,\"#46039f\"],[0.2222222222222222,\"#7201a8\"],[0.3333333333333333,\"#9c179e\"],[0.4444444444444444,\"#bd3786\"],[0.5555555555555556,\"#d8576b\"],[0.6666666666666666,\"#ed7953\"],[0.7777777777777778,\"#fb9f3a\"],[0.8888888888888888,\"#fdca26\"],[1.0,\"#f0f921\"]],\"type\":\"surface\"}],\"table\":[{\"cells\":{\"fill\":{\"color\":\"#EBF0F8\"},\"line\":{\"color\":\"white\"}},\"header\":{\"fill\":{\"color\":\"#C8D4E3\"},\"line\":{\"color\":\"white\"}},\"type\":\"table\"}]},\"layout\":{\"annotationdefaults\":{\"arrowcolor\":\"#2a3f5f\",\"arrowhead\":0,\"arrowwidth\":1},\"autotypenumbers\":\"strict\",\"coloraxis\":{\"colorbar\":{\"outlinewidth\":0,\"ticks\":\"\"}},\"colorscale\":{\"diverging\":[[0,\"#8e0152\"],[0.1,\"#c51b7d\"],[0.2,\"#de77ae\"],[0.3,\"#f1b6da\"],[0.4,\"#fde0ef\"],[0.5,\"#f7f7f7\"],[0.6,\"#e6f5d0\"],[0.7,\"#b8e186\"],[0.8,\"#7fbc41\"],[0.9,\"#4d9221\"],[1,\"#276419\"]],\"sequential\":[[0.0,\"#0d0887\"],[0.1111111111111111,\"#46039f\"],[0.2222222222222222,\"#7201a8\"],[0.3333333333333333,\"#9c179e\"],[0.4444444444444444,\"#bd3786\"],[0.5555555555555556,\"#d8576b\"],[0.6666666666666666,\"#ed7953\"],[0.7777777777777778,\"#fb9f3a\"],[0.8888888888888888,\"#fdca26\"],[1.0,\"#f0f921\"]],\"sequentialminus\":[[0.0,\"#0d0887\"],[0.1111111111111111,\"#46039f\"],[0.2222222222222222,\"#7201a8\"],[0.3333333333333333,\"#9c179e\"],[0.4444444444444444,\"#bd3786\"],[0.5555555555555556,\"#d8576b\"],[0.6666666666666666,\"#ed7953\"],[0.7777777777777778,\"#fb9f3a\"],[0.8888888888888888,\"#fdca26\"],[1.0,\"#f0f921\"]]},\"colorway\":[\"#636efa\",\"#EF553B\",\"#00cc96\",\"#ab63fa\",\"#FFA15A\",\"#19d3f3\",\"#FF6692\",\"#B6E880\",\"#FF97FF\",\"#FECB52\"],\"font\":{\"color\":\"#2a3f5f\"},\"geo\":{\"bgcolor\":\"white\",\"lakecolor\":\"white\",\"landcolor\":\"#E5ECF6\",\"showlakes\":true,\"showland\":true,\"subunitcolor\":\"white\"},\"hoverlabel\":{\"align\":\"left\"},\"hovermode\":\"closest\",\"mapbox\":{\"style\":\"light\"},\"paper_bgcolor\":\"white\",\"plot_bgcolor\":\"#E5ECF6\",\"polar\":{\"angularaxis\":{\"gridcolor\":\"white\",\"linecolor\":\"white\",\"ticks\":\"\"},\"bgcolor\":\"#E5ECF6\",\"radialaxis\":{\"gridcolor\":\"white\",\"linecolor\":\"white\",\"ticks\":\"\"}},\"scene\":{\"xaxis\":{\"backgroundcolor\":\"#E5ECF6\",\"gridcolor\":\"white\",\"gridwidth\":2,\"linecolor\":\"white\",\"showbackground\":true,\"ticks\":\"\",\"zerolinecolor\":\"white\"},\"yaxis\":{\"backgroundcolor\":\"#E5ECF6\",\"gridcolor\":\"white\",\"gridwidth\":2,\"linecolor\":\"white\",\"showbackground\":true,\"ticks\":\"\",\"zerolinecolor\":\"white\"},\"zaxis\":{\"backgroundcolor\":\"#E5ECF6\",\"gridcolor\":\"white\",\"gridwidth\":2,\"linecolor\":\"white\",\"showbackground\":true,\"ticks\":\"\",\"zerolinecolor\":\"white\"}},\"shapedefaults\":{\"line\":{\"color\":\"#2a3f5f\"}},\"ternary\":{\"aaxis\":{\"gridcolor\":\"white\",\"linecolor\":\"white\",\"ticks\":\"\"},\"baxis\":{\"gridcolor\":\"white\",\"linecolor\":\"white\",\"ticks\":\"\"},\"bgcolor\":\"#E5ECF6\",\"caxis\":{\"gridcolor\":\"white\",\"linecolor\":\"white\",\"ticks\":\"\"}},\"title\":{\"x\":0.05},\"xaxis\":{\"automargin\":true,\"gridcolor\":\"white\",\"linecolor\":\"white\",\"ticks\":\"\",\"title\":{\"standoff\":15},\"zerolinecolor\":\"white\",\"zerolinewidth\":2},\"yaxis\":{\"automargin\":true,\"gridcolor\":\"white\",\"linecolor\":\"white\",\"ticks\":\"\",\"title\":{\"standoff\":15},\"zerolinecolor\":\"white\",\"zerolinewidth\":2}}}},                        {\"responsive\": true}                    ).then(function(){\n",
              "                            \n",
              "var gd = document.getElementById('55213d47-8ed1-410e-ac5e-2e13943f81cc');\n",
              "var x = new MutationObserver(function (mutations, observer) {{\n",
              "        var display = window.getComputedStyle(gd).display;\n",
              "        if (!display || display === 'none') {{\n",
              "            console.log([gd, 'removed!']);\n",
              "            Plotly.purge(gd);\n",
              "            observer.disconnect();\n",
              "        }}\n",
              "}});\n",
              "\n",
              "// Listen for the removal of the full notebook cells\n",
              "var notebookContainer = gd.closest('#notebook-container');\n",
              "if (notebookContainer) {{\n",
              "    x.observe(notebookContainer, {childList: true});\n",
              "}}\n",
              "\n",
              "// Listen for the clearing of the current output cell\n",
              "var outputEl = gd.closest('.output');\n",
              "if (outputEl) {{\n",
              "    x.observe(outputEl, {childList: true});\n",
              "}}\n",
              "\n",
              "                        })                };                            </script>        </div>\n",
              "</body>\n",
              "</html>"
            ]
          },
          "metadata": {}
        }
      ]
    },
    {
      "cell_type": "code",
      "source": [
        "best_params = study.best_trial.params\n",
        "print(best_params)"
      ],
      "metadata": {
        "colab": {
          "base_uri": "https://localhost:8080/"
        },
        "id": "_ttlh5yaiUpk",
        "outputId": "14fad7c2-48e8-4221-f677-6b71193e371d"
      },
      "execution_count": 74,
      "outputs": [
        {
          "output_type": "stream",
          "name": "stdout",
          "text": [
            "{'lambda': 1.31712687361966, 'alpha': 0.2805420260407594, 'colsample_bytree': 0.8, 'subsample': 0.4, 'learning_rate': 0.01, 'max_depth': 5, 'random_state': 24, 'min_child_weight': 2}\n"
          ]
        }
      ]
    },
    {
      "cell_type": "code",
      "source": [
        "reg = xgb.XGBRegressor(**best_params)"
      ],
      "metadata": {
        "id": "AOdZc-MlexCE"
      },
      "execution_count": 79,
      "outputs": []
    },
    {
      "cell_type": "code",
      "source": [
        "reg.fit(X_train, y_train)"
      ],
      "metadata": {
        "colab": {
          "base_uri": "https://localhost:8080/"
        },
        "outputId": "e93ecba1-7a15-487a-f11f-c14efdd4bebe",
        "id": "6fBx5R6hWc04"
      },
      "execution_count": 80,
      "outputs": [
        {
          "output_type": "stream",
          "name": "stdout",
          "text": [
            "[19:41:07] WARNING: /workspace/src/objective/regression_obj.cu:152: reg:linear is now deprecated in favor of reg:squarederror.\n"
          ]
        },
        {
          "output_type": "execute_result",
          "data": {
            "text/plain": [
              "XGBRegressor(alpha=0.2805420260407594, colsample_bytree=0.8,\n",
              "             lambda=1.31712687361966, learning_rate=0.01, max_depth=5,\n",
              "             min_child_weight=2, random_state=24, subsample=0.4)"
            ]
          },
          "metadata": {},
          "execution_count": 80
        }
      ]
    },
    {
      "cell_type": "code",
      "source": [
        "y_test_pred = reg.predict(X_test)"
      ],
      "metadata": {
        "id": "wwmPsgtjWc05"
      },
      "execution_count": 81,
      "outputs": []
    },
    {
      "cell_type": "code",
      "source": [
        "import matplotlib.pyplot as plt\n",
        "\n",
        "plt.scatter(y_test, y_test_pred)"
      ],
      "metadata": {
        "colab": {
          "base_uri": "https://localhost:8080/",
          "height": 283
        },
        "outputId": "22b2e16a-aa55-4083-fe5d-2c289fe74704",
        "id": "jdqU0vN3Wc05"
      },
      "execution_count": 82,
      "outputs": [
        {
          "output_type": "execute_result",
          "data": {
            "text/plain": [
              "<matplotlib.collections.PathCollection at 0x7f6096ae76d0>"
            ]
          },
          "metadata": {},
          "execution_count": 82
        },
        {
          "output_type": "display_data",
          "data": {
            "text/plain": [
              "<Figure size 432x288 with 1 Axes>"
            ],
            "image/png": "[encoded data removed]"
          },
          "metadata": {
            "needs_background": "light"
          }
        }
      ]
    },
    {
      "cell_type": "code",
      "source": [
        "from sklearn.metrics import mean_absolute_error\n",
        "\n",
        "mean_absolute_error(y_test, y_test_pred)"
      ],
      "metadata": {
        "colab": {
          "base_uri": "https://localhost:8080/"
        },
        "outputId": "32988fc6-4d7b-439e-f498-d15ead50e093",
        "id": "Zq3DXYF5Wc05"
      },
      "execution_count": 83,
      "outputs": [
        {
          "output_type": "execute_result",
          "data": {
            "text/plain": [
              "42.42405467987061"
            ]
          },
          "metadata": {},
          "execution_count": 83
        }
      ]
    },
    {
      "cell_type": "code",
      "source": [
        "pd.DataFrame({\"y_test\": y_test, \"y_test_pred\": y_test_pred})"
      ],
      "metadata": {
        "colab": {
          "base_uri": "https://localhost:8080/",
          "height": 423
        },
        "outputId": "9f79b396-288a-45c5-cd84-8c329967174d",
        "id": "D-tNGEV-Wc05"
      },
      "execution_count": 84,
      "outputs": [
        {
          "output_type": "execute_result",
          "data": {
            "text/plain": [
              "     y_test  y_test_pred\n",
              "65    153.0    98.131355\n",
              "132    75.0    55.508068\n",
              "74    140.0    92.805038\n",
              "78     87.0    52.996475\n",
              "37    100.0    61.757965\n",
              "..      ...          ...\n",
              "286   129.0    91.409889\n",
              "263   165.0    65.402809\n",
              "146    75.0    50.531208\n",
              "259    85.0    58.406883\n",
              "63    175.0   102.823372\n",
              "\n",
              "[100 rows x 2 columns]"
            ],
            "text/html": [
              "\n",
              "  <div id=\"df-9cfa452d-6abd-422e-9265-57b7ac78d867\">\n",
              "    <div class=\"colab-df-container\">\n",
              "      <div>\n",
              "<style scoped>\n",
              "    .dataframe tbody tr th:only-of-type {\n",
              "        vertical-align: middle;\n",
              "    }\n",
              "\n",
              "    .dataframe tbody tr th {\n",
              "        vertical-align: top;\n",
              "    }\n",
              "\n",
              "    .dataframe thead th {\n",
              "        text-align: right;\n",
              "    }\n",
              "</style>\n",
              "<table border=\"1\" class=\"dataframe\">\n",
              "  <thead>\n",
              "    <tr style=\"text-align: right;\">\n",
              "      <th></th>\n",
              "      <th>y_test</th>\n",
              "      <th>y_test_pred</th>\n",
              "    </tr>\n",
              "  </thead>\n",
              "  <tbody>\n",
              "    <tr>\n",
              "      <th>65</th>\n",
              "      <td>153.0</td>\n",
              "      <td>98.131355</td>\n",
              "    </tr>\n",
              "    <tr>\n",
              "      <th>132</th>\n",
              "      <td>75.0</td>\n",
              "      <td>55.508068</td>\n",
              "    </tr>\n",
              "    <tr>\n",
              "      <th>74</th>\n",
              "      <td>140.0</td>\n",
              "      <td>92.805038</td>\n",
              "    </tr>\n",
              "    <tr>\n",
              "      <th>78</th>\n",
              "      <td>87.0</td>\n",
              "      <td>52.996475</td>\n",
              "    </tr>\n",
              "    <tr>\n",
              "      <th>37</th>\n",
              "      <td>100.0</td>\n",
              "      <td>61.757965</td>\n",
              "    </tr>\n",
              "    <tr>\n",
              "      <th>...</th>\n",
              "      <td>...</td>\n",
              "      <td>...</td>\n",
              "    </tr>\n",
              "    <tr>\n",
              "      <th>286</th>\n",
              "      <td>129.0</td>\n",
              "      <td>91.409889</td>\n",
              "    </tr>\n",
              "    <tr>\n",
              "      <th>263</th>\n",
              "      <td>165.0</td>\n",
              "      <td>65.402809</td>\n",
              "    </tr>\n",
              "    <tr>\n",
              "      <th>146</th>\n",
              "      <td>75.0</td>\n",
              "      <td>50.531208</td>\n",
              "    </tr>\n",
              "    <tr>\n",
              "      <th>259</th>\n",
              "      <td>85.0</td>\n",
              "      <td>58.406883</td>\n",
              "    </tr>\n",
              "    <tr>\n",
              "      <th>63</th>\n",
              "      <td>175.0</td>\n",
              "      <td>102.823372</td>\n",
              "    </tr>\n",
              "  </tbody>\n",
              "</table>\n",
              "<p>100 rows × 2 columns</p>\n",
              "</div>\n",
              "      <button class=\"colab-df-convert\" onclick=\"convertToInteractive('df-9cfa452d-6abd-422e-9265-57b7ac78d867')\"\n",
              "              title=\"Convert this dataframe to an interactive table.\"\n",
              "              style=\"display:none;\">\n",
              "        \n",
              "  <svg xmlns=\"http://www.w3.org/2000/svg\" height=\"24px\"viewBox=\"0 0 24 24\"\n",
              "       width=\"24px\">\n",
              "    <path d=\"M0 0h24v24H0V0z\" fill=\"none\"/>\n",
              "    <path d=\"M18.56 5.44l.94 2.06.94-2.06 2.06-.94-2.06-.94-.94-2.06-.94 2.06-2.06.94zm-11 1L8.5 8.5l.94-2.06 2.06-.94-2.06-.94L8.5 2.5l-.94 2.06-2.06.94zm10 10l.94 2.06.94-2.06 2.06-.94-2.06-.94-.94-2.06-.94 2.06-2.06.94z\"/><path d=\"M17.41 7.96l-1.37-1.37c-.4-.4-.92-.59-1.43-.59-.52 0-1.04.2-1.43.59L10.3 9.45l-7.72 7.72c-.78.78-.78 2.05 0 2.83L4 21.41c.39.39.9.59 1.41.59.51 0 1.02-.2 1.41-.59l7.78-7.78 2.81-2.81c.8-.78.8-2.07 0-2.86zM5.41 20L4 18.59l7.72-7.72 1.47 1.35L5.41 20z\"/>\n",
              "  </svg>\n",
              "      </button>\n",
              "      \n",
              "  <style>\n",
              "    .colab-df-container {\n",
              "      display:flex;\n",
              "      flex-wrap:wrap;\n",
              "      gap: 12px;\n",
              "    }\n",
              "\n",
              "    .colab-df-convert {\n",
              "      background-color: #E8F0FE;\n",
              "      border: none;\n",
              "      border-radius: 50%;\n",
              "      cursor: pointer;\n",
              "      display: none;\n",
              "      fill: #1967D2;\n",
              "      height: 32px;\n",
              "      padding: 0 0 0 0;\n",
              "      width: 32px;\n",
              "    }\n",
              "\n",
              "    .colab-df-convert:hover {\n",
              "      background-color: #E2EBFA;\n",
              "      box-shadow: 0px 1px 2px rgba(60, 64, 67, 0.3), 0px 1px 3px 1px rgba(60, 64, 67, 0.15);\n",
              "      fill: #174EA6;\n",
              "    }\n",
              "\n",
              "    [theme=dark] .colab-df-convert {\n",
              "      background-color: #3B4455;\n",
              "      fill: #D2E3FC;\n",
              "    }\n",
              "\n",
              "    [theme=dark] .colab-df-convert:hover {\n",
              "      background-color: #434B5C;\n",
              "      box-shadow: 0px 1px 3px 1px rgba(0, 0, 0, 0.15);\n",
              "      filter: drop-shadow(0px 1px 2px rgba(0, 0, 0, 0.3));\n",
              "      fill: #FFFFFF;\n",
              "    }\n",
              "  </style>\n",
              "\n",
              "      <script>\n",
              "        const buttonEl =\n",
              "          document.querySelector('#df-9cfa452d-6abd-422e-9265-57b7ac78d867 button.colab-df-convert');\n",
              "        buttonEl.style.display =\n",
              "          google.colab.kernel.accessAllowed ? 'block' : 'none';\n",
              "\n",
              "        async function convertToInteractive(key) {\n",
              "          const element = document.querySelector('#df-9cfa452d-6abd-422e-9265-57b7ac78d867');\n",
              "          const dataTable =\n",
              "            await google.colab.kernel.invokeFunction('convertToInteractive',\n",
              "                                                     [key], {});\n",
              "          if (!dataTable) return;\n",
              "\n",
              "          const docLinkHtml = 'Like what you see? Visit the ' +\n",
              "            '<a target=\"_blank\" href=https://colab.research.google.com/notebooks/data_table.ipynb>data table notebook</a>'\n",
              "            + ' to learn more about interactive tables.';\n",
              "          element.innerHTML = '';\n",
              "          dataTable['output_type'] = 'display_data';\n",
              "          await google.colab.output.renderOutput(dataTable, element);\n",
              "          const docLink = document.createElement('div');\n",
              "          docLink.innerHTML = docLinkHtml;\n",
              "          element.appendChild(docLink);\n",
              "        }\n",
              "      </script>\n",
              "    </div>\n",
              "  </div>\n",
              "  "
            ]
          },
          "metadata": {},
          "execution_count": 84
        }
      ]
    }
  ]
}